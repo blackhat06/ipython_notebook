{
 "metadata": {
  "name": "Whoosh_testing"
 },
 "nbformat": 3,
 "nbformat_minor": 0,
 "worksheets": [
  {
   "cells": [
    {
     "cell_type": "code",
     "collapsed": false,
     "input": [
      "from whoosh.index import create_in\n",
      "from whoosh.fields import *\n",
      "schema = Schema(title=TEXT(stored=True), path=ID(stored=True), content=TEXT(stored=True))\n",
      "ix =create_in(\"index\", schema)\n",
      "writer = ix.writer()\n",
      "writer.add_document(title=u\"First document\",content=u\"This is the first document we've added!\")\n",
      "writer.add_document(title=u\"First document\",content=u\"This is the firat document we've added!\")\n",
      "writer.add_document(title=u\"Second document\",content=u\"The second one is even more interesting!\")\n",
      "writer.commit()\n",
      "from whoosh.qparser import QueryParser\n",
      "with ix.searcher() as searcher:\n",
      "    query = QueryParser(\"content\", ix.schema).parse(u\"first\")\n",
      "    results = searcher.search(query)\n",
      "    print results\n"
     ],
     "language": "python",
     "metadata": {},
     "outputs": [
      {
       "output_type": "stream",
       "stream": "stdout",
       "text": [
        "<Top 1 Results for Term('content', u'first') runtime=0.000549077987671>\n"
       ]
      }
     ],
     "prompt_number": 9
    },
    {
     "cell_type": "code",
     "collapsed": false,
     "input": [
      "import os\n",
      "from whoosh.fields import Schema, TEXT, STORED\n",
      "from whoosh.index import create_in, open_dir\n",
      "from whoosh.query import *\n",
      "\n",
      "\n",
      "#creating the index\n",
      "if not os.path.exists(\"index\"):\n",
      "    os.mkdir(\"index\")\n",
      "\n",
      "schema = Schema(tax_id=STORED, name =TEXT(stored=True))\n",
      "\n",
      "ix =create_in(\"index\",schema)\n",
      "writer = ix.writer()\n",
      "writer.add_document(tax_id=\"17\",name=u\"Abhi\")\n",
      "writer.add_document(tax_id=\"17\",name=u\"Methyliphilus methylitrophus\")\n",
      "writer.add_document(tax_id=\"17\",name=u\"Methylophilus methylotrophus Jenkins et al. 1987\")\n",
      "writer.add_document(tax_id=\"45\",name=u\"Chondromyces lichenicolus\")\n",
      "writer.commit()\n",
      "\n",
      "with ix.searcher() as searcher:\n",
      "    query = QueryParser(\"name\",ix.schema).parse(u'Jenkins')\n",
      "    results = searcher.search(query)\n",
      "    for result in results:\n",
      "        print result\n"
     ],
     "language": "python",
     "metadata": {},
     "outputs": [
      {
       "output_type": "stream",
       "stream": "stdout",
       "text": [
        "<Hit {'name': u'Methylophilus methylotrophus Jenkins et al. 1987', 'tax_id': '17'}>\n"
       ]
      }
     ],
     "prompt_number": 18
    },
    {
     "cell_type": "code",
     "collapsed": false,
     "input": [
      "ix=open_dir(\"index\")\n",
      "\n",
      "\"\"\"\n",
      "with ix.searcher() as searcher:\n",
      "    query = QueryParser(\"name\", ix.schema).parse(u'Shewanella')\n",
      "    results = searcher.search(query)\n",
      "    for result in results:\n",
      "        print result\n",
      "\"\"\""
     ],
     "language": "python",
     "metadata": {},
     "outputs": [],
     "prompt_number": 20
    },
    {
     "cell_type": "code",
     "collapsed": false,
     "input": [],
     "language": "python",
     "metadata": {},
     "outputs": []
    }
   ],
   "metadata": {}
  }
 ]
}