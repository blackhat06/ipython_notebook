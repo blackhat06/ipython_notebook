{
 "metadata": {
  "name": "pandas_Baby_Names"
 }, 
 "nbformat": 2, 
 "worksheets": [
  {
   "cells": [
    {
     "cell_type": "code", 
     "collapsed": true, 
     "input": [
      "from pandas import *", 
      "", 
      "import pandas", 
      "", 
      "pandas.__version__", 
      "", 
      "##turning off the html printing of tables", 
      "set_printoptions(notebook_repr_html = False)", 
      "", 
      "set_printoptions(max_rows=500)", 
      "", 
      "names = read_csv('baby-names2.csv')"
     ], 
     "language": "python", 
     "outputs": [], 
     "prompt_number": 26
    }, 
    {
     "cell_type": "code", 
     "collapsed": false, 
     "input": [
      "print pandas.__version__"
     ], 
     "language": "python", 
     "outputs": [
      {
       "output_type": "stream", 
       "stream": "stdout", 
       "text": [
        "0.7.1"
       ]
      }
     ], 
     "prompt_number": 27
    }, 
    {
     "cell_type": "code", 
     "collapsed": false, 
     "input": [
      "names.head()"
     ], 
     "language": "python", 
     "outputs": [
      {
       "output_type": "pyout", 
       "prompt_number": 22, 
       "text": [
        "   year     name      prop  sex soundex", 
        "0  1880     John  0.081541  boy    J500", 
        "1  1880  William  0.080511  boy    W450", 
        "2  1880    James  0.050057  boy    J520", 
        "3  1880  Charles  0.045167  boy    C642", 
        "4  1880   George  0.043292  boy    G620"
       ]
      }
     ], 
     "prompt_number": 22
    }, 
    {
     "cell_type": "code", 
     "collapsed": false, 
     "input": [
      "names[names.year == 1880].tail()"
     ], 
     "language": "python", 
     "outputs": [
      {
       "output_type": "pyout", 
       "prompt_number": 23, 
       "text": [
        "        year     name      prop   sex soundex", 
        "129995  1880  Emaline  0.000041  girl    E545", 
        "129996  1880    Ester  0.000041  girl    E236", 
        "129997  1880    Eulah  0.000041  girl    E400", 
        "129998  1880  Eulalie  0.000041  girl    E440", 
        "129999  1880     Euna  0.000041  girl    E500"
       ]
      }
     ], 
     "prompt_number": 23
    }, 
    {
     "cell_type": "code", 
     "collapsed": true, 
     "input": [
      "boys = names[names.sex == \"boy\"]", 
      "girls = names[names.sex == \"girl\"]"
     ], 
     "language": "python", 
     "outputs": [], 
     "prompt_number": 24
    }, 
    {
     "cell_type": "code", 
     "collapsed": false, 
     "input": [
      "boys.head()"
     ], 
     "language": "python", 
     "outputs": [
      {
       "output_type": "pyout", 
       "prompt_number": 25, 
       "text": [
        "   year     name      prop  sex soundex", 
        "0  1880     John  0.081541  boy    J500", 
        "1  1880  William  0.080511  boy    W450", 
        "2  1880    James  0.050057  boy    J520", 
        "3  1880  Charles  0.045167  boy    C642", 
        "4  1880   George  0.043292  boy    G620"
       ]
      }
     ], 
     "prompt_number": 25
    }, 
    {
     "cell_type": "code", 
     "collapsed": false, 
     "input": [
      "girls.head()"
     ], 
     "language": "python", 
     "outputs": [
      {
       "output_type": "pyout", 
       "prompt_number": 9, 
       "text": [
        "        year       name      prop   sex soundex", 
        "129000  1880       Mary  0.072381  girl    M600", 
        "129001  1880       Anna  0.026678  girl    A500", 
        "129002  1880       Emma  0.020521  girl    E500", 
        "129003  1880  Elizabeth  0.019865  girl    E421", 
        "129004  1880     Minnie  0.017888  girl    M500"
       ]
      }
     ], 
     "prompt_number": 9
    }, 
    {
     "cell_type": "code", 
     "collapsed": false, 
     "input": [
      "names[names.year == 1880]"
     ], 
     "language": "python", 
     "outputs": [
      {
       "output_type": "pyout", 
       "prompt_number": 10, 
       "text": [
        "&lt;class &apos;pandas.core.frame.DataFrame&apos;&gt;", 
        "Int64Index: 2000 entries, 0 to 129999", 
        "Data columns:", 
        "year       2000  non-null values", 
        "name       2000  non-null values", 
        "prop       2000  non-null values", 
        "sex        2000  non-null values", 
        "soundex    2000  non-null values", 
        "dtypes: float64(1), int64(1), object(3)"
       ]
      }
     ], 
     "prompt_number": 10
    }, 
    {
     "cell_type": "code", 
     "collapsed": false, 
     "input": [
      "girls", 
      "boys"
     ], 
     "language": "python", 
     "outputs": [
      {
       "output_type": "pyout", 
       "prompt_number": 11, 
       "text": [
        "&lt;class &apos;pandas.core.frame.DataFrame&apos;&gt;", 
        "Int64Index: 129000 entries, 0 to 128999", 
        "Data columns:", 
        "year       129000  non-null values", 
        "name       129000  non-null values", 
        "prop       129000  non-null values", 
        "sex        129000  non-null values", 
        "soundex    129000  non-null values", 
        "dtypes: float64(1), int64(1), object(3)"
       ]
      }
     ], 
     "prompt_number": 11
    }, 
    {
     "cell_type": "code", 
     "collapsed": false, 
     "input": [
      "boys"
     ], 
     "language": "python", 
     "outputs": [
      {
       "output_type": "pyout", 
       "prompt_number": 12, 
       "text": [
        "&lt;class &apos;pandas.core.frame.DataFrame&apos;&gt;", 
        "Int64Index: 129000 entries, 0 to 128999", 
        "Data columns:", 
        "year       129000  non-null values", 
        "name       129000  non-null values", 
        "prop       129000  non-null values", 
        "sex        129000  non-null values", 
        "soundex    129000  non-null values", 
        "dtypes: float64(1), int64(1), object(3)"
       ]
      }
     ], 
     "prompt_number": 12
    }, 
    {
     "cell_type": "code", 
     "collapsed": false, 
     "input": [
      "girls"
     ], 
     "language": "python", 
     "outputs": [
      {
       "output_type": "pyout", 
       "prompt_number": 30, 
       "text": [
        "&lt;class &apos;pandas.core.frame.DataFrame&apos;&gt;", 
        "Int64Index: 129000 entries, 129000 to 257999", 
        "Data columns:", 
        "year       129000  non-null values", 
        "name       129000  non-null values", 
        "prop       129000  non-null values", 
        "sex        129000  non-null values", 
        "soundex    129000  non-null values", 
        "dtypes: float64(1), int64(1), object(3)"
       ]
      }
     ], 
     "prompt_number": 30
    }, 
    {
     "cell_type": "code", 
     "collapsed": false, 
     "input": [
      "boys.groupby('year')"
     ], 
     "language": "python", 
     "outputs": [
      {
       "output_type": "pyout", 
       "prompt_number": 28, 
       "text": [
        "&lt;pandas.core.groupby.DataFrameGroupBy at 0x7a51950&gt;"
       ]
      }
     ], 
     "prompt_number": 28
    }, 
    {
     "cell_type": "code", 
     "collapsed": false, 
     "input": [
      "names.groupby(['year','sex']).size()"
     ], 
     "language": "python", 
     "outputs": [
      {
       "output_type": "pyout", 
       "prompt_number": 17, 
       "text": [
        "year  sex ", 
        "1880  boy     1000", 
        "      girl    1000", 
        "1881  boy     1000", 
        "      girl    1000", 
        "1882  boy     1000", 
        "      girl    1000", 
        "1883  boy     1000", 
        "      girl    1000", 
        "1884  boy     1000", 
        "      girl    1000", 
        "1885  boy     1000", 
        "      girl    1000", 
        "1886  boy     1000", 
        "      girl    1000", 
        "1887  boy     1000", 
        "      girl    1000", 
        "1888  boy     1000", 
        "      girl    1000", 
        "1889  boy     1000", 
        "      girl    1000", 
        "1890  boy     1000", 
        "      girl    1000", 
        "1891  boy     1000", 
        "      girl    1000", 
        "1892  boy     1000", 
        "      girl    1000", 
        "1893  boy     1000", 
        "      girl    1000", 
        "1894  boy     1000", 
        "      girl    1000", 
        "1895  boy     1000", 
        "      girl    1000", 
        "1896  boy     1000", 
        "      girl    1000", 
        "1897  boy     1000", 
        "      girl    1000", 
        "1898  boy     1000", 
        "      girl    1000", 
        "1899  boy     1000", 
        "      girl    1000", 
        "1900  boy     1000", 
        "      girl    1000", 
        "1901  boy     1000", 
        "      girl    1000", 
        "1902  boy     1000", 
        "      girl    1000", 
        "1903  boy     1000", 
        "      girl    1000", 
        "1904  boy     1000", 
        "      girl    1000", 
        "1905  boy     1000", 
        "      girl    1000", 
        "1906  boy     1000", 
        "      girl    1000", 
        "1907  boy     1000", 
        "      girl    1000", 
        "1908  boy     1000", 
        "      girl    1000", 
        "1909  boy     1000", 
        "      girl    1000", 
        "1910  boy     1000", 
        "      girl    1000", 
        "1911  boy     1000", 
        "      girl    1000", 
        "1912  boy     1000", 
        "      girl    1000", 
        "1913  boy     1000", 
        "      girl    1000", 
        "1914  boy     1000", 
        "      girl    1000", 
        "1915  boy     1000", 
        "      girl    1000", 
        "1916  boy     1000", 
        "      girl    1000", 
        "1917  boy     1000", 
        "      girl    1000", 
        "1918  boy     1000", 
        "      girl    1000", 
        "1919  boy     1000", 
        "      girl    1000", 
        "1920  boy     1000", 
        "      girl    1000", 
        "1921  boy     1000", 
        "      girl    1000", 
        "1922  boy     1000", 
        "      girl    1000", 
        "1923  boy     1000", 
        "      girl    1000", 
        "1924  boy     1000", 
        "      girl    1000", 
        "1925  boy     1000", 
        "      girl    1000", 
        "1926  boy     1000", 
        "      girl    1000", 
        "1927  boy     1000", 
        "      girl    1000", 
        "1928  boy     1000", 
        "      girl    1000", 
        "1929  boy     1000", 
        "      girl    1000", 
        "1930  boy     1000", 
        "      girl    1000", 
        "1931  boy     1000", 
        "      girl    1000", 
        "1932  boy     1000", 
        "      girl    1000", 
        "1933  boy     1000", 
        "      girl    1000", 
        "1934  boy     1000", 
        "      girl    1000", 
        "1935  boy     1000", 
        "      girl    1000", 
        "1936  boy     1000", 
        "      girl    1000", 
        "1937  boy     1000", 
        "      girl    1000", 
        "1938  boy     1000", 
        "      girl    1000", 
        "1939  boy     1000", 
        "      girl    1000", 
        "1940  boy     1000", 
        "      girl    1000", 
        "1941  boy     1000", 
        "      girl    1000", 
        "1942  boy     1000", 
        "      girl    1000", 
        "1943  boy     1000", 
        "      girl    1000", 
        "1944  boy     1000", 
        "      girl    1000", 
        "1945  boy     1000", 
        "      girl    1000", 
        "1946  boy     1000", 
        "      girl    1000", 
        "1947  boy     1000", 
        "      girl    1000", 
        "1948  boy     1000", 
        "      girl    1000", 
        "1949  boy     1000", 
        "      girl    1000", 
        "1950  boy     1000", 
        "      girl    1000", 
        "1951  boy     1000", 
        "      girl    1000", 
        "1952  boy     1000", 
        "      girl    1000", 
        "1953  boy     1000", 
        "      girl    1000", 
        "1954  boy     1000", 
        "      girl    1000", 
        "1955  boy     1000", 
        "      girl    1000", 
        "1956  boy     1000", 
        "      girl    1000", 
        "1957  boy     1000", 
        "      girl    1000", 
        "1958  boy     1000", 
        "      girl    1000", 
        "1959  boy     1000", 
        "      girl    1000", 
        "1960  boy     1000", 
        "      girl    1000", 
        "1961  boy     1000", 
        "      girl    1000", 
        "1962  boy     1000", 
        "      girl    1000", 
        "1963  boy     1000", 
        "      girl    1000", 
        "1964  boy     1000", 
        "      girl    1000", 
        "1965  boy     1000", 
        "      girl    1000", 
        "1966  boy     1000", 
        "      girl    1000", 
        "1967  boy     1000", 
        "      girl    1000", 
        "1968  boy     1000", 
        "      girl    1000", 
        "1969  boy     1000", 
        "      girl    1000", 
        "1970  boy     1000", 
        "      girl    1000", 
        "1971  boy     1000", 
        "      girl    1000", 
        "1972  boy     1000", 
        "      girl    1000", 
        "1973  boy     1000", 
        "      girl    1000", 
        "1974  boy     1000", 
        "      girl    1000", 
        "1975  boy     1000", 
        "      girl    1000", 
        "1976  boy     1000", 
        "      girl    1000", 
        "1977  boy     1000", 
        "      girl    1000", 
        "1978  boy     1000", 
        "      girl    1000", 
        "1979  boy     1000", 
        "      girl    1000", 
        "1980  boy     1000", 
        "      girl    1000", 
        "1981  boy     1000", 
        "      girl    1000", 
        "1982  boy     1000", 
        "      girl    1000", 
        "1983  boy     1000", 
        "      girl    1000", 
        "1984  boy     1000", 
        "      girl    1000", 
        "1985  boy     1000", 
        "      girl    1000", 
        "1986  boy     1000", 
        "      girl    1000", 
        "1987  boy     1000", 
        "      girl    1000", 
        "1988  boy     1000", 
        "      girl    1000", 
        "1989  boy     1000", 
        "      girl    1000", 
        "1990  boy     1000", 
        "      girl    1000", 
        "1991  boy     1000", 
        "      girl    1000", 
        "1992  boy     1000", 
        "      girl    1000", 
        "1993  boy     1000", 
        "      girl    1000", 
        "1994  boy     1000", 
        "      girl    1000", 
        "1995  boy     1000", 
        "      girl    1000", 
        "1996  boy     1000", 
        "      girl    1000", 
        "1997  boy     1000", 
        "      girl    1000", 
        "1998  boy     1000", 
        "      girl    1000", 
        "1999  boy     1000", 
        "      girl    1000", 
        "2000  boy     1000", 
        "      girl    1000", 
        "2001  boy     1000", 
        "      girl    1000", 
        "2002  boy     1000", 
        "      girl    1000", 
        "2003  boy     1000", 
        "      girl    1000", 
        "2004  boy     1000", 
        "      girl    1000", 
        "2005  boy     1000", 
        "      girl    1000", 
        "2006  boy     1000", 
        "      girl    1000", 
        "2007  boy     1000", 
        "      girl    1000", 
        "2008  boy     1000", 
        "      girl    1000", 
        "Length: 258"
       ]
      }
     ], 
     "prompt_number": 17
    }, 
    {
     "cell_type": "code", 
     "collapsed": false, 
     "input": [
      "names.groupby(['year','sex']).size().ix[2000]"
     ], 
     "language": "python", 
     "outputs": [
      {
       "output_type": "pyout", 
       "prompt_number": 31, 
       "text": [
        "sex", 
        "boy     1000", 
        "girl    1000"
       ]
      }
     ], 
     "prompt_number": 31
    }, 
    {
     "cell_type": "code", 
     "collapsed": false, 
     "input": [
      "boys[boys.year == 2000][:5]"
     ], 
     "language": "python", 
     "outputs": [
      {
       "output_type": "pyout", 
       "prompt_number": 39, 
       "text": [
        "        year         name      prop  sex soundex", 
        "120000  2000        Jacob  0.016514  boy    J210", 
        "120001  2000      Michael  0.015346  boy    M240", 
        "120002  2000      Matthew  0.013695  boy    M300", 
        "120003  2000       Joshua  0.013194  boy    J200", 
        "120004  2000  Christopher  0.011990  boy    C623"
       ]
      }
     ], 
     "prompt_number": 39
    }, 
    {
     "cell_type": "code", 
     "collapsed": false, 
     "input": [
      "def getmax_record(group):", 
      "    return group.ix[group.prop.idxmax()]", 
      "", 
      "getmax_record(boys)"
     ], 
     "language": "python", 
     "outputs": [
      {
       "output_type": "pyout", 
       "prompt_number": 29, 
       "text": [
        "year           1880", 
        "name           John", 
        "prop       0.081541", 
        "sex             boy", 
        "soundex        J500"
       ]
      }
     ], 
     "prompt_number": 29
    }, 
    {
     "cell_type": "code", 
     "collapsed": false, 
     "input": [
      "result  = boys.groupby('year').apply(getmax_record)", 
      "result", 
      "", 
      "result.prop.plot()"
     ], 
     "language": "python", 
     "outputs": [
      {
       "output_type": "pyout", 
       "prompt_number": 35, 
       "text": [
        "&lt;matplotlib.axes.AxesSubplot at 0x36f06d0&gt;"
       ]
      }, 
      {
       "output_type": "display_data", 
       "png": "[encoded data removed]"
      }
     ], 
     "prompt_number": 35
    }, 
    {
     "cell_type": "code", 
     "collapsed": false, 
     "input": [
      "timeit boys[boys.name == \"Travis\"].prop.plot()"
     ], 
     "language": "python", 
     "outputs": [
      {
       "output_type": "stream", 
       "stream": "stdout", 
       "text": [
        "10 loops, best of 3: 26.7 ms per loop"
       ]
      }, 
      {
       "output_type": "display_data", 
       "png": "[encoded data removed]"
      }
     ], 
     "prompt_number": 49
    }, 
    {
     "cell_type": "code", 
     "collapsed": false, 
     "input": [
      "#creating ADDITIONAL indexes on a data frame", 
      "#benefits of indexing. See second plot below which is 5 times faster than the line above", 
      "idf_boys = boys.set_index(['name','year'])", 
      "idf_boys[-50:]"
     ], 
     "language": "python", 
     "outputs": [
      {
       "output_type": "pyout", 
       "prompt_number": 37, 
       "text": [
        "                    prop  sex soundex", 
        "name      year                       ", 
        "Reilly    2008  0.000097  boy    R400", 
        "Sheldon   2008  0.000097  boy    S435", 
        "Abdullah  2008  0.000097  boy    A134", 
        "Jagger    2008  0.000097  boy    J260", 
        "Thaddeus  2008  0.000097  boy    T320", 
        "Case      2008  0.000096  boy    C200", 
        "Kyson     2008  0.000096  boy    K250", 
        "Lamont    2008  0.000096  boy    L553", 
        "Chaz      2008  0.000096  boy    C200", 
        "Makhi     2008  0.000096  boy    M200", 
        "Jan       2008  0.000095  boy    J500", 
        "Marques   2008  0.000095  boy    M622", 
        "Oswaldo   2008  0.000095  boy    O243", 
        "Donavan   2008  0.000095  boy    D515", 
        "Keyon     2008  0.000095  boy    K500", 
        "Kyan      2008  0.000095  boy    K500", 
        "Simeon    2008  0.000095  boy    S550", 
        "Trystan   2008  0.000095  boy    T623", 
        "Andreas   2008  0.000094  boy    A536", 
        "Dangelo   2008  0.000094  boy    D524", 
        "Landin    2008  0.000094  boy    L535", 
        "Reagan    2008  0.000094  boy    R250", 
        "Turner    2008  0.000094  boy    T656", 
        "Arnav     2008  0.000094  boy    A651", 
        "Brenton   2008  0.000094  boy    B653", 
        "Callum    2008  0.000094  boy    C450", 
        "Jayvion   2008  0.000094  boy    J150", 
        "Bridger   2008  0.000093  boy    B632", 
        "Sammy     2008  0.000093  boy    S500", 
        "Deegan    2008  0.000093  boy    D250", 
        "Jaylan    2008  0.000093  boy    J450", 
        "Lennon    2008  0.000093  boy    L550", 
        "Odin      2008  0.000093  boy    O350", 
        "Abdiel    2008  0.000092  boy    A134", 
        "Jerimiah  2008  0.000092  boy    J650", 
        "Eliezer   2008  0.000092  boy    E426", 
        "Bronson   2008  0.000091  boy    B652", 
        "Cornelius 2008  0.000091  boy    C654", 
        "Pierre    2008  0.000091  boy    P600", 
        "Cortez    2008  0.000091  boy    C632", 
        "Baron     2008  0.000090  boy    B650", 
        "Carlo     2008  0.000090  boy    C640", 
        "Carsen    2008  0.000090  boy    C625", 
        "Fletcher  2008  0.000090  boy    F432", 
        "Izayah    2008  0.000090  boy    I200", 
        "Kolten    2008  0.000090  boy    K435", 
        "Damari    2008  0.000089  boy    D560", 
        "Hugh      2008  0.000089  boy    H200", 
        "Jensen    2008  0.000089  boy    J525", 
        "Yurem     2008  0.000089  boy    Y650"
       ]
      }
     ], 
     "prompt_number": 37
    }, 
    {
     "cell_type": "code", 
     "collapsed": false, 
     "input": [
      "timeit idf_boys.ix['Travis'].prop.plot()"
     ], 
     "language": "python", 
     "outputs": [
      {
       "output_type": "stream", 
       "stream": "stdout", 
       "text": [
        "100 loops, best of 3: 5.02 ms per loop"
       ]
      }, 
      {
       "output_type": "display_data", 
       "png": "[encoded data removed]"
      }
     ], 
     "prompt_number": 38
    }, 
    {
     "cell_type": "code", 
     "collapsed": false, 
     "input": [
      "idf_boys"
     ], 
     "language": "python", 
     "outputs": [
      {
       "output_type": "pyout", 
       "prompt_number": 40, 
       "text": [
        "&lt;class &apos;pandas.core.frame.DataFrame&apos;&gt;", 
        "MultiIndex: 129000 entries, (&apos;John&apos;, 1880) to (&apos;Yurem&apos;, 2008)", 
        "Data columns:", 
        "prop       129000  non-null values", 
        "sex        129000  non-null values", 
        "soundex    129000  non-null values", 
        "dtypes: float64(1), object(2)"
       ]
      }
     ], 
     "prompt_number": 40
    }, 
    {
     "cell_type": "code", 
     "collapsed": false, 
     "input": [
      "results = boys.groupby('year')['prop'].describe()", 
      "results"
     ], 
     "language": "python", 
     "outputs": [
      {
       "output_type": "pyout", 
       "prompt_number": 60, 
       "text": [
        "      count      mean       std       min       25%       50%       75%       max", 
        "year                                                                             ", 
        "1880   1000  0.000931  0.004871  0.000042  0.000059  0.000118  0.000372  0.081541", 
        "1881   1000  0.000930  0.004812  0.000037  0.000065  0.000120  0.000369  0.080975", 
        "1882   1000  0.000928  0.004691  0.000041  0.000066  0.000115  0.000377  0.078314", 
        "1883   1000  0.000929  0.004675  0.000044  0.000062  0.000116  0.000382  0.079066", 
        "1884   1000  0.000927  0.004542  0.000041  0.000065  0.000122  0.000385  0.076476", 
        "1885   1000  0.000926  0.004459  0.000043  0.000069  0.000121  0.000373  0.075517", 
        "1886   1000  0.000926  0.004447  0.000042  0.000067  0.000118  0.000397  0.075820", 
        "1887   1000  0.000925  0.004380  0.000046  0.000073  0.000119  0.000366  0.074181", 
        "1888   1000  0.000923  0.004294  0.000046  0.000069  0.000123  0.000379  0.071186", 
        "1889   1000  0.000924  0.004260  0.000042  0.000067  0.000118  0.000355  0.071804", 
        "1890   1000  0.000921  0.004191  0.000042  0.000067  0.000125  0.000384  0.071034", 
        "1891   1000  0.000920  0.004126  0.000046  0.000073  0.000119  0.000368  0.070292", 
        "1892   1000  0.000918  0.004059  0.000046  0.000068  0.000122  0.000382  0.068759", 
        "1893   1000  0.000920  0.004022  0.000050  0.000074  0.000124  0.000413  0.066495", 
        "1894   1000  0.000917  0.003951  0.000048  0.000072  0.000136  0.000384  0.065961", 
        "1895   1000  0.000917  0.003925  0.000047  0.000071  0.000130  0.000405  0.065699", 
        "1896   1000  0.000915  0.003875  0.000046  0.000077  0.000132  0.000411  0.063051", 
        "1897   1000  0.000915  0.003856  0.000049  0.000074  0.000131  0.000402  0.061907", 
        "1898   1000  0.000917  0.003828  0.000053  0.000068  0.000136  0.000378  0.061770", 
        "1899   1000  0.000913  0.003728  0.000052  0.000078  0.000139  0.000384  0.060674", 
        "1900   1000  0.000909  0.003749  0.000049  0.000074  0.000136  0.000409  0.060619", 
        "1901   1000  0.000912  0.003664  0.000052  0.000078  0.000138  0.000415  0.059677", 
        "1902   1000  0.000911  0.003651  0.000053  0.000075  0.000143  0.000414  0.059568", 
        "1903   1000  0.000909  0.003606  0.000054  0.000077  0.000147  0.000433  0.058833", 
        "1904   1000  0.000909  0.003565  0.000051  0.000079  0.000137  0.000419  0.058535", 
        "1905   1000  0.000907  0.003496  0.000056  0.000077  0.000147  0.000421  0.056266", 
        "1906   1000  0.000907  0.003513  0.000056  0.000083  0.000146  0.000430  0.057359", 
        "1907   1000  0.000905  0.003461  0.000050  0.000082  0.000139  0.000448  0.056635", 
        "1908   1000  0.000906  0.003469  0.000054  0.000078  0.000150  0.000427  0.056150", 
        "1909   1000  0.000903  0.003423  0.000057  0.000085  0.000153  0.000447  0.054234", 
        "1910   1000  0.000903  0.003427  0.000053  0.000082  0.000151  0.000446  0.054914", 
        "1911   1000  0.000906  0.003451  0.000050  0.000079  0.000145  0.000433  0.055709", 
        "1912   1000  0.000913  0.003421  0.000047  0.000075  0.000139  0.000441  0.054465", 
        "1913   1000  0.000914  0.003433  0.000047  0.000073  0.000142  0.000421  0.054678", 
        "1914   1000  0.000913  0.003455  0.000047  0.000073  0.000140  0.000427  0.055531", 
        "1915   1000  0.000916  0.003440  0.000045  0.000073  0.000141  0.000409  0.054005", 
        "1916   1000  0.000916  0.003462  0.000044  0.000073  0.000139  0.000429  0.054202", 
        "1917   1000  0.000917  0.003490  0.000045  0.000072  0.000139  0.000423  0.054062", 
        "1918   1000  0.000919  0.003509  0.000043  0.000071  0.000136  0.000429  0.053923", 
        "1919   1000  0.000916  0.003506  0.000045  0.000072  0.000140  0.000439  0.052724", 
        "1920   1000  0.000919  0.003590  0.000044  0.000070  0.000133  0.000441  0.051710", 
        "1921   1000  0.000921  0.003614  0.000044  0.000069  0.000134  0.000438  0.051160", 
        "1922   1000  0.000920  0.003630  0.000044  0.000069  0.000135  0.000448  0.050889", 
        "1923   1000  0.000922  0.003670  0.000043  0.000068  0.000131  0.000445  0.050741", 
        "1924   1000  0.000923  0.003706  0.000043  0.000068  0.000132  0.000452  0.052025", 
        "1925   1000  0.000924  0.003723  0.000041  0.000067  0.000129  0.000449  0.052875", 
        "1926   1000  0.000925  0.003722  0.000042  0.000064  0.000127  0.000433  0.053366", 
        "1927   1000  0.000925  0.003714  0.000043  0.000065  0.000127  0.000443  0.053075", 
        "1928   1000  0.000927  0.003702  0.000041  0.000065  0.000128  0.000443  0.053177", 
        "1929   1000  0.000929  0.003735  0.000042  0.000065  0.000125  0.000447  0.054029", 
        "1930   1000  0.000930  0.003757  0.000042  0.000064  0.000127  0.000442  0.055021", 
        "1931   1000  0.000931  0.003762  0.000041  0.000064  0.000124  0.000428  0.056598", 
        "1932   1000  0.000932  0.003739  0.000041  0.000065  0.000123  0.000430  0.055166", 
        "1933   1000  0.000933  0.003729  0.000040  0.000065  0.000124  0.000425  0.053140", 
        "1934   1000  0.000934  0.003723  0.000040  0.000063  0.000125  0.000434  0.052583", 
        "1935   1000  0.000936  0.003740  0.000038  0.000063  0.000123  0.000430  0.052852", 
        "1936   1000  0.000939  0.003775  0.000038  0.000061  0.000120  0.000417  0.054959", 
        "1937   1000  0.000940  0.003805  0.000037  0.000061  0.000121  0.000418  0.056541", 
        "1938   1000  0.000942  0.003785  0.000036  0.000059  0.000120  0.000414  0.054806", 
        "1939   1000  0.000944  0.003785  0.000036  0.000057  0.000112  0.000405  0.052645", 
        "1940   1000  0.000945  0.003799  0.000035  0.000057  0.000114  0.000405  0.052662", 
        "1941   1000  0.000948  0.003824  0.000033  0.000054  0.000108  0.000393  0.053182", 
        "1942   1000  0.000952  0.003876  0.000032  0.000052  0.000107  0.000374  0.054812", 
        "1943   1000  0.000953  0.003901  0.000031  0.000051  0.000106  0.000384  0.055183", 
        "1944   1000  0.000954  0.003916  0.000031  0.000050  0.000106  0.000385  0.055406", 
        "1945   1000  0.000955  0.003905  0.000030  0.000049  0.000104  0.000386  0.054288", 
        "1946   1000  0.000959  0.003943  0.000028  0.000047  0.000101  0.000374  0.052999", 
        "1947   1000  0.000960  0.003890  0.000028  0.000045  0.000097  0.000373  0.050987", 
        "1948   1000  0.000959  0.003830  0.000028  0.000046  0.000098  0.000371  0.049697", 
        "1949   1000  0.000960  0.003818  0.000027  0.000047  0.000097  0.000368  0.048244", 
        "1950   1000  0.000960  0.003807  0.000027  0.000046  0.000097  0.000383  0.047336", 
        "1951   1000  0.000961  0.003802  0.000026  0.000045  0.000094  0.000368  0.045662", 
        "1952   1000  0.000961  0.003790  0.000026  0.000045  0.000099  0.000376  0.044132", 
        "1953   1000  0.000961  0.003758  0.000026  0.000045  0.000097  0.000374  0.043059", 
        "1954   1000  0.000962  0.003719  0.000027  0.000044  0.000101  0.000373  0.042792", 
        "1955   1000  0.000962  0.003680  0.000027  0.000046  0.000104  0.000362  0.042293", 
        "1956   1000  0.000962  0.003609  0.000026  0.000045  0.000107  0.000382  0.042244", 
        "1957   1000  0.000962  0.003535  0.000026  0.000046  0.000110  0.000420  0.042392", 
        "1958   1000  0.000961  0.003464  0.000027  0.000045  0.000111  0.000460  0.042029", 
        "1959   1000  0.000960  0.003403  0.000028  0.000048  0.000112  0.000467  0.039381", 
        "1960   1000  0.000960  0.003380  0.000027  0.000049  0.000116  0.000468  0.039669", 
        "1961   1000  0.000959  0.003399  0.000028  0.000049  0.000116  0.000450  0.040331", 
        "1962   1000  0.000959  0.003381  0.000028  0.000049  0.000121  0.000450  0.040453", 
        "1963   1000  0.000958  0.003389  0.000028  0.000052  0.000124  0.000444  0.040569", 
        "1964   1000  0.000957  0.003423  0.000028  0.000052  0.000122  0.000461  0.040776", 
        "1965   1000  0.000955  0.003388  0.000028  0.000052  0.000122  0.000466  0.042762", 
        "1966   1000  0.000954  0.003395  0.000029  0.000053  0.000126  0.000453  0.043997", 
        "1967   1000  0.000952  0.003407  0.000030  0.000055  0.000128  0.000450  0.046329", 
        "1968   1000  0.000949  0.003382  0.000031  0.000055  0.000128  0.000461  0.046184", 
        "1969   1000  0.000946  0.003318  0.000032  0.000060  0.000131  0.000455  0.046564", 
        "1970   1000  0.000940  0.003235  0.000035  0.000063  0.000137  0.000484  0.044784", 
        "1971   1000  0.000934  0.003133  0.000036  0.000066  0.000145  0.000490  0.042687", 
        "1972   1000  0.000927  0.003103  0.000039  0.000067  0.000146  0.000487  0.042659", 
        "1973   1000  0.000921  0.003062  0.000041  0.000071  0.000152  0.000487  0.042049", 
        "1974   1000  0.000918  0.003058  0.000041  0.000072  0.000155  0.000490  0.041444", 
        "1975   1000  0.000913  0.002991  0.000041  0.000076  0.000157  0.000495  0.042178", 
        "1976   1000  0.000910  0.002963  0.000042  0.000075  0.000157  0.000482  0.041012", 
        "1977   1000  0.000909  0.002952  0.000043  0.000076  0.000155  0.000475  0.039554", 
        "1978   1000  0.000909  0.002935  0.000044  0.000075  0.000153  0.000474  0.039308", 
        "1979   1000  0.000908  0.002900  0.000044  0.000074  0.000155  0.000473  0.037823", 
        "1980   1000  0.000908  0.002870  0.000044  0.000074  0.000153  0.000484  0.037039", 
        "1981   1000  0.000909  0.002875  0.000045  0.000073  0.000151  0.000468  0.036931", 
        "1982   1000  0.000908  0.002897  0.000044  0.000073  0.000153  0.000470  0.036157", 
        "1983   1000  0.000909  0.002926  0.000042  0.000071  0.000149  0.000448  0.036506", 
        "1984   1000  0.000909  0.002908  0.000042  0.000072  0.000153  0.000465  0.036117", 
        "1985   1000  0.000905  0.002834  0.000043  0.000073  0.000158  0.000467  0.033745", 
        "1986   1000  0.000901  0.002771  0.000044  0.000077  0.000158  0.000466  0.033429", 
        "1987   1000  0.000898  0.002721  0.000047  0.000075  0.000163  0.000469  0.032652", 
        "1988   1000  0.000893  0.002662  0.000047  0.000080  0.000168  0.000470  0.032053", 
        "1989   1000  0.000886  0.002570  0.000050  0.000083  0.000175  0.000491  0.031213", 
        "1990   1000  0.000884  0.002495  0.000052  0.000086  0.000179  0.000506  0.030358", 
        "1991   1000  0.000880  0.002415  0.000054  0.000087  0.000185  0.000517  0.028698", 
        "1992   1000  0.000875  0.002321  0.000056  0.000091  0.000192  0.000549  0.025914", 
        "1993   1000  0.000869  0.002252  0.000058  0.000094  0.000201  0.000553  0.024010", 
        "1994   1000  0.000864  0.002193  0.000060  0.000096  0.000198  0.000563  0.021831", 
        "1995   1000  0.000861  0.002144  0.000061  0.000102  0.000211  0.000559  0.020594", 
        "1996   1000  0.000856  0.002081  0.000062  0.000100  0.000208  0.000589  0.019156", 
        "1997   1000  0.000850  0.002035  0.000064  0.000100  0.000208  0.000584  0.018805", 
        "1998   1000  0.000845  0.001978  0.000068  0.000106  0.000212  0.000587  0.018066", 
        "1999   1000  0.000841  0.001923  0.000069  0.000105  0.000211  0.000614  0.017346", 
        "2000   1000  0.000834  0.001845  0.000071  0.000108  0.000218  0.000643  0.016514", 
        "2001   1000  0.000829  0.001785  0.000074  0.000111  0.000220  0.000644  0.015734", 
        "2002   1000  0.000827  0.001748  0.000076  0.000111  0.000222  0.000629  0.014792", 
        "2003   1000  0.000824  0.001698  0.000075  0.000114  0.000235  0.000625  0.014104", 
        "2004   1000  0.000817  0.001643  0.000078  0.000117  0.000231  0.000624  0.013196", 
        "2005   1000  0.000814  0.001590  0.000081  0.000124  0.000233  0.000618  0.012148", 
        "2006   1000  0.000806  0.001535  0.000084  0.000128  0.000237  0.000626  0.011331", 
        "2007   1000  0.000801  0.001498  0.000087  0.000134  0.000238  0.000634  0.010948", 
        "2008   1000  0.000795  0.001455  0.000089  0.000138  0.000250  0.000642  0.010355"
       ]
      }
     ], 
     "prompt_number": 60
    }, 
    {
     "cell_type": "code", 
     "collapsed": false, 
     "input": [
      "results[-50:]"
     ], 
     "language": "python", 
     "outputs": [
      {
       "output_type": "pyout", 
       "prompt_number": 59, 
       "text": [
        "           count      mean       std       min       25%       50%       75%       max", 
        "name                                                                                  ", 
        "Worth         29  0.000063  0.000015  0.000043  0.000054  0.000060  0.000067  0.000106", 
        "Wright        18  0.000073  0.000019  0.000046  0.000061  0.000072  0.000083  0.000122", 
        "Wyatt        106  0.000345  0.000683  0.000027  0.000053  0.000090  0.000128  0.003367", 
        "Wylie         58  0.000070  0.000028  0.000030  0.000048  0.000059  0.000092  0.000142", 
        "Wyman         14  0.000044  0.000015  0.000026  0.000034  0.000044  0.000047  0.000087", 
        "Xander        10  0.000403  0.000251  0.000078  0.000132  0.000560  0.000590  0.000679", 
        "Xavier        62  0.000651  0.000848  0.000034  0.000082  0.000184  0.001156  0.002966", 
        "Xzavier        9  0.000135  0.000037  0.000086  0.000112  0.000128  0.000175  0.000180", 
        "Yaakov         2  0.000053  0.000008  0.000048  0.000051  0.000053  0.000056  0.000059", 
        "Yadiel         1  0.000098       NaN  0.000098  0.000098  0.000098  0.000098  0.000098", 
        "Yael           2  0.000100  0.000005  0.000096  0.000098  0.000100  0.000101  0.000103", 
        "Yahir          7  0.000373  0.000135  0.000162  0.000338  0.000355  0.000404  0.000608", 
        "Yair           6  0.000127  0.000009  0.000119  0.000121  0.000124  0.000131  0.000142", 
        "Yancy          6  0.000044  0.000011  0.000031  0.000035  0.000043  0.000053  0.000057", 
        "Yandel         3  0.000168  0.000040  0.000137  0.000146  0.000154  0.000184  0.000213", 
        "Yee            6  0.000054  0.000004  0.000049  0.000052  0.000056  0.000057  0.000058", 
        "Yehuda         3  0.000085  0.000007  0.000077  0.000082  0.000087  0.000089  0.000090", 
        "Yoel           3  0.000057  0.000011  0.000047  0.000050  0.000054  0.000062  0.000069", 
        "York           1  0.000065       NaN  0.000065  0.000065  0.000065  0.000065  0.000065", 
        "Yosef         10  0.000094  0.000020  0.000052  0.000085  0.000099  0.000105  0.000118", 
        "Yoshio        11  0.000054  0.000007  0.000046  0.000049  0.000051  0.000058  0.000064", 
        "Young         16  0.000080  0.000020  0.000053  0.000062  0.000083  0.000087  0.000118", 
        "Yurem          2  0.000091  0.000003  0.000089  0.000090  0.000091  0.000092  0.000093", 
        "Yusuf          7  0.000096  0.000021  0.000077  0.000080  0.000086  0.000111  0.000126", 
        "Zachariah     37  0.000275  0.000092  0.000081  0.000219  0.000296  0.000335  0.000417", 
        "Zachary       63  0.003748  0.004195  0.000030  0.000161  0.001623  0.007088  0.012371", 
        "Zachery       36  0.000369  0.000257  0.000043  0.000145  0.000329  0.000576  0.000922", 
        "Zack          50  0.000113  0.000058  0.000045  0.000066  0.000091  0.000159  0.000249", 
        "Zackary       33  0.000373  0.000227  0.000047  0.000141  0.000397  0.000594  0.000671", 
        "Zackery       32  0.000232  0.000125  0.000046  0.000146  0.000231  0.000346  0.000422", 
        "Zaid           3  0.000086  0.000013  0.000076  0.000079  0.000082  0.000092  0.000101", 
        "Zaiden         1  0.000106       NaN  0.000106  0.000106  0.000106  0.000106  0.000106", 
        "Zain           8  0.000100  0.000015  0.000081  0.000089  0.000102  0.000105  0.000126", 
        "Zaire          9  0.000100  0.000014  0.000082  0.000088  0.000098  0.000113  0.000121", 
        "Zakary        17  0.000099  0.000016  0.000062  0.000096  0.000100  0.000103  0.000129", 
        "Zander         9  0.000369  0.000181  0.000071  0.000204  0.000456  0.000493  0.000541", 
        "Zane          88  0.000175  0.000211  0.000033  0.000055  0.000074  0.000176  0.000757", 
        "Zavier         8  0.000098  0.000023  0.000075  0.000083  0.000089  0.000115  0.000140", 
        "Zayden         3  0.000185  0.000078  0.000103  0.000149  0.000194  0.000227  0.000259", 
        "Zayne          5  0.000091  0.000018  0.000076  0.000079  0.000089  0.000091  0.000122", 
        "Zeb           20  0.000080  0.000019  0.000053  0.000067  0.000076  0.000091  0.000123", 
        "Zebulon        5  0.000055  0.000010  0.000044  0.000050  0.000054  0.000055  0.000070", 
        "Zechariah     23  0.000112  0.000036  0.000048  0.000090  0.000117  0.000140  0.000168", 
        "Zed            1  0.000056       NaN  0.000056  0.000056  0.000056  0.000056  0.000056", 
        "Zeke           4  0.000055  0.000004  0.000051  0.000053  0.000054  0.000057  0.000061", 
        "Zenas          1  0.000052       NaN  0.000052  0.000052  0.000052  0.000052  0.000052", 
        "Zeno           5  0.000071  0.000014  0.000053  0.000063  0.000072  0.000075  0.000090", 
        "Zigmund        4  0.000052  0.000005  0.000047  0.000048  0.000052  0.000056  0.000057", 
        "Zion          11  0.000490  0.000165  0.000119  0.000419  0.000482  0.000558  0.000731", 
        "Zollie         8  0.000060  0.000012  0.000049  0.000053  0.000055  0.000061  0.000087"
       ]
      }
     ], 
     "prompt_number": 59
    }, 
    {
     "cell_type": "code", 
     "collapsed": false, 
     "input": [
      "boys['prop'].describe()"
     ], 
     "language": "python", 
     "outputs": [
      {
       "output_type": "pyout", 
       "prompt_number": 56, 
       "text": [
        "count    129000.000000", 
        "mean          0.000916", 
        "std           0.003441", 
        "min           0.000026", 
        "25%           0.000071", 
        "50%           0.000142", 
        "75%           0.000453", 
        "max           0.081541"
       ]
      }
     ], 
     "prompt_number": 56
    }, 
    {
     "cell_type": "code", 
     "collapsed": true, 
     "input": [
      "df = boys[boys.year == 2008].sort_index(by='prop',ascending=False)"
     ], 
     "language": "python", 
     "outputs": [], 
     "prompt_number": 68
    }, 
    {
     "cell_type": "code", 
     "collapsed": false, 
     "input": [
      "#take the sorted proportions ascending = False", 
      "#calculate the cumulative(numpy) and then search for the index where the cumulative index", 
      "# crosses 50%", 
      "df.prop.cumsum().searchsorted(0.5)"
     ], 
     "language": "python", 
     "outputs": [
      {
       "output_type": "pyout", 
       "prompt_number": 71, 
       "text": [
        "127"
       ]
      }
     ], 
     "prompt_number": 71
    }, 
    {
     "cell_type": "code", 
     "collapsed": false, 
     "input": [
      "def get_quantile_count(group,quantile=0.5):", 
      "    df = group.sort_index(by='prop',ascending=False)", 
      "    df ", 
      "    return df.prop.cumsum().searchsorted(quantile)", 
      "", 
      "#f = lambda group: get_quantile_count(x,0.1)", 
      "", 
      "boys_ct = boys.groupby('year').apply(get_quantile_count, quantile=0.2).plot(label='boys')", 
      "girls_ct = girls.groupby('year').apply(get_quantile_count, quantile=0.2).plot(label='girls')", 
      "legend(loc='best')"
     ], 
     "language": "python", 
     "outputs": [
      {
       "output_type": "pyout", 
       "prompt_number": 79, 
       "text": [
        "&lt;matplotlib.legend.Legend at 0xa308e90&gt;"
       ]
      }, 
      {
       "output_type": "display_data", 
       "png": "[encoded data removed]"
      }
     ], 
     "prompt_number": 79
    }, 
    {
     "cell_type": "code", 
     "collapsed": true, 
     "input": [
      "#boys[boys.year == 2008].prop.rank()", 
      "", 
      "grouped = boys.groupby('year')['prop']", 
      "", 
      "boys['year_rank'] = grouped.transform(Series.rank)"
     ], 
     "language": "python", 
     "outputs": [], 
     "prompt_number": 89
    }, 
    {
     "cell_type": "code", 
     "collapsed": false, 
     "input": [
      "boys"
     ], 
     "language": "python", 
     "outputs": [
      {
       "output_type": "pyout", 
       "prompt_number": 90, 
       "text": [
        "&lt;class &apos;pandas.core.frame.DataFrame&apos;&gt;", 
        "Int64Index: 129000 entries, 0 to 128999", 
        "Data columns:", 
        "year         129000  non-null values", 
        "name         129000  non-null values", 
        "prop         129000  non-null values", 
        "sex          129000  non-null values", 
        "soundex      129000  non-null values", 
        "year_rank    129000  non-null values", 
        "dtypes: float64(2), int64(1), object(3)"
       ]
      }
     ], 
     "prompt_number": 90
    }, 
    {
     "cell_type": "code", 
     "collapsed": false, 
     "input": [
      "##difference between transform and apply", 
      "", 
      "#transform is more rigid and faster", 
      "###", 
      "## looking at the results it looks like apply is still faster", 
      "", 
      "", 
      "", 
      "", 
      "grouped = boys.groupby('year')['prop']", 
      "%timeit result = grouped.apply(lambda x: x-x.mean())", 
      "%timeit result = grouped.transform(lambda x: x-x.mean())", 
      "", 
      ""
     ], 
     "language": "python", 
     "outputs": [
      {
       "output_type": "stream", 
       "stream": "stdout", 
       "text": [
        "100 loops, best of 3: 16.6 ms per loop", 
        "10 loops, best of 3: 44.6 ms per loop"
       ]
      }, 
      {
       "output_type": "stream", 
       "stream": "stdout", 
       "text": []
      }
     ], 
     "prompt_number": 100
    }, 
    {
     "cell_type": "code", 
     "collapsed": false, 
     "input": [
      "grouped.transform(lambda x: x -x.mean())"
     ], 
     "language": "python", 
     "outputs": [
      {
       "output_type": "pyout", 
       "prompt_number": 99, 
       "text": [
        "0     0.080610", 
        "1     0.079580", 
        "2     0.049126", 
        "3     0.044236", 
        "4     0.042361", 
        "5     0.026449", 
        "6     0.021298", 
        "7     0.020470", 
        "8     0.019710", 
        "9     0.019473", 
        "10    0.019034", 
        "11    0.017244", 
        "12    0.013891", 
        "13    0.012573", 
        "14    0.012320", 
        "...", 
        "128985   -0.000703", 
        "128986   -0.000704", 
        "128987   -0.000704", 
        "128988   -0.000704", 
        "128989   -0.000704", 
        "128990   -0.000705", 
        "128991   -0.000705", 
        "128992   -0.000705", 
        "128993   -0.000705", 
        "128994   -0.000705", 
        "128995   -0.000705", 
        "128996   -0.000706", 
        "128997   -0.000706", 
        "128998   -0.000706", 
        "128999   -0.000706", 
        "Name: prop, Length: 129000"
       ]
      }
     ], 
     "prompt_number": 99
    }, 
    {
     "cell_type": "code", 
     "collapsed": true, 
     "input": [
      "births = read_csv('births.csv')"
     ], 
     "language": "python", 
     "outputs": [], 
     "prompt_number": 102
    }, 
    {
     "cell_type": "code", 
     "collapsed": false, 
     "input": [
      "births"
     ], 
     "language": "python", 
     "outputs": [
      {
       "output_type": "pyout", 
       "prompt_number": 103, 
       "text": [
        "     year   sex   births", 
        "0    1880   boy   118405", 
        "1    1881   boy   108290", 
        "2    1882   boy   122034", 
        "3    1883   boy   112487", 
        "4    1884   boy   122745", 
        "5    1885   boy   115948", 
        "6    1886   boy   119046", 
        "7    1887   boy   109312", 
        "8    1888   boy   129914", 
        "9    1889   boy   119044", 
        "10   1890   boy   119704", 
        "11   1891   boy   109272", 
        "12   1892   boy   131457", 
        "13   1893   boy   121045", 
        "14   1894   boy   124902", 
        "15   1895   boy   126650", 
        "16   1896   boy   129082", 
        "17   1897   boy   121952", 
        "18   1898   boy   132116", 
        "19   1899   boy   115206", 
        "20   1900   boy   162245", 
        "21   1901   boy   115606", 
        "22   1902   boy   132753", 
        "23   1903   boy   129332", 
        "24   1904   boy   138510", 
        "25   1905   boy   143246", 
        "26   1906   boy   144074", 
        "27   1907   boy   158598", 
        "28   1908   boy   166366", 
        "29   1909   boy   176846", 
        "30   1910   boy   208499", 
        "31   1911   boy   241334", 
        "32   1912   boy   451415", 
        "33   1913   boy   536124", 
        "34   1914   boy   683291", 
        "35   1915   boy   881027", 
        "36   1916   boy   923293", 
        "37   1917   boy   959295", 
        "38   1918   boy  1049042", 
        "39   1919   boy  1015470", 
        "40   1920   boy  1100895", 
        "41   1921   boy  1137788", 
        "42   1922   boy  1125420", 
        "43   1923   boy  1132401", 
        "44   1924   boy  1168863", 
        "45   1925   boy  1151127", 
        "46   1926   boy  1145327", 
        "47   1927   boy  1161129", 
        "48   1928   boy  1140477", 
        "49   1929   boy  1106734", 
        "50   1930   boy  1128585", 
        "51   1931   boy  1068508", 
        "52   1932   boy  1073709", 
        "53   1933   boy  1019176", 
        "54   1934   boy  1061163", 
        "55   1935   boy  1068778", 
        "56   1936   boy  1063649", 
        "57   1937   boy  1092813", 
        "58   1938   boy  1135752", 
        "59   1939   boy  1132731", 
        "60   1940   boy  1185613", 
        "61   1941   boy  1254095", 
        "62   1942   boy  1407606", 
        "63   1943   boy  1453729", 
        "64   1944   boy  1389075", 
        "65   1945   boy  1371149", 
        "66   1946   boy  1648317", 
        "67   1947   boy  1855892", 
        "68   1948   boy  1779842", 
        "69   1949   boy  1797593", 
        "70   1950   boy  1818422", 
        "71   1951   boy  1905909", 
        "72   1952   boy  1973125", 
        "73   1953   boy  1998453", 
        "74   1954   boy  2067213", 
        "75   1955   boy  2087688", 
        "76   1956   boy  2143738", 
        "77   1957   boy  2186874", 
        "78   1958   boy  2152102", 
        "79   1959   boy  2165866", 
        "80   1960   boy  2165791", 
        "81   1961   boy  2154552", 
        "82   1962   boy  2101707", 
        "83   1963   boy  2064918", 
        "84   1964   boy  2026790", 
        "85   1965   boy  1895208", 
        "86   1966   boy  1817507", 
        "87   1967   boy  1779517", 
        "88   1968   boy  1775770", 
        "89   1969   boy  1829787", 
        "90   1970   boy  1904697", 
        "91   1971   boy  1817177", 
        "92   1972   boy  1673978", 
        "93   1973   boy  1613151", 
        "94   1974   boy  1629757", 
        "95   1975   boy  1621883", 
        "96   1976   boy  1632108", 
        "97   1977   boy  1708308", 
        "98   1978   boy  1707216", 
        "99   1979   boy  1789972", 
        "100  1980   boy  1852461", 
        "101  1981   boy  1860120", 
        "102  1982   boy  1884658", 
        "103  1983   boy  1861142", 
        "104  1984   boy  1874075", 
        "105  1985   boy  1922058", 
        "106  1986   boy  1919271", 
        "107  1987   boy  1948239", 
        "108  1988   boy  1999648", 
        "109  1989   boy  2094867", 
        "110  1990   boy  2149965", 
        "111  1991   boy  2118258", 
        "112  1992   boy  2097457", 
        "113  1993   boy  2063750", 
        "114  1994   boy  2036537", 
        "115  1995   boy  2009714", 
        "116  1996   boy  2002142", 
        "117  1997   boy  1996146", 
        "118  1998   boy  2025866", 
        "119  1999   boy  2036939", 
        "120  2000   boy  2085772", 
        "121  2001   boy  2065725", 
        "122  2002   boy  2063688", 
        "123  2003   boy  2097895", 
        "124  2004   boy  2109465", 
        "125  2005   boy  2122493", 
        "126  2006   boy  2186079", 
        "127  2007   boy  2207257", 
        "128  2008   boy  2169740", 
        "129  2009   boy  2095910", 
        "130  1880  girl    97606", 
        "131  1881  girl    98860", 
        "132  1882  girl   115698", 
        "133  1883  girl   120068", 
        "134  1884  girl   137588", 
        "135  1885  girl   141954", 
        "136  1886  girl   153743", 
        "137  1887  girl   155424", 
        "138  1888  girl   189455", 
        "139  1889  girl   189221", 
        "140  1890  girl   201664", 
        "141  1891  girl   196578", 
        "142  1892  girl   224926", 
        "143  1893  girl   225239", 
        "144  1894  girl   235975", 
        "145  1895  girl   247112", 
        "146  1896  girl   252001", 
        "147  1897  girl   248274", 
        "148  1898  girl   274153", 
        "149  1899  girl   247494", 
        "150  1900  girl   317868", 
        "151  1901  girl   254235", 
        "152  1902  girl   280338", 
        "153  1903  girl   278200", 
        "154  1904  girl   292443", 
        "155  1905  girl   309884", 
        "156  1906  girl   313417", 
        "157  1907  girl   337422", 
        "158  1908  girl   354477", 
        "159  1909  girl   368029", 
        "160  1910  girl   419406", 
        "161  1911  girl   441621", 
        "162  1912  girl   586448", 
        "163  1913  girl   654560", 
        "164  1914  girl   796268", 
        "165  1915  girl  1023759", 
        "166  1916  girl  1085588", 
        "167  1917  girl  1123557", 
        "168  1918  girl  1202293", 
        "169  1919  girl  1174616", 
        "170  1920  girl  1243892", 
        "171  1921  girl  1279456", 
        "172  1922  girl  1247341", 
        "173  1923  girl  1252275", 
        "174  1924  girl  1295622", 
        "175  1925  girl  1262857", 
        "176  1926  girl  1229733", 
        "177  1927  girl  1236165", 
        "178  1928  girl  1194984", 
        "179  1929  girl  1157278", 
        "180  1930  girl  1165950", 
        "181  1931  girl  1103151", 
        "182  1932  girl  1106050", 
        "183  1933  girl  1045557", 
        "184  1934  girl  1081968", 
        "185  1935  girl  1086433", 
        "186  1936  girl  1077225", 
        "187  1937  girl  1101533", 
        "188  1938  girl  1141160", 
        "189  1939  girl  1133824", 
        "190  1940  girl  1181157", 
        "191  1941  girl  1245632", 
        "192  1942  girl  1390363", 
        "193  1943  girl  1434984", 
        "194  1944  girl  1366427", 
        "195  1945  girl  1346112", 
        "196  1946  girl  1611983", 
        "197  1947  girl  1817550", 
        "198  1948  girl  1741506", 
        "199  1949  girl  1754263", 
        "200  1950  girl  1758485", 
        "201  1951  girl  1844600", 
        "202  1952  girl  1902182", 
        "203  1953  girl  1928156", 
        "204  1954  girl  1990505", 
        "205  1955  girl  2004102", 
        "206  1956  girl  2059171", 
        "207  1957  girl  2097173", 
        "208  1958  girl  2064606", 
        "209  1959  girl  2078225", 
        "210  1960  girl  2079835", 
        "211  1961  girl  2075398", 
        "212  1962  girl  2026692", 
        "213  1963  girl  1987601", 
        "214  1964  girl  1956668", 
        "215  1965  girl  1826999", 
        "216  1966  girl  1755193", 
        "217  1967  girl  1716357", 
        "218  1968  girl  1709233", 
        "219  1969  girl  1762281", 
        "220  1970  girl  1831350", 
        "221  1971  girl  1751652", 
        "222  1972  girl  1612271", 
        "223  1973  girl  1553651", 
        "224  1974  girl  1565761", 
        "225  1975  girl  1560169", 
        "226  1976  girl  1571404", 
        "227  1977  girl  1644197", 
        "228  1978  girl  1642946", 
        "229  1979  girl  1722356", 
        "230  1980  girl  1779205", 
        "231  1981  girl  1786947", 
        "232  1982  girl  1812618", 
        "233  1983  girl  1788111", 
        "234  1984  girl  1801542", 
        "235  1985  girl  1844650", 
        "236  1986  girl  1843724", 
        "237  1987  girl  1872933", 
        "238  1988  girl  1921055", 
        "239  1989  girl  1991601", 
        "240  1990  girl  2052954", 
        "241  1991  girl  2032363", 
        "242  1992  girl  2003455", 
        "243  1993  girl  1969927", 
        "244  1994  girl  1947847", 
        "245  1995  girl  1920114", 
        "246  1996  girl  1915857", 
        "247  1997  girl  1907748", 
        "248  1998  girl  1936796", 
        "249  1999  girl  1944885", 
        "250  2000  girl  1993329", 
        "251  2001  girl  1978213", 
        "252  2002  girl  1972065", 
        "253  2003  girl  2003252", 
        "254  2004  girl  2013908", 
        "255  2005  girl  2024636", 
        "256  2006  girl  2084511", 
        "257  2007  girl  2109099", 
        "258  2008  girl  2072756", 
        "259  2009  girl  2001968"
       ]
      }
     ], 
     "prompt_number": 103
    }, 
    {
     "cell_type": "code", 
     "collapsed": false, 
     "input": [
      "names"
     ], 
     "language": "python", 
     "outputs": [
      {
       "output_type": "pyout", 
       "prompt_number": 112, 
       "text": [
        "&lt;class &apos;pandas.core.frame.DataFrame&apos;&gt;", 
        "Int64Index: 258000 entries, 0 to 257999", 
        "Data columns:", 
        "year       258000  non-null values", 
        "name       258000  non-null values", 
        "prop       258000  non-null values", 
        "sex        258000  non-null values", 
        "soundex    258000  non-null values", 
        "dtypes: float64(1), int64(1), object(3)"
       ]
      }
     ], 
     "prompt_number": 112
    }, 
    {
     "cell_type": "code", 
     "collapsed": true, 
     "input": [
      "merged = merge(names,births, on=['year','sex'])"
     ], 
     "language": "python", 
     "outputs": [], 
     "prompt_number": 113
    }, 
    {
     "cell_type": "code", 
     "collapsed": false, 
     "input": [
      "merged"
     ], 
     "language": "python", 
     "outputs": [
      {
       "output_type": "pyout", 
       "prompt_number": 114, 
       "text": [
        "&lt;class &apos;pandas.core.frame.DataFrame&apos;&gt;", 
        "Int64Index: 258000 entries, 0 to 257999", 
        "Data columns:", 
        "year       258000  non-null values", 
        "name       258000  non-null values", 
        "prop       258000  non-null values", 
        "sex        258000  non-null values", 
        "soundex    258000  non-null values", 
        "births     258000  non-null values", 
        "dtypes: float64(1), int64(2), object(3)"
       ]
      }
     ], 
     "prompt_number": 114
    }, 
    {
     "cell_type": "code", 
     "collapsed": true, 
     "input": [
      "merged['persons'] = np.floor(merged.prop * merged.births)"
     ], 
     "language": "python", 
     "outputs": [], 
     "prompt_number": 116
    }, 
    {
     "cell_type": "code", 
     "collapsed": false, 
     "input": [
      "merged.head()"
     ], 
     "language": "python", 
     "outputs": [
      {
       "output_type": "pyout", 
       "prompt_number": 118, 
       "text": [
        "   year     name      prop  sex soundex  births  persons", 
        "0  1880     John  0.081541  boy    J500  118405     9654", 
        "1  1880  William  0.080511  boy    W450  118405     9532", 
        "2  1880    James  0.050057  boy    J520  118405     5926", 
        "3  1880  Charles  0.045167  boy    C642  118405     5347", 
        "4  1880   George  0.043292  boy    G620  118405     5125"
       ]
      }
     ], 
     "prompt_number": 118
    }, 
    {
     "cell_type": "code", 
     "collapsed": false, 
     "input": [
      "merged.groupby(['name','sex'])['persons'].sum().order()"
     ], 
     "language": "python", 
     "outputs": [
      {
       "output_type": "pyout", 
       "prompt_number": 124, 
       "text": [
        "name      sex ", 
        "Achsah    girl    3", 
        "Ala       girl    3", 
        "Alabama   girl    3", 
        "Alfred    girl    3", 
        "Amey      girl    3", 
        "Chester   girl    3", 
        "Chestina  girl    3", 
        "Clem      girl    3", 
        "Crissie   girl    3", 
        "Daisye    girl    3", 
        "Dema      girl    3", 
        "Dollye    girl    3", 
        "Eithel    girl    3", 
        "Abie      boy     4", 
        "Acey      boy     4", 
        "...", 
        "Elizabeth    girl    1540430", 
        "Patricia     girl    1567602", 
        "Daniel       boy     1776483", 
        "Christopher  boy     1924919", 
        "Thomas       boy     2239606", 
        "Charles      boy     2320818", 
        "Joseph       boy     2490274", 
        "Richard      boy     2535681", 
        "David        boy     3495940", 
        "William      boy     3951365", 
        "Mary         girl    4097626", 
        "Michael      boy     4207352", 
        "Robert       boy     4752198", 
        "John         boy     5016124", 
        "James        boy     5021269", 
        "Name: persons, Length: 7455"
       ]
      }
     ], 
     "prompt_number": 124
    }, 
    {
     "cell_type": "code", 
     "collapsed": true, 
     "input": [], 
     "language": "python", 
     "outputs": [], 
     "prompt_number": "&nbsp;"
    }
   ]
  }
 ]
}