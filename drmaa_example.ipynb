{
 "metadata": {
  "name": "drmaa_example"
 }, 
 "nbformat": 2, 
 "worksheets": [
  {
   "cells": [
    {
     "cell_type": "code", 
     "collapsed": false, 
     "input": [
      "import drmaa ", 
      "", 
      "", 
      "def main():", 
      "    \"\"\"Create a session, show that each session has an id,", 
      "    use session id to disconnect, then reconnect. Then exit\"\"\"", 
      "    s = drmaa.Session()", 
      "    s.initialize()", 
      "    print 'A session was started successfully'", 
      "    response = s.contact", 
      "    print 'session contact returns: ' + response", 
      "    s.exit()", 
      "    print 'Exited from session'", 
      "", 
      "    s.initialize(response)", 
      "    print 'Session was restarted successfullly'", 
      "    s.exit()", 
      "    ", 
      "", 
      "", 
      "if __name__ == '__main__':", 
      "    main()"
     ], 
     "language": "python", 
     "outputs": [
      {
       "ename": "OSError", 
       "evalue": "/opt/uge/uge-8.0.1/lib/lx-amd64/libdrmaa.so.1.0: cannot open shared object file: No such file or directory", 
       "output_type": "pyerr", 
       "traceback": [
        "<span class=\"ansired\">---------------------------------------------------------------------------</span>\n<span class=\"ansired\">OSError</span>                                   Traceback (most recent call last)", 
        "<span class=\"ansigreen\">/house/homedirs/a/apratap/Dropbox/dev/ipython/&lt;ipython-input-1-0a8716f13efc&gt;</span> in <span class=\"ansicyan\">&lt;module&gt;</span><span class=\"ansiblue\">()</span>\n<span class=\"ansigreen\">----&gt; 1</span><span class=\"ansiyellow\"> </span><span class=\"ansigreen\">import</span> drmaa<span class=\"ansiyellow\"></span>\n<span class=\"ansigreen\">      2</span> <span class=\"ansiyellow\"></span>\n<span class=\"ansigreen\">      3</span> <span class=\"ansiyellow\"></span>\n<span class=\"ansigreen\">      4</span> <span class=\"ansigreen\">def</span> main<span class=\"ansiyellow\">(</span><span class=\"ansiyellow\">)</span><span class=\"ansiyellow\">:</span><span class=\"ansiyellow\"></span>\n<span class=\"ansigreen\">      5</span>     &quot;&quot;&quot;Create a session, show that each session has an id,\n", 
        "<span class=\"ansigreen\">/house/homedirs/a/apratap/lib/python/drmaa-0.4-py2.6.egg/drmaa/__init__.py</span> in <span class=\"ansicyan\">&lt;module&gt;</span><span class=\"ansiblue\">()</span>\n", 
        "<span class=\"ansigreen\">/house/homedirs/a/apratap/lib/python/drmaa-0.4-py2.6.egg/drmaa/wrappers.py</span> in <span class=\"ansicyan\">&lt;module&gt;</span><span class=\"ansiblue\">()</span>\n", 
        "<span class=\"ansigreen\">/house/homedirs/a/apratap/playground/software/epd-7.2-2-rh5-x86_64/lib/python2.7/ctypes/__init__.pyc</span> in <span class=\"ansicyan\">__init__</span><span class=\"ansiblue\">(self, name, mode, handle, use_errno, use_last_error)</span>\n<span class=\"ansigreen\">    351</span> <span class=\"ansiyellow\"></span>\n<span class=\"ansigreen\">    352</span>         <span class=\"ansigreen\">if</span> handle <span class=\"ansigreen\">is</span> None<span class=\"ansiyellow\">:</span><span class=\"ansiyellow\"></span>\n<span class=\"ansigreen\">--&gt; 353</span><span class=\"ansiyellow\">             </span>self<span class=\"ansiyellow\">.</span>_handle <span class=\"ansiyellow\">=</span> _dlopen<span class=\"ansiyellow\">(</span>self<span class=\"ansiyellow\">.</span>_name<span class=\"ansiyellow\">,</span> mode<span class=\"ansiyellow\">)</span><span class=\"ansiyellow\"></span>\n<span class=\"ansigreen\">    354</span>         <span class=\"ansigreen\">else</span><span class=\"ansiyellow\">:</span><span class=\"ansiyellow\"></span>\n<span class=\"ansigreen\">    355</span>             self<span class=\"ansiyellow\">.</span>_handle <span class=\"ansiyellow\">=</span> handle<span class=\"ansiyellow\"></span>\n", 
        "<span class=\"ansired\">OSError</span>: /opt/uge/uge-8.0.1/lib/lx-amd64/libdrmaa.so.1.0: cannot open shared object file: No such file or directory"
       ]
      }
     ], 
     "prompt_number": 1
    }
   ]
  }
 ]
}