{
 "metadata": {
  "name": "rna_pet_clusters"
 }, 
 "nbformat": 2, 
 "worksheets": [
  {
   "cells": [
    {
     "cell_type": "code", 
     "collapsed": false, 
     "input": [
      "from pandas import *", 
      "import matplotlib.pyplot as plt", 
      "", 
      "import pandas", 
      "print pandas.__version__"
     ], 
     "language": "python", 
     "outputs": [
      {
       "output_type": "stream", 
       "stream": "stdout", 
       "text": [
        "0.7.3"
       ]
      }
     ], 
     "prompt_number": 2
    }, 
    {
     "cell_type": "code", 
     "collapsed": true, 
     "input": [
      "read_csv?"
     ], 
     "language": "python", 
     "outputs": [], 
     "prompt_number": 3
    }, 
    {
     "cell_type": "code", 
     "collapsed": true, 
     "input": [
      "chr_4_sense = '/house/homedirs/a/apratap/playground/GIS_RNA_SEQ/pet_RNA/combined_analysis/Chlamy_V5/bwa/bams_split_by_chr/chromosome_4_sense_rna_pet_clusters.txt'", 
      "chr_4_antisense = '/house/homedirs/a/apratap/playground/GIS_RNA_SEQ/pet_RNA/combined_analysis/Chlamy_V5/bwa/bams_split_by_chr/chromosome_4_antisense_rna_pet_clusters.txt'", 
      "", 
      "", 
      "", 
      "df1 = read_csv(chr_4_sense, sep=\"\\t\",header=0)", 
      "df2 = read_csv(chr_4_antisense, sep=\"\\t\",header=0)"
     ], 
     "language": "python", 
     "outputs": [], 
     "prompt_number": 12
    }, 
    {
     "cell_type": "code", 
     "collapsed": false, 
     "input": [
      "df2.values"
     ], 
     "language": "python", 
     "outputs": [
      {
       "output_type": "pyout", 
       "prompt_number": 13, 
       "text": [
        "array([[chromosome_4, -, 1772, ..., 7739, 7829, 3],", 
        "       [chromosome_4, -, 1778, ..., 6944, 7018, 1],", 
        "       [chromosome_4, -, 4543, ..., 7751, 7815, 1],", 
        "       ..., ", 
        "       [chromosome_4, -, 4077463, ..., 4083378, 4083454, 1],", 
        "       [chromosome_4, -, 4080431, ..., 4083387, 4083428, 1],", 
        "       [chromosome_4, -, 4077637, ..., 4083392, 4083427, 1]], dtype=object)"
       ]
      }
     ], 
     "prompt_number": 13
    }, 
    {
     "cell_type": "code", 
     "collapsed": false, 
     "input": [
      "df1.num_pairs"
     ], 
     "language": "python", 
     "outputs": [
      {
       "output_type": "pyout", 
       "prompt_number": 21, 
       "text": [
        "<bound method Series.sort of 0     3", 
        "1     9", 
        "2     1", 
        "3     3", 
        "4     2", 
        "5     6", 
        "6     1", 
        "7     3", 
        "8     1", 
        "9     1", 
        "10    2", 
        "11    1", 
        "12    3", 
        "13    1", 
        "14    1", 
        "...", 
        "9492    1", 
        "9493    1", 
        "9494    2", 
        "9495    1", 
        "9496    1", 
        "9497    1", 
        "9498    8", 
        "9499    2", 
        "9500    1", 
        "9501    2", 
        "9502    1", 
        "9503    1", 
        "9504    1", 
        "9505    1", 
        "9506    1", 
        "Name: num_pairs, Length: 9507>"
       ]
      }
     ], 
     "prompt_number": 21
    }, 
    {
     "cell_type": "code", 
     "collapsed": true, 
     "input": [], 
     "language": "python", 
     "outputs": []
    }
   ]
  }
 ]
}