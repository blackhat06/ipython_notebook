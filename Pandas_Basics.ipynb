{
 "metadata": {
  "name": "Pandas_Basics"
 }, 
 "nbformat": 2, 
 "worksheets": [
  {
   "cells": [
    {
     "cell_type": "code", 
     "collapsed": true, 
     "input": [
      "from pandas import *", 
      "import pandas", 
      "import numpy as np", 
      "import matplotlib.pyplot as plt", 
      "", 
      "def side_by_side(*objs, **kwds):", 
      "    from pandas.core.common import adjoin", 
      "    space = kwds.get('space', 4)", 
      "    reprs = [repr(obj).split('\\n') for obj in objs]", 
      "    print adjoin(space, *reprs)", 
      "", 
      "plt.rc('figure', figsize=(10, 6))", 
      "#pandas.set_printoptions(notebook_repr_html=False)"
     ], 
     "language": "python", 
     "outputs": [], 
     "prompt_number": 3
    }, 
    {
     "cell_type": "code", 
     "collapsed": false, 
     "input": [
      "plot(range(100))"
     ], 
     "language": "python", 
     "outputs": [
      {
       "output_type": "pyout", 
       "prompt_number": 4, 
       "text": [
        "[&lt;matplotlib.lines.Line2D at 0x2a656d0&gt;]"
       ]
      }, 
      {
       "output_type": "display_data", 
       "png": "[encoded data removed]"
      }
     ], 
     "prompt_number": 4
    }, 
    {
     "cell_type": "markdown", 
     "source": [
      "Series", 
      "======"
     ]
    }, 
    {
     "cell_type": "code", 
     "collapsed": false, 
     "input": [
      "labels = ['a', 'b', 'c', 'd', 'e']", 
      "s = Series(randn(5), index=labels)", 
      "s"
     ], 
     "language": "python", 
     "outputs": [
      {
       "output_type": "pyout", 
       "prompt_number": 5, 
       "text": [
        "a    2.462989", 
        "b   -0.839071", 
        "c    0.545951", 
        "d   -0.740052", 
        "e   -0.182946"
       ]
      }
     ], 
     "prompt_number": 5
    }, 
    {
     "cell_type": "code", 
     "collapsed": false, 
     "input": [
      "'b' in s"
     ], 
     "language": "python", 
     "outputs": [
      {
       "output_type": "pyout", 
       "prompt_number": 6, 
       "text": [
        "True"
       ]
      }
     ], 
     "prompt_number": 6
    }, 
    {
     "cell_type": "code", 
     "collapsed": false, 
     "input": [
      "s['b']"
     ], 
     "language": "python", 
     "outputs": [
      {
       "output_type": "pyout", 
       "prompt_number": 12, 
       "text": [
        "-0.29780443234397447"
       ]
      }
     ], 
     "prompt_number": 12
    }, 
    {
     "cell_type": "code", 
     "collapsed": false, 
     "input": [
      "s"
     ], 
     "language": "python", 
     "outputs": [
      {
       "output_type": "pyout", 
       "prompt_number": 5, 
       "text": [
        "a   -0.448752", 
        "b   -1.032477", 
        "c    0.004158", 
        "d   -1.610530", 
        "e   -0.044834"
       ]
      }
     ], 
     "prompt_number": 5
    }, 
    {
     "cell_type": "code", 
     "collapsed": false, 
     "input": [
      "mapping = s.to_dict()", 
      "mapping"
     ], 
     "language": "python", 
     "outputs": [
      {
       "output_type": "pyout", 
       "prompt_number": 7, 
       "text": [
        "{&apos;a&apos;: 2.4629891773113024,", 
        " &apos;b&apos;: -0.83907099953933373,", 
        " &apos;c&apos;: 0.5459507311808488,", 
        " &apos;d&apos;: -0.74005182610523068,", 
        " &apos;e&apos;: -0.18294587174171217}"
       ]
      }
     ], 
     "prompt_number": 7
    }, 
    {
     "cell_type": "code", 
     "collapsed": false, 
     "input": [
      "s = Series(mapping, index=['b','e','a','d','f'])", 
      "s"
     ], 
     "language": "python", 
     "outputs": [
      {
       "output_type": "pyout", 
       "prompt_number": 23, 
       "text": [
        "b   -0.297804", 
        "e    0.248554", 
        "a    0.285341", 
        "d    0.553516", 
        "f         NaN"
       ]
      }
     ], 
     "prompt_number": 23
    }, 
    {
     "cell_type": "code", 
     "collapsed": false, 
     "input": [
      "s.dropna()"
     ], 
     "language": "python", 
     "outputs": [
      {
       "output_type": "pyout", 
       "prompt_number": 25, 
       "text": [
        "b   -0.297804", 
        "e    0.248554", 
        "a    0.285341", 
        "d    0.553516"
       ]
      }
     ], 
     "prompt_number": 25
    }, 
    {
     "cell_type": "code", 
     "collapsed": false, 
     "input": [
      "#slicing ", 
      "s[:4]"
     ], 
     "language": "python", 
     "outputs": [
      {
       "output_type": "pyout", 
       "prompt_number": 26, 
       "text": [
        "b   -0.297804", 
        "e    0.248554", 
        "a    0.285341", 
        "d    0.553516"
       ]
      }
     ], 
     "prompt_number": 26
    }, 
    {
     "cell_type": "code", 
     "collapsed": true, 
     "input": [
      "s.index"
     ], 
     "language": "python", 
     "outputs": [], 
     "prompt_number": 9
    }, 
    {
     "cell_type": "markdown", 
     "source": [
      "DataFrame: 2D collection of Series", 
      "=================================="
     ]
    }, 
    {
     "cell_type": "code", 
     "collapsed": false, 
     "input": [
      "df = DataFrame({'a': np.random.randn(6),", 
      "                'b': ['foo', 'bar'] * 3,", 
      "                'c': np.random.randn(6)})", 
      "df['d'] = 5", 
      "", 
      "##whenever you call an object in python it calls", 
      "## its repr object and displays whatever repr has in it to display", 
      "df", 
      "", 
      "", 
      "df[:3]", 
      "", 
      "df.index"
     ], 
     "language": "python", 
     "outputs": [
      {
       "output_type": "pyout", 
       "prompt_number": 9, 
       "text": [
        "Int64Index([0, 1, 2, 3, 4, 5])"
       ]
      }
     ], 
     "prompt_number": 9
    }, 
    {
     "cell_type": "code", 
     "collapsed": false, 
     "input": [
      "#IMP : Concepts", 
      "#", 
      "#", 
      "# returns the 0th or any row (n). colnames become the indexes", 
      "df.xs(0)", 
      ""
     ], 
     "language": "python", 
     "outputs": [
      {
       "output_type": "pyout", 
       "prompt_number": 11, 
       "text": [
        "-1.2307849420208841"
       ]
      }
     ], 
     "prompt_number": 11
    }, 
    {
     "cell_type": "code", 
     "collapsed": false, 
     "input": [
      "#IMP", 
      "#df.ix : returns a label indexing facility", 
      "#just like numpy but you can also pass in labels", 
      "", 
      "", 
      "df.ix[2:4,'b']", 
      "", 
      "## df.get_value is faster than df.ix", 
      "", 
      "%timeit df.ix[2,'b']", 
      "", 
      "#df.get_value", 
      "%timeit df.get_value(2,'b')"
     ], 
     "language": "python", 
     "outputs": [
      {
       "output_type": "stream", 
       "stream": "stdout", 
       "text": [
        "100000 loops, best of 3: 2.81 us per loop", 
        "1000000 loops, best of 3: 1.52 us per loop"
       ]
      }, 
      {
       "output_type": "stream", 
       "stream": "stdout", 
       "text": [
        ""
       ]
      }
     ], 
     "prompt_number": 16
    }, 
    {
     "cell_type": "code", 
     "collapsed": false, 
     "input": [
      "", 
      "df.ix[2:4,['b','c']]]"
     ], 
     "language": "python", 
     "outputs": [
      {
       "output_type": "pyout", 
       "prompt_number": 53, 
       "text": [
        "     b         c", 
        "2  foo  0.066733", 
        "3  bar  0.718814", 
        "4  foo  0.821123"
       ]
      }
     ], 
     "prompt_number": 53
    }, 
    {
     "cell_type": "code", 
     "collapsed": false, 
     "input": [
      "df.ix[df['c'] > 0]"
     ], 
     "language": "python", 
     "outputs": [
      {
       "output_type": "pyout", 
       "prompt_number": 54, 
       "text": [
        "          a    b         c  d", 
        "2  1.298894  foo  0.066733  5", 
        "3  0.662098  bar  0.718814  5", 
        "4 -0.761845  foo  0.821123  5"
       ]
      }
     ], 
     "prompt_number": 54
    }, 
    {
     "cell_type": "code", 
     "collapsed": false, 
     "input": [
      "df.index"
     ], 
     "language": "python", 
     "outputs": [
      {
       "output_type": "pyout", 
       "prompt_number": 50, 
       "text": [
        "Int64Index([0, 1, 2, 3, 4, 5])"
       ]
      }
     ], 
     "prompt_number": 50
    }, 
    {
     "cell_type": "code", 
     "collapsed": true, 
     "input": [
      "df.columns"
     ], 
     "language": "python", 
     "outputs": [], 
     "prompt_number": 12
    }, 
    {
     "cell_type": "code", 
     "collapsed": false, 
     "input": [
      "df = DataFrame({'a': np.random.randn(6),", 
      "                'b': ['foo', 'bar'] * 3,", 
      "                'c': np.random.randn(6)},", 
      "               index=DateRange('1/1/2000', periods=6))", 
      "df"
     ], 
     "language": "python", 
     "outputs": [
      {
       "output_type": "pyout", 
       "prompt_number": 55, 
       "text": [
        "                   a    b         c", 
        "2000-01-03 -1.276209  foo  2.120082", 
        "2000-01-04 -0.211693  bar -0.373666", 
        "2000-01-05  1.927539  foo  1.092177", 
        "2000-01-06  1.055412  bar -0.811661", 
        "2000-01-07 -0.326810  foo -0.086739", 
        "2000-01-10 -0.729896  bar  0.649055"
       ]
      }
     ], 
     "prompt_number": 55
    }, 
    {
     "cell_type": "code", 
     "collapsed": false, 
     "input": [
      "df = DataFrame({'a': np.random.randn(6),", 
      "                'b': ['foo', 'bar'] * 3,", 
      "                'c': np.random.randn(6)},", 
      "               columns=['a', 'b', 'c', 'd'])", 
      "df"
     ], 
     "language": "python", 
     "outputs": [
      {
       "output_type": "pyout", 
       "prompt_number": 56, 
       "text": [
        "          a    b         c   d", 
        "0 -0.025323  foo -0.189747 NaN", 
        "1  0.709214  bar -1.043626 NaN", 
        "2 -0.624111  foo -0.119506 NaN", 
        "3  0.654215  bar -0.094052 NaN", 
        "4  0.922686  foo -0.152998 NaN", 
        "5 -1.010547  bar -1.196827 NaN"
       ]
      }
     ], 
     "prompt_number": 56
    }, 
    {
     "cell_type": "code", 
     "collapsed": false, 
     "input": [
      "isnull(df)"
     ], 
     "language": "python", 
     "outputs": [
      {
       "output_type": "pyout", 
       "prompt_number": 57, 
       "text": [
        "       a      b      c     d", 
        "0  False  False  False  True", 
        "1  False  False  False  True", 
        "2  False  False  False  True", 
        "3  False  False  False  True", 
        "4  False  False  False  True", 
        "5  False  False  False  True"
       ]
      }
     ], 
     "prompt_number": 57
    }, 
    {
     "cell_type": "markdown", 
     "source": [
      "Creation from nested dicts", 
      "--------------------------", 
      "", 
      "These arise naturally in Python code"
     ]
    }, 
    {
     "cell_type": "code", 
     "collapsed": false, 
     "input": [
      "data = {}", 
      "for col in ['foo', 'bar', 'baz']:", 
      "    for row in ['a', 'b', 'c', 'd']:", 
      "        data.setdefault(col, {})[row] = randn()", 
      "data"
     ], 
     "language": "python", 
     "outputs": [
      {
       "output_type": "pyout", 
       "prompt_number": 58, 
       "text": [
        "{&apos;bar&apos;: {&apos;a&apos;: 1.7452405499657788,", 
        "  &apos;b&apos;: -0.872381821000125,", 
        "  &apos;c&apos;: -1.2812063189002811,", 
        "  &apos;d&apos;: 0.17636095221560882},", 
        " &apos;baz&apos;: {&apos;a&apos;: 1.5436192228481924,", 
        "  &apos;b&apos;: -0.3106527235180701,", 
        "  &apos;c&apos;: -0.47579679911097567,", 
        "  &apos;d&apos;: 0.6599683667815002},", 
        " &apos;foo&apos;: {&apos;a&apos;: -0.07580565391149371,", 
        "  &apos;b&apos;: -0.8612457698931946,", 
        "  &apos;c&apos;: -0.49936921604915646,", 
        "  &apos;d&apos;: -0.7694122057923339}}"
       ]
      }
     ], 
     "prompt_number": 58
    }, 
    {
     "cell_type": "code", 
     "collapsed": false, 
     "input": [
      "DataFrame(data)"
     ], 
     "language": "python", 
     "outputs": [
      {
       "output_type": "pyout", 
       "prompt_number": 59, 
       "text": [
        "        bar       baz       foo", 
        "a  1.745241  1.543619 -0.075806", 
        "b -0.872382 -0.310653 -0.861246", 
        "c -1.281206 -0.475797 -0.499369", 
        "d  0.176361  0.659968 -0.769412"
       ]
      }
     ], 
     "prompt_number": 59
    }, 
    {
     "cell_type": "markdown", 
     "source": [
      "Data alignment", 
      "=============="
     ]
    }, 
    {
     "cell_type": "code", 
     "collapsed": true, 
     "input": [
      "close_px = read_csv('stock_data.csv', index_col=0, parse_dates=True)"
     ], 
     "language": "python", 
     "outputs": [], 
     "prompt_number": 60
    }, 
    {
     "cell_type": "code", 
     "collapsed": false, 
     "input": [
      "!head -n10 stock_data.csv"
     ], 
     "language": "python", 
     "outputs": [
      {
       "output_type": "stream", 
       "stream": "stdout", 
       "text": [
        ",AA,AAPL,GE,IBM,JNJ,MSFT,PEP,SPX,XOM", 
        "2007-10-29 00:00:00,37.41,185.09,34.46,106.78,57.13,31.78,65.67,1540.98,85.51", 
        "2007-10-30 00:00:00,36.43,187.0,34.39,106.15,56.99,32.7,65.8,1531.02,83.25", 
        "2007-10-31 00:00:00,36.79,189.95,34.97,108.01,57.3,33.84,65.69,1549.38,84.03", 
        "2007-11-01 00:00:00,35.22,187.44,34.27,105.72,56.85,34.07,64.51,1508.44,80.84", 
        "2007-11-02 00:00:00,35.83,187.87,34.27,106.59,56.95,34.07,65.03,1509.65,80.32", 
        "2007-11-05 00:00:00,35.22,186.18,34.15,105.48,56.7,33.77,64.84,1502.17,80.07", 
        "2007-11-06 00:00:00,35.84,191.79,34.14,105.27,56.8,33.47,65.49,1520.27,82.56", 
        "2007-11-07 00:00:00,34.76,186.3,33.2,103.69,56.19,32.65,64.46,1475.62,79.96", 
        "2007-11-08 00:00:00,35.0,175.47,33.15,99.05,56.79,31.94,65.5,1474.77,82.0"
       ]
      }
     ], 
     "prompt_number": 63
    }, 
    {
     "cell_type": "code", 
     "collapsed": false, 
     "input": [
      "close_px"
     ], 
     "language": "python", 
     "outputs": [
      {
       "output_type": "pyout", 
       "prompt_number": 109, 
       "text": [
        "&lt;class &apos;pandas.core.frame.DataFrame&apos;&gt;", 
        "Index: 1000 entries, 2007-10-29 00:00:00 to 2011-10-14 00:00:00", 
        "Data columns:", 
        "AA      1000  non-null values", 
        "AAPL    1000  non-null values", 
        "GE      1000  non-null values", 
        "IBM     1000  non-null values", 
        "JNJ     1000  non-null values", 
        "MSFT    1000  non-null values", 
        "PEP     1000  non-null values", 
        "SPX     1000  non-null values", 
        "XOM     1000  non-null values", 
        "dtypes: float64(9)"
       ]
      }
     ], 
     "prompt_number": 109
    }, 
    {
     "cell_type": "code", 
     "collapsed": false, 
     "input": [
      "close_px['AAPL']", 
      "close_px['AAPL'][-25:-10]"
     ], 
     "language": "python", 
     "outputs": [
      {
       "output_type": "pyout", 
       "prompt_number": 114, 
       "text": [
        "2007-10-29    185.09", 
        "2007-10-30    187.00", 
        "2007-10-31    189.95", 
        "2007-11-01    187.44", 
        "2007-11-02    187.87", 
        "2007-11-05    186.18", 
        "2007-11-06    191.79", 
        "2007-11-07    186.30", 
        "2007-11-08    175.47", 
        "2007-11-09    165.37", 
        "2007-11-12    153.76", 
        "2007-11-13    169.96", 
        "2007-11-14    166.11", 
        "2007-11-15    164.30", 
        "2007-11-16    166.39", 
        "...", 
        "2011-09-26    403.17", 
        "2011-09-27    399.26", 
        "2011-09-28    397.01", 
        "2011-09-29    390.57", 
        "2011-09-30    381.32", 
        "2011-10-03    374.60", 
        "2011-10-04    372.50", 
        "2011-10-05    378.25", 
        "2011-10-06    377.37", 
        "2011-10-07    369.80", 
        "2011-10-10    388.81", 
        "2011-10-11    400.29", 
        "2011-10-12    402.19", 
        "2011-10-13    408.43", 
        "2011-10-14    422.00", 
        "Name: AAPL, Length: 1000"
       ]
      }
     ], 
     "prompt_number": 114
    }, 
    {
     "cell_type": "code", 
     "collapsed": false, 
     "input": [
      "s1 = close_px['AAPL'][-20:]", 
      "s2 = close_px['AAPL'][-25:-10]", 
      "side_by_side(s1, s2)"
     ], 
     "language": "python", 
     "outputs": [
      {
       "output_type": "stream", 
       "stream": "stdout", 
       "text": [
        "2011-09-19    411.63    2011-09-12    379.94", 
        "2011-09-20    413.45    2011-09-13    384.62", 
        "2011-09-21    412.14    2011-09-14    389.30", 
        "2011-09-22    401.82    2011-09-15    392.96", 
        "2011-09-23    404.30    2011-09-16    400.50", 
        "2011-09-26    403.17    2011-09-19    411.63", 
        "2011-09-27    399.26    2011-09-20    413.45", 
        "2011-09-28    397.01    2011-09-21    412.14", 
        "2011-09-29    390.57    2011-09-22    401.82", 
        "2011-09-30    381.32    2011-09-23    404.30", 
        "2011-10-03    374.60    2011-09-26    403.17", 
        "2011-10-04    372.50    2011-09-27    399.26", 
        "2011-10-05    378.25    2011-09-28    397.01", 
        "2011-10-06    377.37    2011-09-29    390.57", 
        "2011-10-07    369.80    2011-09-30    381.32", 
        "2011-10-10    388.81    Name: AAPL          ", 
        "2011-10-11    400.29                        ", 
        "2011-10-12    402.19                        ", 
        "2011-10-13    408.43                        ", 
        "2011-10-14    422.00                        ", 
        "Name: AAPL                                  "
       ]
      }
     ], 
     "prompt_number": 113
    }, 
    {
     "cell_type": "code", 
     "collapsed": false, 
     "input": [
      "s1 + s2"
     ], 
     "language": "python", 
     "outputs": [
      {
       "output_type": "pyout", 
       "prompt_number": 70, 
       "text": [
        "2011-09-12       NaN", 
        "2011-09-13       NaN", 
        "2011-09-14       NaN", 
        "2011-09-15       NaN", 
        "2011-09-16       NaN", 
        "2011-09-19    823.26", 
        "2011-09-20    826.90", 
        "2011-09-21    824.28", 
        "2011-09-22    803.64", 
        "2011-09-23    808.60", 
        "2011-09-26    806.34", 
        "2011-09-27    798.52", 
        "2011-09-28    794.02", 
        "2011-09-29    781.14", 
        "2011-09-30    762.64", 
        "2011-10-03       NaN", 
        "2011-10-04       NaN", 
        "2011-10-05       NaN", 
        "2011-10-06       NaN", 
        "2011-10-07       NaN", 
        "2011-10-10       NaN", 
        "2011-10-11       NaN", 
        "2011-10-12       NaN", 
        "2011-10-13       NaN", 
        "2011-10-14       NaN", 
        "Name: AAPL"
       ]
      }
     ], 
     "prompt_number": 70
    }, 
    {
     "cell_type": "code", 
     "collapsed": false, 
     "input": [
      "df = close_px.ix[-10:, :3]", 
      "df"
     ], 
     "language": "python", 
     "outputs": [
      {
       "output_type": "pyout", 
       "prompt_number": 71, 
       "text": [
        "               AA    AAPL     GE", 
        "2011-10-03   8.90  374.60  14.69", 
        "2011-10-04   9.12  372.50  14.86", 
        "2011-10-05   9.37  378.25  15.27", 
        "2011-10-06   9.88  377.37  15.53", 
        "2011-10-07   9.71  369.80  15.50", 
        "2011-10-10  10.09  388.81  16.14", 
        "2011-10-11  10.30  400.29  16.14", 
        "2011-10-12  10.05  402.19  16.40", 
        "2011-10-13  10.10  408.43  16.22", 
        "2011-10-14  10.26  422.00  16.60"
       ]
      }
     ], 
     "prompt_number": 71
    }, 
    {
     "cell_type": "code", 
     "collapsed": false, 
     "input": [
      "side_by_side(s1.reindex(s2.index), s2)"
     ], 
     "language": "python", 
     "outputs": [
      {
       "output_type": "stream", 
       "stream": "stdout", 
       "text": [
        "2011-09-12       NaN    2011-09-12    379.94", 
        "2011-09-13       NaN    2011-09-13    384.62", 
        "2011-09-14       NaN    2011-09-14    389.30", 
        "2011-09-15       NaN    2011-09-15    392.96", 
        "2011-09-16       NaN    2011-09-16    400.50", 
        "2011-09-19    411.63    2011-09-19    411.63", 
        "2011-09-20    413.45    2011-09-20    413.45", 
        "2011-09-21    412.14    2011-09-21    412.14", 
        "2011-09-22    401.82    2011-09-22    401.82", 
        "2011-09-23    404.30    2011-09-23    404.30", 
        "2011-09-26    403.17    2011-09-26    403.17", 
        "2011-09-27    399.26    2011-09-27    399.26", 
        "2011-09-28    397.01    2011-09-28    397.01", 
        "2011-09-29    390.57    2011-09-29    390.57", 
        "2011-09-30    381.32    2011-09-30    381.32", 
        "Name: AAPL              Name: AAPL          "
       ]
      }
     ], 
     "prompt_number": 72
    }, 
    {
     "cell_type": "code", 
     "collapsed": true, 
     "input": [
      "b, c  = s1.align(s2, join='inner')", 
      "side_by_side(b, c)"
     ], 
     "language": "python", 
     "outputs": [], 
     "prompt_number": 23
    }, 
    {
     "cell_type": "code", 
     "collapsed": true, 
     "input": [
      "b, c  = s1.align(s2, join='outer')", 
      "side_by_side(b, c)"
     ], 
     "language": "python", 
     "outputs": [], 
     "prompt_number": 24
    }, 
    {
     "cell_type": "code", 
     "collapsed": true, 
     "input": [
      "b, c  = s1.align(s2, join='right')", 
      "side_by_side(b, c)"
     ], 
     "language": "python", 
     "outputs": [], 
     "prompt_number": 25
    }, 
    {
     "cell_type": "code", 
     "collapsed": false, 
     "input": [
      "df = close_px.ix[-10:, ['AAPL', 'IBM', 'MSFT']]", 
      "df"
     ], 
     "language": "python", 
     "outputs": [
      {
       "output_type": "pyout", 
       "prompt_number": 75, 
       "text": [
        "              AAPL     IBM   MSFT", 
        "2011-10-03  374.60  173.29  24.53", 
        "2011-10-04  372.50  174.74  25.34", 
        "2011-10-05  378.25  176.85  25.89", 
        "2011-10-06  377.37  181.69  26.34", 
        "2011-10-07  369.80  182.39  26.25", 
        "2011-10-10  388.81  186.62  26.94", 
        "2011-10-11  400.29  185.00  27.00", 
        "2011-10-12  402.19  186.12  26.96", 
        "2011-10-13  408.43  186.82  27.18", 
        "2011-10-14  422.00  190.53  27.27"
       ]
      }
     ], 
     "prompt_number": 75
    }, 
    {
     "cell_type": "code", 
     "collapsed": false, 
     "input": [
      "df2 = df.ix[::2, ['IBM', 'MSFT']]", 
      "side_by_side(df, df2)", 
      "df2"
     ], 
     "language": "python", 
     "outputs": [
      {
       "output_type": "stream", 
       "stream": "stdout", 
       "text": [
        "              AAPL     IBM   MSFT                   IBM   MSFT", 
        "2011-10-03  374.60  173.29  24.53    2011-10-03  173.29  24.53", 
        "2011-10-04  372.50  174.74  25.34    2011-10-05  176.85  25.89", 
        "2011-10-05  378.25  176.85  25.89    2011-10-07  182.39  26.25", 
        "2011-10-06  377.37  181.69  26.34    2011-10-11  185.00  27.00", 
        "2011-10-07  369.80  182.39  26.25    2011-10-13  186.82  27.18", 
        "2011-10-10  388.81  186.62  26.94                             ", 
        "2011-10-11  400.29  185.00  27.00                             ", 
        "2011-10-12  402.19  186.12  26.96                             ", 
        "2011-10-13  408.43  186.82  27.18                             ", 
        "2011-10-14  422.00  190.53  27.27                             "
       ]
      }, 
      {
       "output_type": "pyout", 
       "prompt_number": 77, 
       "text": [
        "               IBM   MSFT", 
        "2011-10-03  173.29  24.53", 
        "2011-10-05  176.85  25.89", 
        "2011-10-07  182.39  26.25", 
        "2011-10-11  185.00  27.00", 
        "2011-10-13  186.82  27.18"
       ]
      }
     ], 
     "prompt_number": 77
    }, 
    {
     "cell_type": "code", 
     "collapsed": false, 
     "input": [
      "df + df2"
     ], 
     "language": "python", 
     "outputs": [
      {
       "output_type": "pyout", 
       "prompt_number": 78, 
       "text": [
        "            AAPL     IBM   MSFT", 
        "2011-10-03   NaN  346.58  49.06", 
        "2011-10-04   NaN     NaN    NaN", 
        "2011-10-05   NaN  353.70  51.78", 
        "2011-10-06   NaN     NaN    NaN", 
        "2011-10-07   NaN  364.78  52.50", 
        "2011-10-10   NaN     NaN    NaN", 
        "2011-10-11   NaN  370.00  54.00", 
        "2011-10-12   NaN     NaN    NaN", 
        "2011-10-13   NaN  373.64  54.36", 
        "2011-10-14   NaN     NaN    NaN"
       ]
      }
     ], 
     "prompt_number": 78
    }, 
    {
     "cell_type": "code", 
     "collapsed": false, 
     "input": [
      "b, c = df.align(df2, join='inner')", 
      "side_by_side(b, c) "
     ], 
     "language": "python", 
     "outputs": [
      {
       "output_type": "stream", 
       "stream": "stdout", 
       "text": [
        "               IBM   MSFT                   IBM   MSFT", 
        "2011-10-03  173.29  24.53    2011-10-03  173.29  24.53", 
        "2011-10-05  176.85  25.89    2011-10-05  176.85  25.89", 
        "2011-10-07  182.39  26.25    2011-10-07  182.39  26.25", 
        "2011-10-11  185.00  27.00    2011-10-11  185.00  27.00", 
        "2011-10-13  186.82  27.18    2011-10-13  186.82  27.18"
       ]
      }
     ], 
     "prompt_number": 79
    }, 
    {
     "cell_type": "markdown", 
     "source": [
      "Transposing: no copy if all columns are same type", 
      "-------------------------------------------------"
     ]
    }, 
    {
     "cell_type": "code", 
     "collapsed": false, 
     "input": [
      "df[:5].T"
     ], 
     "language": "python", 
     "outputs": [
      {
       "output_type": "pyout", 
       "prompt_number": 80, 
       "text": [
        "      2011-10-03  2011-10-04  2011-10-05  2011-10-06  2011-10-07", 
        "AAPL      374.60      372.50      378.25      377.37      369.80", 
        "IBM       173.29      174.74      176.85      181.69      182.39", 
        "MSFT       24.53       25.34       25.89       26.34       26.25"
       ]
      }
     ], 
     "prompt_number": 80
    }, 
    {
     "cell_type": "markdown", 
     "source": [
      "Columns can be any type", 
      "-----------------------"
     ]
    }, 
    {
     "cell_type": "code", 
     "collapsed": false, 
     "input": [
      "n = 10", 
      "foo = DataFrame(index=range(n))", 
      "foo['floats'] = np.random.randn(n)", 
      "foo['ints'] = np.arange(n)", 
      "foo['strings'] = ['foo', 'bar'] * (n / 2)", 
      "foo['bools'] = foo['floats'] > 0", 
      "foo['objects'] = DateRange('1/1/2000', periods=n)", 
      "foo"
     ], 
     "language": "python", 
     "outputs": [
      {
       "output_type": "pyout", 
       "prompt_number": 81, 
       "text": [
        "     floats  ints strings  bools              objects", 
        "0  0.227366     0     foo   True  2000-01-03 00:00:00", 
        "1  0.031393     1     bar   True  2000-01-04 00:00:00", 
        "2  0.349478     2     foo   True  2000-01-05 00:00:00", 
        "3  1.005728     3     bar   True  2000-01-06 00:00:00", 
        "4  1.328361     4     foo   True  2000-01-07 00:00:00", 
        "5  2.109234     5     bar   True  2000-01-10 00:00:00", 
        "6  0.122345     6     foo   True  2000-01-11 00:00:00", 
        "7 -0.654464     7     bar  False  2000-01-12 00:00:00", 
        "8 -1.630871     8     foo  False  2000-01-13 00:00:00", 
        "9  0.857558     9     bar   True  2000-01-14 00:00:00"
       ]
      }
     ], 
     "prompt_number": 81
    }, 
    {
     "cell_type": "code", 
     "collapsed": false, 
     "input": [
      "n = 10", 
      "foo = DataFrame(index=range(n))", 
      "foo['floats']=np.random.randn(n)", 
      "foo['ints'] = np.arange(n)", 
      "foo['strings'] = ['foo','bar'] * (n/2)", 
      "foo['bools'] = foo['floats'] > 0 ", 
      "foo"
     ], 
     "language": "python", 
     "outputs": [
      {
       "output_type": "pyout", 
       "prompt_number": 88, 
       "text": [
        "     floats  ints strings  bools", 
        "0 -1.198231     0     foo  False", 
        "1  0.098782     1     bar   True", 
        "2  0.999797     2     foo   True", 
        "3 -0.144600     3     bar  False", 
        "4  1.215588     4     foo   True", 
        "5 -0.548349     5     bar  False", 
        "6  0.093037     6     foo   True", 
        "7  1.403520     7     bar   True", 
        "8 -0.039959     8     foo  False", 
        "9  1.163198     9     bar   True"
       ]
      }
     ], 
     "prompt_number": 88
    }, 
    {
     "cell_type": "code", 
     "collapsed": false, 
     "input": [
      "foo.dtypes"
     ], 
     "language": "python", 
     "outputs": [
      {
       "output_type": "pyout", 
       "prompt_number": 89, 
       "text": [
        "floats     float64", 
        "ints         int64", 
        "strings     object", 
        "bools         bool"
       ]
      }
     ], 
     "prompt_number": 89
    }, 
    {
     "cell_type": "markdown", 
     "source": [
      "N.B. transposing is not roundtrippable in this case (column-oriented data structure)"
     ]
    }, 
    {
     "cell_type": "code", 
     "collapsed": false, 
     "input": [
      "foo.T.T"
     ], 
     "language": "python", 
     "outputs": [
      {
       "output_type": "pyout", 
       "prompt_number": 90, 
       "text": [
        "       floats ints strings  bools", 
        "0   -1.198231    0     foo  False", 
        "1  0.09878205    1     bar   True", 
        "2   0.9997967    2     foo   True", 
        "3  -0.1445999    3     bar  False", 
        "4    1.215588    4     foo   True", 
        "5  -0.5483492    5     bar  False", 
        "6  0.09303738    6     foo   True", 
        "7     1.40352    7     bar   True", 
        "8 -0.03995935    8     foo  False", 
        "9    1.163198    9     bar   True"
       ]
      }
     ], 
     "prompt_number": 90
    }, 
    {
     "cell_type": "code", 
     "collapsed": false, 
     "input": [
      "foo.T.T.dtypes"
     ], 
     "language": "python", 
     "outputs": [
      {
       "output_type": "pyout", 
       "prompt_number": 91, 
       "text": [
        "floats     object", 
        "ints       object", 
        "strings    object", 
        "bools      object"
       ]
      }
     ], 
     "prompt_number": 91
    }, 
    {
     "cell_type": "markdown", 
     "source": [
      "Function application", 
      "====================", 
      "", 
      "You can apply arbitrary functions to the rows or columns of a DataFrame"
     ]
    }, 
    {
     "cell_type": "code", 
     "collapsed": false, 
     "input": [
      "df.apply(np.mean)"
     ], 
     "language": "python", 
     "outputs": [
      {
       "output_type": "pyout", 
       "prompt_number": 96, 
       "text": [
        "2011-10-03    190.806667", 
        "2011-10-04    190.860000", 
        "2011-10-05    193.663333", 
        "2011-10-06    195.133333", 
        "2011-10-07    192.813333", 
        "2011-10-10    200.790000", 
        "2011-10-11    204.096667", 
        "2011-10-12    205.090000", 
        "2011-10-13    207.476667", 
        "2011-10-14    213.266667"
       ]
      }
     ], 
     "prompt_number": 96
    }, 
    {
     "cell_type": "code", 
     "collapsed": false, 
     "input": [
      "close_px"
     ], 
     "language": "python", 
     "outputs": [
      {
       "output_type": "pyout", 
       "prompt_number": 107, 
       "text": [
        "&lt;class &apos;pandas.core.frame.DataFrame&apos;&gt;", 
        "Index: 1000 entries, 2007-10-29 00:00:00 to 2011-10-14 00:00:00", 
        "Data columns:", 
        "AA      1000  non-null values", 
        "AAPL    1000  non-null values", 
        "GE      1000  non-null values", 
        "IBM     1000  non-null values", 
        "JNJ     1000  non-null values", 
        "MSFT    1000  non-null values", 
        "PEP     1000  non-null values", 
        "SPX     1000  non-null values", 
        "XOM     1000  non-null values", 
        "dtypes: float64(9)"
       ]
      }
     ], 
     "prompt_number": 107
    }, 
    {
     "cell_type": "code", 
     "collapsed": false, 
     "input": [
      "df.apply(np.mean, axis=1)"
     ], 
     "language": "python", 
     "outputs": [
      {
       "output_type": "pyout", 
       "prompt_number": 95, 
       "text": [
        "2011-10-03    190.806667", 
        "2011-10-04    190.860000", 
        "2011-10-05    193.663333", 
        "2011-10-06    195.133333", 
        "2011-10-07    192.813333", 
        "2011-10-10    200.790000", 
        "2011-10-11    204.096667", 
        "2011-10-12    205.090000", 
        "2011-10-13    207.476667", 
        "2011-10-14    213.266667"
       ]
      }
     ], 
     "prompt_number": 95
    }, 
    {
     "cell_type": "markdown", 
     "source": [
      "You can get as fancy as you want"
     ]
    }, 
    {
     "cell_type": "code", 
     "collapsed": false, 
     "input": [
      "close_px.T"
     ], 
     "language": "python", 
     "outputs": [
      {
       "output_type": "pyout", 
       "prompt_number": 108, 
       "text": [
        "&lt;class &apos;pandas.core.frame.DataFrame&apos;&gt;", 
        "Index: 9 entries, AA to XOM", 
        "Data columns:", 
        "2007-10-29 00:00:00    9  non-null values", 
        "2007-10-30 00:00:00    9  non-null values", 
        "2007-10-31 00:00:00    9  non-null values", 
        "2007-11-01 00:00:00    9  non-null values", 
        "2007-11-02 00:00:00    9  non-null values", 
        "2007-11-05 00:00:00    9  non-null values", 
        "2007-11-06 00:00:00    9  non-null values", 
        "2007-11-07 00:00:00    9  non-null values", 
        "2007-11-08 00:00:00    9  non-null values", 
        "2007-11-09 00:00:00    9  non-null values", 
        "2007-11-12 00:00:00    9  non-null values", 
        "2007-11-13 00:00:00    9  non-null values", 
        "2007-11-14 00:00:00    9  non-null values", 
        "2007-11-15 00:00:00    9  non-null values", 
        "2007-11-16 00:00:00    9  non-null values", 
        "2007-11-19 00:00:00    9  non-null values", 
        "2007-11-20 00:00:00    9  non-null values", 
        "2007-11-21 00:00:00    9  non-null values", 
        "2007-11-23 00:00:00    9  non-null values", 
        "2007-11-26 00:00:00    9  non-null values", 
        "2007-11-27 00:00:00    9  non-null values", 
        "2007-11-28 00:00:00    9  non-null values", 
        "2007-11-29 00:00:00    9  non-null values", 
        "2007-11-30 00:00:00    9  non-null values", 
        "2007-12-03 00:00:00    9  non-null values", 
        "2007-12-04 00:00:00    9  non-null values", 
        "2007-12-05 00:00:00    9  non-null values", 
        "2007-12-06 00:00:00    9  non-null values", 
        "2007-12-07 00:00:00    9  non-null values", 
        "2007-12-10 00:00:00    9  non-null values", 
        "2007-12-11 00:00:00    9  non-null values", 
        "2007-12-12 00:00:00    9  non-null values", 
        "2007-12-13 00:00:00    9  non-null values", 
        "2007-12-14 00:00:00    9  non-null values", 
        "2007-12-17 00:00:00    9  non-null values", 
        "2007-12-18 00:00:00    9  non-null values", 
        "2007-12-19 00:00:00    9  non-null values", 
        "2007-12-20 00:00:00    9  non-null values", 
        "2007-12-21 00:00:00    9  non-null values", 
        "2007-12-24 00:00:00    9  non-null values", 
        "2007-12-26 00:00:00    9  non-null values", 
        "2007-12-27 00:00:00    9  non-null values", 
        "2007-12-28 00:00:00    9  non-null values", 
        "2007-12-31 00:00:00    9  non-null values", 
        "2008-01-02 00:00:00    9  non-null values", 
        "2008-01-03 00:00:00    9  non-null values", 
        "2008-01-04 00:00:00    9  non-null values", 
        "2008-01-07 00:00:00    9  non-null values", 
        "2008-01-08 00:00:00    9  non-null values", 
        "2008-01-09 00:00:00    9  non-null values", 
        "2008-01-10 00:00:00    9  non-null values", 
        "2008-01-11 00:00:00    9  non-null values", 
        "2008-01-14 00:00:00    9  non-null values", 
        "2008-01-15 00:00:00    9  non-null values", 
        "2008-01-16 00:00:00    9  non-null values", 
        "2008-01-17 00:00:00    9  non-null values", 
        "2008-01-18 00:00:00    9  non-null values", 
        "2008-01-22 00:00:00    9  non-null values", 
        "2008-01-23 00:00:00    9  non-null values", 
        "2008-01-24 00:00:00    9  non-null values", 
        "2008-01-25 00:00:00    9  non-null values", 
        "2008-01-28 00:00:00    9  non-null values", 
        "2008-01-29 00:00:00    9  non-null values", 
        "2008-01-30 00:00:00    9  non-null values", 
        "2008-01-31 00:00:00    9  non-null values", 
        "2008-02-01 00:00:00    9  non-null values", 
        "2008-02-04 00:00:00    9  non-null values", 
        "2008-02-05 00:00:00    9  non-null values", 
        "2008-02-06 00:00:00    9  non-null values", 
        "2008-02-07 00:00:00    9  non-null values", 
        "2008-02-08 00:00:00    9  non-null values", 
        "2008-02-11 00:00:00    9  non-null values", 
        "2008-02-12 00:00:00    9  non-null values", 
        "2008-02-13 00:00:00    9  non-null values", 
        "2008-02-14 00:00:00    9  non-null values", 
        "2008-02-15 00:00:00    9  non-null values", 
        "2008-02-19 00:00:00    9  non-null values", 
        "2008-02-20 00:00:00    9  non-null values", 
        "2008-02-21 00:00:00    9  non-null values", 
        "2008-02-22 00:00:00    9  non-null values", 
        "2008-02-25 00:00:00    9  non-null values", 
        "2008-02-26 00:00:00    9  non-null values", 
        "2008-02-27 00:00:00    9  non-null values", 
        "2008-02-28 00:00:00    9  non-null values", 
        "2008-02-29 00:00:00    9  non-null values", 
        "2008-03-03 00:00:00    9  non-null values", 
        "2008-03-04 00:00:00    9  non-null values", 
        "2008-03-05 00:00:00    9  non-null values", 
        "2008-03-06 00:00:00    9  non-null values", 
        "2008-03-07 00:00:00    9  non-null values", 
        "2008-03-10 00:00:00    9  non-null values", 
        "2008-03-11 00:00:00    9  non-null values", 
        "2008-03-12 00:00:00    9  non-null values", 
        "2008-03-13 00:00:00    9  non-null values", 
        "2008-03-14 00:00:00    9  non-null values", 
        "2008-03-17 00:00:00    9  non-null values", 
        "2008-03-18 00:00:00    9  non-null values", 
        "2008-03-19 00:00:00    9  non-null values", 
        "2008-03-20 00:00:00    9  non-null values", 
        "2008-03-24 00:00:00    9  non-null values", 
        "2008-03-25 00:00:00    9  non-null values", 
        "2008-03-26 00:00:00    9  non-null values", 
        "2008-03-27 00:00:00    9  non-null values", 
        "2008-03-28 00:00:00    9  non-null values", 
        "2008-03-31 00:00:00    9  non-null values", 
        "2008-04-01 00:00:00    9  non-null values", 
        "2008-04-02 00:00:00    9  non-null values", 
        "2008-04-03 00:00:00    9  non-null values", 
        "2008-04-04 00:00:00    9  non-null values", 
        "2008-04-07 00:00:00    9  non-null values", 
        "2008-04-08 00:00:00    9  non-null values", 
        "2008-04-09 00:00:00    9  non-null values", 
        "2008-04-10 00:00:00    9  non-null values", 
        "2008-04-11 00:00:00    9  non-null values", 
        "2008-04-14 00:00:00    9  non-null values", 
        "2008-04-15 00:00:00    9  non-null values", 
        "2008-04-16 00:00:00    9  non-null values", 
        "2008-04-17 00:00:00    9  non-null values", 
        "2008-04-18 00:00:00    9  non-null values", 
        "2008-04-21 00:00:00    9  non-null values", 
        "2008-04-22 00:00:00    9  non-null values", 
        "2008-04-23 00:00:00    9  non-null values", 
        "2008-04-24 00:00:00    9  non-null values", 
        "2008-04-25 00:00:00    9  non-null values", 
        "2008-04-28 00:00:00    9  non-null values", 
        "2008-04-29 00:00:00    9  non-null values", 
        "2008-04-30 00:00:00    9  non-null values", 
        "2008-05-01 00:00:00    9  non-null values", 
        "2008-05-02 00:00:00    9  non-null values", 
        "2008-05-05 00:00:00    9  non-null values", 
        "2008-05-06 00:00:00    9  non-null values", 
        "2008-05-07 00:00:00    9  non-null values", 
        "2008-05-08 00:00:00    9  non-null values", 
        "2008-05-09 00:00:00    9  non-null values", 
        "2008-05-12 00:00:00    9  non-null values", 
        "2008-05-13 00:00:00    9  non-null values", 
        "2008-05-14 00:00:00    9  non-null values", 
        "2008-05-15 00:00:00    9  non-null values", 
        "2008-05-16 00:00:00    9  non-null values", 
        "2008-05-19 00:00:00    9  non-null values", 
        "2008-05-20 00:00:00    9  non-null values", 
        "2008-05-21 00:00:00    9  non-null values", 
        "2008-05-22 00:00:00    9  non-null values", 
        "2008-05-23 00:00:00    9  non-null values", 
        "2008-05-27 00:00:00    9  non-null values", 
        "2008-05-28 00:00:00    9  non-null values", 
        "2008-05-29 00:00:00    9  non-null values", 
        "2008-05-30 00:00:00    9  non-null values", 
        "2008-06-02 00:00:00    9  non-null values", 
        "2008-06-03 00:00:00    9  non-null values", 
        "2008-06-04 00:00:00    9  non-null values", 
        "2008-06-05 00:00:00    9  non-null values", 
        "2008-06-06 00:00:00    9  non-null values", 
        "2008-06-09 00:00:00    9  non-null values", 
        "2008-06-10 00:00:00    9  non-null values", 
        "2008-06-11 00:00:00    9  non-null values", 
        "2008-06-12 00:00:00    9  non-null values", 
        "2008-06-13 00:00:00    9  non-null values", 
        "2008-06-16 00:00:00    9  non-null values", 
        "2008-06-17 00:00:00    9  non-null values", 
        "2008-06-18 00:00:00    9  non-null values", 
        "2008-06-19 00:00:00    9  non-null values", 
        "2008-06-20 00:00:00    9  non-null values", 
        "2008-06-23 00:00:00    9  non-null values", 
        "2008-06-24 00:00:00    9  non-null values", 
        "2008-06-25 00:00:00    9  non-null values", 
        "2008-06-26 00:00:00    9  non-null values", 
        "2008-06-27 00:00:00    9  non-null values", 
        "2008-06-30 00:00:00    9  non-null values", 
        "2008-07-01 00:00:00    9  non-null values", 
        "2008-07-02 00:00:00    9  non-null values", 
        "2008-07-03 00:00:00    9  non-null values", 
        "2008-07-07 00:00:00    9  non-null values", 
        "2008-07-08 00:00:00    9  non-null values", 
        "2008-07-09 00:00:00    9  non-null values", 
        "2008-07-10 00:00:00    9  non-null values", 
        "2008-07-11 00:00:00    9  non-null values", 
        "2008-07-14 00:00:00    9  non-null values", 
        "2008-07-15 00:00:00    9  non-null values", 
        "2008-07-16 00:00:00    9  non-null values", 
        "2008-07-17 00:00:00    9  non-null values", 
        "2008-07-18 00:00:00    9  non-null values", 
        "2008-07-21 00:00:00    9  non-null values", 
        "2008-07-22 00:00:00    9  non-null values", 
        "2008-07-23 00:00:00    9  non-null values", 
        "2008-07-24 00:00:00    9  non-null values", 
        "2008-07-25 00:00:00    9  non-null values", 
        "2008-07-28 00:00:00    9  non-null values", 
        "2008-07-29 00:00:00    9  non-null values", 
        "2008-07-30 00:00:00    9  non-null values", 
        "2008-07-31 00:00:00    9  non-null values", 
        "2008-08-01 00:00:00    9  non-null values", 
        "2008-08-04 00:00:00    9  non-null values", 
        "2008-08-05 00:00:00    9  non-null values", 
        "2008-08-06 00:00:00    9  non-null values", 
        "2008-08-07 00:00:00    9  non-null values", 
        "2008-08-08 00:00:00    9  non-null values", 
        "2008-08-11 00:00:00    9  non-null values", 
        "2008-08-12 00:00:00    9  non-null values", 
        "2008-08-13 00:00:00    9  non-null values", 
        "2008-08-14 00:00:00    9  non-null values", 
        "2008-08-15 00:00:00    9  non-null values", 
        "2008-08-18 00:00:00    9  non-null values", 
        "2008-08-19 00:00:00    9  non-null values", 
        "2008-08-20 00:00:00    9  non-null values", 
        "2008-08-21 00:00:00    9  non-null values", 
        "2008-08-22 00:00:00    9  non-null values", 
        "2008-08-25 00:00:00    9  non-null values", 
        "2008-08-26 00:00:00    9  non-null values", 
        "2008-08-27 00:00:00    9  non-null values", 
        "2008-08-28 00:00:00    9  non-null values", 
        "2008-08-29 00:00:00    9  non-null values", 
        "2008-09-02 00:00:00    9  non-null values", 
        "2008-09-03 00:00:00    9  non-null values", 
        "2008-09-04 00:00:00    9  non-null values", 
        "2008-09-05 00:00:00    9  non-null values", 
        "2008-09-08 00:00:00    9  non-null values", 
        "2008-09-09 00:00:00    9  non-null values", 
        "2008-09-10 00:00:00    9  non-null values", 
        "2008-09-11 00:00:00    9  non-null values", 
        "2008-09-12 00:00:00    9  non-null values", 
        "2008-09-15 00:00:00    9  non-null values", 
        "2008-09-16 00:00:00    9  non-null values", 
        "2008-09-17 00:00:00    9  non-null values", 
        "2008-09-18 00:00:00    9  non-null values", 
        "2008-09-19 00:00:00    9  non-null values", 
        "2008-09-22 00:00:00    9  non-null values", 
        "2008-09-23 00:00:00    9  non-null values", 
        "2008-09-24 00:00:00    9  non-null values", 
        "2008-09-25 00:00:00    9  non-null values", 
        "2008-09-26 00:00:00    9  non-null values", 
        "2008-09-29 00:00:00    9  non-null values", 
        "2008-09-30 00:00:00    9  non-null values", 
        "2008-10-01 00:00:00    9  non-null values", 
        "2008-10-02 00:00:00    9  non-null values", 
        "2008-10-03 00:00:00    9  non-null values", 
        "2008-10-06 00:00:00    9  non-null values", 
        "2008-10-07 00:00:00    9  non-null values", 
        "2008-10-08 00:00:00    9  non-null values", 
        "2008-10-09 00:00:00    9  non-null values", 
        "2008-10-10 00:00:00    9  non-null values", 
        "2008-10-13 00:00:00    9  non-null values", 
        "2008-10-14 00:00:00    9  non-null values", 
        "2008-10-15 00:00:00    9  non-null values", 
        "2008-10-16 00:00:00    9  non-null values", 
        "2008-10-17 00:00:00    9  non-null values", 
        "2008-10-20 00:00:00    9  non-null values", 
        "2008-10-21 00:00:00    9  non-null values", 
        "2008-10-22 00:00:00    9  non-null values", 
        "2008-10-23 00:00:00    9  non-null values", 
        "2008-10-24 00:00:00    9  non-null values", 
        "2008-10-27 00:00:00    9  non-null values", 
        "2008-10-28 00:00:00    9  non-null values", 
        "2008-10-29 00:00:00    9  non-null values", 
        "2008-10-30 00:00:00    9  non-null values", 
        "2008-10-31 00:00:00    9  non-null values", 
        "2008-11-03 00:00:00    9  non-null values", 
        "2008-11-04 00:00:00    9  non-null values", 
        "2008-11-05 00:00:00    9  non-null values", 
        "2008-11-06 00:00:00    9  non-null values", 
        "2008-11-07 00:00:00    9  non-null values", 
        "2008-11-10 00:00:00    9  non-null values", 
        "2008-11-11 00:00:00    9  non-null values", 
        "2008-11-12 00:00:00    9  non-null values", 
        "2008-11-13 00:00:00    9  non-null values", 
        "2008-11-14 00:00:00    9  non-null values", 
        "2008-11-17 00:00:00    9  non-null values", 
        "2008-11-18 00:00:00    9  non-null values", 
        "2008-11-19 00:00:00    9  non-null values", 
        "2008-11-20 00:00:00    9  non-null values", 
        "2008-11-21 00:00:00    9  non-null values", 
        "2008-11-24 00:00:00    9  non-null values", 
        "2008-11-25 00:00:00    9  non-null values", 
        "2008-11-26 00:00:00    9  non-null values", 
        "2008-11-28 00:00:00    9  non-null values", 
        "2008-12-01 00:00:00    9  non-null values", 
        "2008-12-02 00:00:00    9  non-null values", 
        "2008-12-03 00:00:00    9  non-null values", 
        "2008-12-04 00:00:00    9  non-null values", 
        "2008-12-05 00:00:00    9  non-null values", 
        "2008-12-08 00:00:00    9  non-null values", 
        "2008-12-09 00:00:00    9  non-null values", 
        "2008-12-10 00:00:00    9  non-null values", 
        "2008-12-11 00:00:00    9  non-null values", 
        "2008-12-12 00:00:00    9  non-null values", 
        "2008-12-15 00:00:00    9  non-null values", 
        "2008-12-16 00:00:00    9  non-null values", 
        "2008-12-17 00:00:00    9  non-null values", 
        "2008-12-18 00:00:00    9  non-null values", 
        "2008-12-19 00:00:00    9  non-null values", 
        "2008-12-22 00:00:00    9  non-null values", 
        "2008-12-23 00:00:00    9  non-null values", 
        "2008-12-24 00:00:00    9  non-null values", 
        "2008-12-26 00:00:00    9  non-null values", 
        "2008-12-29 00:00:00    9  non-null values", 
        "2008-12-30 00:00:00    9  non-null values", 
        "2008-12-31 00:00:00    9  non-null values", 
        "2009-01-02 00:00:00    9  non-null values", 
        "2009-01-05 00:00:00    9  non-null values", 
        "2009-01-06 00:00:00    9  non-null values", 
        "2009-01-07 00:00:00    9  non-null values", 
        "2009-01-08 00:00:00    9  non-null values", 
        "2009-01-09 00:00:00    9  non-null values", 
        "2009-01-12 00:00:00    9  non-null values", 
        "2009-01-13 00:00:00    9  non-null values", 
        "2009-01-14 00:00:00    9  non-null values", 
        "2009-01-15 00:00:00    9  non-null values", 
        "2009-01-16 00:00:00    9  non-null values", 
        "2009-01-20 00:00:00    9  non-null values", 
        "2009-01-21 00:00:00    9  non-null values", 
        "2009-01-22 00:00:00    9  non-null values", 
        "2009-01-23 00:00:00    9  non-null values", 
        "2009-01-26 00:00:00    9  non-null values", 
        "2009-01-27 00:00:00    9  non-null values", 
        "2009-01-28 00:00:00    9  non-null values", 
        "2009-01-29 00:00:00    9  non-null values", 
        "2009-01-30 00:00:00    9  non-null values", 
        "2009-02-02 00:00:00    9  non-null values", 
        "2009-02-03 00:00:00    9  non-null values", 
        "2009-02-04 00:00:00    9  non-null values", 
        "2009-02-05 00:00:00    9  non-null values", 
        "2009-02-06 00:00:00    9  non-null values", 
        "2009-02-09 00:00:00    9  non-null values", 
        "2009-02-10 00:00:00    9  non-null values", 
        "2009-02-11 00:00:00    9  non-null values", 
        "2009-02-12 00:00:00    9  non-null values", 
        "2009-02-13 00:00:00    9  non-null values", 
        "2009-02-17 00:00:00    9  non-null values", 
        "2009-02-18 00:00:00    9  non-null values", 
        "2009-02-19 00:00:00    9  non-null values", 
        "2009-02-20 00:00:00    9  non-null values", 
        "2009-02-23 00:00:00    9  non-null values", 
        "2009-02-24 00:00:00    9  non-null values", 
        "2009-02-25 00:00:00    9  non-null values", 
        "2009-02-26 00:00:00    9  non-null values", 
        "2009-02-27 00:00:00    9  non-null values", 
        "2009-03-02 00:00:00    9  non-null values", 
        "2009-03-03 00:00:00    9  non-null values", 
        "2009-03-04 00:00:00    9  non-null values", 
        "2009-03-05 00:00:00    9  non-null values", 
        "2009-03-06 00:00:00    9  non-null values", 
        "2009-03-09 00:00:00    9  non-null values", 
        "2009-03-10 00:00:00    9  non-null values", 
        "2009-03-11 00:00:00    9  non-null values", 
        "2009-03-12 00:00:00    9  non-null values", 
        "2009-03-13 00:00:00    9  non-null values", 
        "2009-03-16 00:00:00    9  non-null values", 
        "2009-03-17 00:00:00    9  non-null values", 
        "2009-03-18 00:00:00    9  non-null values", 
        "2009-03-19 00:00:00    9  non-null values", 
        "2009-03-20 00:00:00    9  non-null values", 
        "2009-03-23 00:00:00    9  non-null values", 
        "2009-03-24 00:00:00    9  non-null values", 
        "2009-03-25 00:00:00    9  non-null values", 
        "2009-03-26 00:00:00    9  non-null values", 
        "2009-03-27 00:00:00    9  non-null values", 
        "2009-03-30 00:00:00    9  non-null values", 
        "2009-03-31 00:00:00    9  non-null values", 
        "2009-04-01 00:00:00    9  non-null values", 
        "2009-04-02 00:00:00    9  non-null values", 
        "2009-04-03 00:00:00    9  non-null values", 
        "2009-04-06 00:00:00    9  non-null values", 
        "2009-04-07 00:00:00    9  non-null values", 
        "2009-04-08 00:00:00    9  non-null values", 
        "2009-04-09 00:00:00    9  non-null values", 
        "2009-04-13 00:00:00    9  non-null values", 
        "2009-04-14 00:00:00    9  non-null values", 
        "2009-04-15 00:00:00    9  non-null values", 
        "2009-04-16 00:00:00    9  non-null values", 
        "2009-04-17 00:00:00    9  non-null values", 
        "2009-04-20 00:00:00    9  non-null values", 
        "2009-04-21 00:00:00    9  non-null values", 
        "2009-04-22 00:00:00    9  non-null values", 
        "2009-04-23 00:00:00    9  non-null values", 
        "2009-04-24 00:00:00    9  non-null values", 
        "2009-04-27 00:00:00    9  non-null values", 
        "2009-04-28 00:00:00    9  non-null values", 
        "2009-04-29 00:00:00    9  non-null values", 
        "2009-04-30 00:00:00    9  non-null values", 
        "2009-05-01 00:00:00    9  non-null values", 
        "2009-05-04 00:00:00    9  non-null values", 
        "2009-05-05 00:00:00    9  non-null values", 
        "2009-05-06 00:00:00    9  non-null values", 
        "2009-05-07 00:00:00    9  non-null values", 
        "2009-05-08 00:00:00    9  non-null values", 
        "2009-05-11 00:00:00    9  non-null values", 
        "2009-05-12 00:00:00    9  non-null values", 
        "2009-05-13 00:00:00    9  non-null values", 
        "2009-05-14 00:00:00    9  non-null values", 
        "2009-05-15 00:00:00    9  non-null values", 
        "2009-05-18 00:00:00    9  non-null values", 
        "2009-05-19 00:00:00    9  non-null values", 
        "2009-05-20 00:00:00    9  non-null values", 
        "2009-05-21 00:00:00    9  non-null values", 
        "2009-05-22 00:00:00    9  non-null values", 
        "2009-05-26 00:00:00    9  non-null values", 
        "2009-05-27 00:00:00    9  non-null values", 
        "2009-05-28 00:00:00    9  non-null values", 
        "2009-05-29 00:00:00    9  non-null values", 
        "2009-06-01 00:00:00    9  non-null values", 
        "2009-06-02 00:00:00    9  non-null values", 
        "2009-06-03 00:00:00    9  non-null values", 
        "2009-06-04 00:00:00    9  non-null values", 
        "2009-06-05 00:00:00    9  non-null values", 
        "2009-06-08 00:00:00    9  non-null values", 
        "2009-06-09 00:00:00    9  non-null values", 
        "2009-06-10 00:00:00    9  non-null values", 
        "2009-06-11 00:00:00    9  non-null values", 
        "2009-06-12 00:00:00    9  non-null values", 
        "2009-06-15 00:00:00    9  non-null values", 
        "2009-06-16 00:00:00    9  non-null values", 
        "2009-06-17 00:00:00    9  non-null values", 
        "2009-06-18 00:00:00    9  non-null values", 
        "2009-06-19 00:00:00    9  non-null values", 
        "2009-06-22 00:00:00    9  non-null values", 
        "2009-06-23 00:00:00    9  non-null values", 
        "2009-06-24 00:00:00    9  non-null values", 
        "2009-06-25 00:00:00    9  non-null values", 
        "2009-06-26 00:00:00    9  non-null values", 
        "2009-06-29 00:00:00    9  non-null values", 
        "2009-06-30 00:00:00    9  non-null values", 
        "2009-07-01 00:00:00    9  non-null values", 
        "2009-07-02 00:00:00    9  non-null values", 
        "2009-07-06 00:00:00    9  non-null values", 
        "2009-07-07 00:00:00    9  non-null values", 
        "2009-07-08 00:00:00    9  non-null values", 
        "2009-07-09 00:00:00    9  non-null values", 
        "2009-07-10 00:00:00    9  non-null values", 
        "2009-07-13 00:00:00    9  non-null values", 
        "2009-07-14 00:00:00    9  non-null values", 
        "2009-07-15 00:00:00    9  non-null values", 
        "2009-07-16 00:00:00    9  non-null values", 
        "2009-07-17 00:00:00    9  non-null values", 
        "2009-07-20 00:00:00    9  non-null values", 
        "2009-07-21 00:00:00    9  non-null values", 
        "2009-07-22 00:00:00    9  non-null values", 
        "2009-07-23 00:00:00    9  non-null values", 
        "2009-07-24 00:00:00    9  non-null values", 
        "2009-07-27 00:00:00    9  non-null values", 
        "2009-07-28 00:00:00    9  non-null values", 
        "2009-07-29 00:00:00    9  non-null values", 
        "2009-07-30 00:00:00    9  non-null values", 
        "2009-07-31 00:00:00    9  non-null values", 
        "2009-08-03 00:00:00    9  non-null values", 
        "2009-08-04 00:00:00    9  non-null values", 
        "2009-08-05 00:00:00    9  non-null values", 
        "2009-08-06 00:00:00    9  non-null values", 
        "2009-08-07 00:00:00    9  non-null values", 
        "2009-08-10 00:00:00    9  non-null values", 
        "2009-08-11 00:00:00    9  non-null values", 
        "2009-08-12 00:00:00    9  non-null values", 
        "2009-08-13 00:00:00    9  non-null values", 
        "2009-08-14 00:00:00    9  non-null values", 
        "2009-08-17 00:00:00    9  non-null values", 
        "2009-08-18 00:00:00    9  non-null values", 
        "2009-08-19 00:00:00    9  non-null values", 
        "2009-08-20 00:00:00    9  non-null values", 
        "2009-08-21 00:00:00    9  non-null values", 
        "2009-08-24 00:00:00    9  non-null values", 
        "2009-08-25 00:00:00    9  non-null values", 
        "2009-08-26 00:00:00    9  non-null values", 
        "2009-08-27 00:00:00    9  non-null values", 
        "2009-08-28 00:00:00    9  non-null values", 
        "2009-08-31 00:00:00    9  non-null values", 
        "2009-09-01 00:00:00    9  non-null values", 
        "2009-09-02 00:00:00    9  non-null values", 
        "2009-09-03 00:00:00    9  non-null values", 
        "2009-09-04 00:00:00    9  non-null values", 
        "2009-09-08 00:00:00    9  non-null values", 
        "2009-09-09 00:00:00    9  non-null values", 
        "2009-09-10 00:00:00    9  non-null values", 
        "2009-09-11 00:00:00    9  non-null values", 
        "2009-09-14 00:00:00    9  non-null values", 
        "2009-09-15 00:00:00    9  non-null values", 
        "2009-09-16 00:00:00    9  non-null values", 
        "2009-09-17 00:00:00    9  non-null values", 
        "2009-09-18 00:00:00    9  non-null values", 
        "2009-09-21 00:00:00    9  non-null values", 
        "2009-09-22 00:00:00    9  non-null values", 
        "2009-09-23 00:00:00    9  non-null values", 
        "2009-09-24 00:00:00    9  non-null values", 
        "2009-09-25 00:00:00    9  non-null values", 
        "2009-09-28 00:00:00    9  non-null values", 
        "2009-09-29 00:00:00    9  non-null values", 
        "2009-09-30 00:00:00    9  non-null values", 
        "2009-10-01 00:00:00    9  non-null values", 
        "2009-10-02 00:00:00    9  non-null values", 
        "2009-10-05 00:00:00    9  non-null values", 
        "2009-10-06 00:00:00    9  non-null values", 
        "2009-10-07 00:00:00    9  non-null values", 
        "2009-10-08 00:00:00    9  non-null values", 
        "2009-10-09 00:00:00    9  non-null values", 
        "2009-10-12 00:00:00    9  non-null values", 
        "2009-10-13 00:00:00    9  non-null values", 
        "2009-10-14 00:00:00    9  non-null values", 
        "2009-10-15 00:00:00    9  non-null values", 
        "2009-10-16 00:00:00    9  non-null values", 
        "2009-10-19 00:00:00    9  non-null values", 
        "2009-10-20 00:00:00    9  non-null values", 
        "2009-10-21 00:00:00    9  non-null values", 
        "2009-10-22 00:00:00    9  non-null values", 
        "2009-10-23 00:00:00    9  non-null values", 
        "2009-10-26 00:00:00    9  non-null values", 
        "2009-10-27 00:00:00    9  non-null values", 
        "2009-10-28 00:00:00    9  non-null values", 
        "2009-10-29 00:00:00    9  non-null values", 
        "2009-10-30 00:00:00    9  non-null values", 
        "2009-11-02 00:00:00    9  non-null values", 
        "2009-11-03 00:00:00    9  non-null values", 
        "2009-11-04 00:00:00    9  non-null values", 
        "2009-11-05 00:00:00    9  non-null values", 
        "2009-11-06 00:00:00    9  non-null values", 
        "2009-11-09 00:00:00    9  non-null values", 
        "2009-11-10 00:00:00    9  non-null values", 
        "2009-11-11 00:00:00    9  non-null values", 
        "2009-11-12 00:00:00    9  non-null values", 
        "2009-11-13 00:00:00    9  non-null values", 
        "2009-11-16 00:00:00    9  non-null values", 
        "2009-11-17 00:00:00    9  non-null values", 
        "2009-11-18 00:00:00    9  non-null values", 
        "2009-11-19 00:00:00    9  non-null values", 
        "2009-11-20 00:00:00    9  non-null values", 
        "2009-11-23 00:00:00    9  non-null values", 
        "2009-11-24 00:00:00    9  non-null values", 
        "2009-11-25 00:00:00    9  non-null values", 
        "2009-11-27 00:00:00    9  non-null values", 
        "2009-11-30 00:00:00    9  non-null values", 
        "2009-12-01 00:00:00    9  non-null values", 
        "2009-12-02 00:00:00    9  non-null values", 
        "2009-12-03 00:00:00    9  non-null values", 
        "2009-12-04 00:00:00    9  non-null values", 
        "2009-12-07 00:00:00    9  non-null values", 
        "2009-12-08 00:00:00    9  non-null values", 
        "2009-12-09 00:00:00    9  non-null values", 
        "2009-12-10 00:00:00    9  non-null values", 
        "2009-12-11 00:00:00    9  non-null values", 
        "2009-12-14 00:00:00    9  non-null values", 
        "2009-12-15 00:00:00    9  non-null values", 
        "2009-12-16 00:00:00    9  non-null values", 
        "2009-12-17 00:00:00    9  non-null values", 
        "2009-12-18 00:00:00    9  non-null values", 
        "2009-12-21 00:00:00    9  non-null values", 
        "2009-12-22 00:00:00    9  non-null values", 
        "2009-12-23 00:00:00    9  non-null values", 
        "2009-12-24 00:00:00    9  non-null values", 
        "2009-12-28 00:00:00    9  non-null values", 
        "2009-12-29 00:00:00    9  non-null values", 
        "2009-12-30 00:00:00    9  non-null values", 
        "2009-12-31 00:00:00    9  non-null values", 
        "2010-01-04 00:00:00    9  non-null values", 
        "2010-01-05 00:00:00    9  non-null values", 
        "2010-01-06 00:00:00    9  non-null values", 
        "2010-01-07 00:00:00    9  non-null values", 
        "2010-01-08 00:00:00    9  non-null values", 
        "2010-01-11 00:00:00    9  non-null values", 
        "2010-01-12 00:00:00    9  non-null values", 
        "2010-01-13 00:00:00    9  non-null values", 
        "2010-01-14 00:00:00    9  non-null values", 
        "2010-01-15 00:00:00    9  non-null values", 
        "2010-01-19 00:00:00    9  non-null values", 
        "2010-01-20 00:00:00    9  non-null values", 
        "2010-01-21 00:00:00    9  non-null values", 
        "2010-01-22 00:00:00    9  non-null values", 
        "2010-01-25 00:00:00    9  non-null values", 
        "2010-01-26 00:00:00    9  non-null values", 
        "2010-01-27 00:00:00    9  non-null values", 
        "2010-01-28 00:00:00    9  non-null values", 
        "2010-01-29 00:00:00    9  non-null values", 
        "2010-02-01 00:00:00    9  non-null values", 
        "2010-02-02 00:00:00    9  non-null values", 
        "2010-02-03 00:00:00    9  non-null values", 
        "2010-02-04 00:00:00    9  non-null values", 
        "2010-02-05 00:00:00    9  non-null values", 
        "2010-02-08 00:00:00    9  non-null values", 
        "2010-02-09 00:00:00    9  non-null values", 
        "2010-02-10 00:00:00    9  non-null values", 
        "2010-02-11 00:00:00    9  non-null values", 
        "2010-02-12 00:00:00    9  non-null values", 
        "2010-02-16 00:00:00    9  non-null values", 
        "2010-02-17 00:00:00    9  non-null values", 
        "2010-02-18 00:00:00    9  non-null values", 
        "2010-02-19 00:00:00    9  non-null values", 
        "2010-02-22 00:00:00    9  non-null values", 
        "2010-02-23 00:00:00    9  non-null values", 
        "2010-02-24 00:00:00    9  non-null values", 
        "2010-02-25 00:00:00    9  non-null values", 
        "2010-02-26 00:00:00    9  non-null values", 
        "2010-03-01 00:00:00    9  non-null values", 
        "2010-03-02 00:00:00    9  non-null values", 
        "2010-03-03 00:00:00    9  non-null values", 
        "2010-03-04 00:00:00    9  non-null values", 
        "2010-03-05 00:00:00    9  non-null values", 
        "2010-03-08 00:00:00    9  non-null values", 
        "2010-03-09 00:00:00    9  non-null values", 
        "2010-03-10 00:00:00    9  non-null values", 
        "2010-03-11 00:00:00    9  non-null values", 
        "2010-03-12 00:00:00    9  non-null values", 
        "2010-03-15 00:00:00    9  non-null values", 
        "2010-03-16 00:00:00    9  non-null values", 
        "2010-03-17 00:00:00    9  non-null values", 
        "2010-03-18 00:00:00    9  non-null values", 
        "2010-03-19 00:00:00    9  non-null values", 
        "2010-03-22 00:00:00    9  non-null values", 
        "2010-03-23 00:00:00    9  non-null values", 
        "2010-03-24 00:00:00    9  non-null values", 
        "2010-03-25 00:00:00    9  non-null values", 
        "2010-03-26 00:00:00    9  non-null values", 
        "2010-03-29 00:00:00    9  non-null values", 
        "2010-03-30 00:00:00    9  non-null values", 
        "2010-03-31 00:00:00    9  non-null values", 
        "2010-04-01 00:00:00    9  non-null values", 
        "2010-04-05 00:00:00    9  non-null values", 
        "2010-04-06 00:00:00    9  non-null values", 
        "2010-04-07 00:00:00    9  non-null values", 
        "2010-04-08 00:00:00    9  non-null values", 
        "2010-04-09 00:00:00    9  non-null values", 
        "2010-04-12 00:00:00    9  non-null values", 
        "2010-04-13 00:00:00    9  non-null values", 
        "2010-04-14 00:00:00    9  non-null values", 
        "2010-04-15 00:00:00    9  non-null values", 
        "2010-04-16 00:00:00    9  non-null values", 
        "2010-04-19 00:00:00    9  non-null values", 
        "2010-04-20 00:00:00    9  non-null values", 
        "2010-04-21 00:00:00    9  non-null values", 
        "2010-04-22 00:00:00    9  non-null values", 
        "2010-04-23 00:00:00    9  non-null values", 
        "2010-04-26 00:00:00    9  non-null values", 
        "2010-04-27 00:00:00    9  non-null values", 
        "2010-04-28 00:00:00    9  non-null values", 
        "2010-04-29 00:00:00    9  non-null values", 
        "2010-04-30 00:00:00    9  non-null values", 
        "2010-05-03 00:00:00    9  non-null values", 
        "2010-05-04 00:00:00    9  non-null values", 
        "2010-05-05 00:00:00    9  non-null values", 
        "2010-05-06 00:00:00    9  non-null values", 
        "2010-05-07 00:00:00    9  non-null values", 
        "2010-05-10 00:00:00    9  non-null values", 
        "2010-05-11 00:00:00    9  non-null values", 
        "2010-05-12 00:00:00    9  non-null values", 
        "2010-05-13 00:00:00    9  non-null values", 
        "2010-05-14 00:00:00    9  non-null values", 
        "2010-05-17 00:00:00    9  non-null values", 
        "2010-05-18 00:00:00    9  non-null values", 
        "2010-05-19 00:00:00    9  non-null values", 
        "2010-05-20 00:00:00    9  non-null values", 
        "2010-05-21 00:00:00    9  non-null values", 
        "2010-05-24 00:00:00    9  non-null values", 
        "2010-05-25 00:00:00    9  non-null values", 
        "2010-05-26 00:00:00    9  non-null values", 
        "2010-05-27 00:00:00    9  non-null values", 
        "2010-05-28 00:00:00    9  non-null values", 
        "2010-06-01 00:00:00    9  non-null values", 
        "2010-06-02 00:00:00    9  non-null values", 
        "2010-06-03 00:00:00    9  non-null values", 
        "2010-06-04 00:00:00    9  non-null values", 
        "2010-06-07 00:00:00    9  non-null values", 
        "2010-06-08 00:00:00    9  non-null values", 
        "2010-06-09 00:00:00    9  non-null values", 
        "2010-06-10 00:00:00    9  non-null values", 
        "2010-06-11 00:00:00    9  non-null values", 
        "2010-06-14 00:00:00    9  non-null values", 
        "2010-06-15 00:00:00    9  non-null values", 
        "2010-06-16 00:00:00    9  non-null values", 
        "2010-06-17 00:00:00    9  non-null values", 
        "2010-06-18 00:00:00    9  non-null values", 
        "2010-06-21 00:00:00    9  non-null values", 
        "2010-06-22 00:00:00    9  non-null values", 
        "2010-06-23 00:00:00    9  non-null values", 
        "2010-06-24 00:00:00    9  non-null values", 
        "2010-06-25 00:00:00    9  non-null values", 
        "2010-06-28 00:00:00    9  non-null values", 
        "2010-06-29 00:00:00    9  non-null values", 
        "2010-06-30 00:00:00    9  non-null values", 
        "2010-07-01 00:00:00    9  non-null values", 
        "2010-07-02 00:00:00    9  non-null values", 
        "2010-07-06 00:00:00    9  non-null values", 
        "2010-07-07 00:00:00    9  non-null values", 
        "2010-07-08 00:00:00    9  non-null values", 
        "2010-07-09 00:00:00    9  non-null values", 
        "2010-07-12 00:00:00    9  non-null values", 
        "2010-07-13 00:00:00    9  non-null values", 
        "2010-07-14 00:00:00    9  non-null values", 
        "2010-07-15 00:00:00    9  non-null values", 
        "2010-07-16 00:00:00    9  non-null values", 
        "2010-07-19 00:00:00    9  non-null values", 
        "2010-07-20 00:00:00    9  non-null values", 
        "2010-07-21 00:00:00    9  non-null values", 
        "2010-07-22 00:00:00    9  non-null values", 
        "2010-07-23 00:00:00    9  non-null values", 
        "2010-07-26 00:00:00    9  non-null values", 
        "2010-07-27 00:00:00    9  non-null values", 
        "2010-07-28 00:00:00    9  non-null values", 
        "2010-07-29 00:00:00    9  non-null values", 
        "2010-07-30 00:00:00    9  non-null values", 
        "2010-08-02 00:00:00    9  non-null values", 
        "2010-08-03 00:00:00    9  non-null values", 
        "2010-08-04 00:00:00    9  non-null values", 
        "2010-08-05 00:00:00    9  non-null values", 
        "2010-08-06 00:00:00    9  non-null values", 
        "2010-08-09 00:00:00    9  non-null values", 
        "2010-08-10 00:00:00    9  non-null values", 
        "2010-08-11 00:00:00    9  non-null values", 
        "2010-08-12 00:00:00    9  non-null values", 
        "2010-08-13 00:00:00    9  non-null values", 
        "2010-08-16 00:00:00    9  non-null values", 
        "2010-08-17 00:00:00    9  non-null values", 
        "2010-08-18 00:00:00    9  non-null values", 
        "2010-08-19 00:00:00    9  non-null values", 
        "2010-08-20 00:00:00    9  non-null values", 
        "2010-08-23 00:00:00    9  non-null values", 
        "2010-08-24 00:00:00    9  non-null values", 
        "2010-08-25 00:00:00    9  non-null values", 
        "2010-08-26 00:00:00    9  non-null values", 
        "2010-08-27 00:00:00    9  non-null values", 
        "2010-08-30 00:00:00    9  non-null values", 
        "2010-08-31 00:00:00    9  non-null values", 
        "2010-09-01 00:00:00    9  non-null values", 
        "2010-09-02 00:00:00    9  non-null values", 
        "2010-09-03 00:00:00    9  non-null values", 
        "2010-09-07 00:00:00    9  non-null values", 
        "2010-09-08 00:00:00    9  non-null values", 
        "2010-09-09 00:00:00    9  non-null values", 
        "2010-09-10 00:00:00    9  non-null values", 
        "2010-09-13 00:00:00    9  non-null values", 
        "2010-09-14 00:00:00    9  non-null values", 
        "2010-09-15 00:00:00    9  non-null values", 
        "2010-09-16 00:00:00    9  non-null values", 
        "2010-09-17 00:00:00    9  non-null values", 
        "2010-09-20 00:00:00    9  non-null values", 
        "2010-09-21 00:00:00    9  non-null values", 
        "2010-09-22 00:00:00    9  non-null values", 
        "2010-09-23 00:00:00    9  non-null values", 
        "2010-09-24 00:00:00    9  non-null values", 
        "2010-09-27 00:00:00    9  non-null values", 
        "2010-09-28 00:00:00    9  non-null values", 
        "2010-09-29 00:00:00    9  non-null values", 
        "2010-09-30 00:00:00    9  non-null values", 
        "2010-10-01 00:00:00    9  non-null values", 
        "2010-10-04 00:00:00    9  non-null values", 
        "2010-10-05 00:00:00    9  non-null values", 
        "2010-10-06 00:00:00    9  non-null values", 
        "2010-10-07 00:00:00    9  non-null values", 
        "2010-10-08 00:00:00    9  non-null values", 
        "2010-10-11 00:00:00    9  non-null values", 
        "2010-10-12 00:00:00    9  non-null values", 
        "2010-10-13 00:00:00    9  non-null values", 
        "2010-10-14 00:00:00    9  non-null values", 
        "2010-10-15 00:00:00    9  non-null values", 
        "2010-10-18 00:00:00    9  non-null values", 
        "2010-10-19 00:00:00    9  non-null values", 
        "2010-10-20 00:00:00    9  non-null values", 
        "2010-10-21 00:00:00    9  non-null values", 
        "2010-10-22 00:00:00    9  non-null values", 
        "2010-10-25 00:00:00    9  non-null values", 
        "2010-10-26 00:00:00    9  non-null values", 
        "2010-10-27 00:00:00    9  non-null values", 
        "2010-10-28 00:00:00    9  non-null values", 
        "2010-10-29 00:00:00    9  non-null values", 
        "2010-11-01 00:00:00    9  non-null values", 
        "2010-11-02 00:00:00    9  non-null values", 
        "2010-11-03 00:00:00    9  non-null values", 
        "2010-11-04 00:00:00    9  non-null values", 
        "2010-11-05 00:00:00    9  non-null values", 
        "2010-11-08 00:00:00    9  non-null values", 
        "2010-11-09 00:00:00    9  non-null values", 
        "2010-11-10 00:00:00    9  non-null values", 
        "2010-11-11 00:00:00    9  non-null values", 
        "2010-11-12 00:00:00    9  non-null values", 
        "2010-11-15 00:00:00    9  non-null values", 
        "2010-11-16 00:00:00    9  non-null values", 
        "2010-11-17 00:00:00    9  non-null values", 
        "2010-11-18 00:00:00    9  non-null values", 
        "2010-11-19 00:00:00    9  non-null values", 
        "2010-11-22 00:00:00    9  non-null values", 
        "2010-11-23 00:00:00    9  non-null values", 
        "2010-11-24 00:00:00    9  non-null values", 
        "2010-11-26 00:00:00    9  non-null values", 
        "2010-11-29 00:00:00    9  non-null values", 
        "2010-11-30 00:00:00    9  non-null values", 
        "2010-12-01 00:00:00    9  non-null values", 
        "2010-12-02 00:00:00    9  non-null values", 
        "2010-12-03 00:00:00    9  non-null values", 
        "2010-12-06 00:00:00    9  non-null values", 
        "2010-12-07 00:00:00    9  non-null values", 
        "2010-12-08 00:00:00    9  non-null values", 
        "2010-12-09 00:00:00    9  non-null values", 
        "2010-12-10 00:00:00    9  non-null values", 
        "2010-12-13 00:00:00    9  non-null values", 
        "2010-12-14 00:00:00    9  non-null values", 
        "2010-12-15 00:00:00    9  non-null values", 
        "2010-12-16 00:00:00    9  non-null values", 
        "2010-12-17 00:00:00    9  non-null values", 
        "2010-12-20 00:00:00    9  non-null values", 
        "2010-12-21 00:00:00    9  non-null values", 
        "2010-12-22 00:00:00    9  non-null values", 
        "2010-12-23 00:00:00    9  non-null values", 
        "2010-12-27 00:00:00    9  non-null values", 
        "2010-12-28 00:00:00    9  non-null values", 
        "2010-12-29 00:00:00    9  non-null values", 
        "2010-12-30 00:00:00    9  non-null values", 
        "2010-12-31 00:00:00    9  non-null values", 
        "2011-01-03 00:00:00    9  non-null values", 
        "2011-01-04 00:00:00    9  non-null values", 
        "2011-01-05 00:00:00    9  non-null values", 
        "2011-01-06 00:00:00    9  non-null values", 
        "2011-01-07 00:00:00    9  non-null values", 
        "2011-01-10 00:00:00    9  non-null values", 
        "2011-01-11 00:00:00    9  non-null values", 
        "2011-01-12 00:00:00    9  non-null values", 
        "2011-01-13 00:00:00    9  non-null values", 
        "2011-01-14 00:00:00    9  non-null values", 
        "2011-01-18 00:00:00    9  non-null values", 
        "2011-01-19 00:00:00    9  non-null values", 
        "2011-01-20 00:00:00    9  non-null values", 
        "2011-01-21 00:00:00    9  non-null values", 
        "2011-01-24 00:00:00    9  non-null values", 
        "2011-01-25 00:00:00    9  non-null values", 
        "2011-01-26 00:00:00    9  non-null values", 
        "2011-01-27 00:00:00    9  non-null values", 
        "2011-01-28 00:00:00    9  non-null values", 
        "2011-01-31 00:00:00    9  non-null values", 
        "2011-02-01 00:00:00    9  non-null values", 
        "2011-02-02 00:00:00    9  non-null values", 
        "2011-02-03 00:00:00    9  non-null values", 
        "2011-02-04 00:00:00    9  non-null values", 
        "2011-02-07 00:00:00    9  non-null values", 
        "2011-02-08 00:00:00    9  non-null values", 
        "2011-02-09 00:00:00    9  non-null values", 
        "2011-02-10 00:00:00    9  non-null values", 
        "2011-02-11 00:00:00    9  non-null values", 
        "2011-02-14 00:00:00    9  non-null values", 
        "2011-02-15 00:00:00    9  non-null values", 
        "2011-02-16 00:00:00    9  non-null values", 
        "2011-02-17 00:00:00    9  non-null values", 
        "2011-02-18 00:00:00    9  non-null values", 
        "2011-02-22 00:00:00    9  non-null values", 
        "2011-02-23 00:00:00    9  non-null values", 
        "2011-02-24 00:00:00    9  non-null values", 
        "2011-02-25 00:00:00    9  non-null values", 
        "2011-02-28 00:00:00    9  non-null values", 
        "2011-03-01 00:00:00    9  non-null values", 
        "2011-03-02 00:00:00    9  non-null values", 
        "2011-03-03 00:00:00    9  non-null values", 
        "2011-03-04 00:00:00    9  non-null values", 
        "2011-03-07 00:00:00    9  non-null values", 
        "2011-03-08 00:00:00    9  non-null values", 
        "2011-03-09 00:00:00    9  non-null values", 
        "2011-03-10 00:00:00    9  non-null values", 
        "2011-03-11 00:00:00    9  non-null values", 
        "2011-03-14 00:00:00    9  non-null values", 
        "2011-03-15 00:00:00    9  non-null values", 
        "2011-03-16 00:00:00    9  non-null values", 
        "2011-03-17 00:00:00    9  non-null values", 
        "2011-03-18 00:00:00    9  non-null values", 
        "2011-03-21 00:00:00    9  non-null values", 
        "2011-03-22 00:00:00    9  non-null values", 
        "2011-03-23 00:00:00    9  non-null values", 
        "2011-03-24 00:00:00    9  non-null values", 
        "2011-03-25 00:00:00    9  non-null values", 
        "2011-03-28 00:00:00    9  non-null values", 
        "2011-03-29 00:00:00    9  non-null values", 
        "2011-03-30 00:00:00    9  non-null values", 
        "2011-03-31 00:00:00    9  non-null values", 
        "2011-04-01 00:00:00    9  non-null values", 
        "2011-04-04 00:00:00    9  non-null values", 
        "2011-04-05 00:00:00    9  non-null values", 
        "2011-04-06 00:00:00    9  non-null values", 
        "2011-04-07 00:00:00    9  non-null values", 
        "2011-04-08 00:00:00    9  non-null values", 
        "2011-04-11 00:00:00    9  non-null values", 
        "2011-04-12 00:00:00    9  non-null values", 
        "2011-04-13 00:00:00    9  non-null values", 
        "2011-04-14 00:00:00    9  non-null values", 
        "2011-04-15 00:00:00    9  non-null values", 
        "2011-04-18 00:00:00    9  non-null values", 
        "2011-04-19 00:00:00    9  non-null values", 
        "2011-04-20 00:00:00    9  non-null values", 
        "2011-04-21 00:00:00    9  non-null values", 
        "2011-04-25 00:00:00    9  non-null values", 
        "2011-04-26 00:00:00    9  non-null values", 
        "2011-04-27 00:00:00    9  non-null values", 
        "2011-04-28 00:00:00    9  non-null values", 
        "2011-04-29 00:00:00    9  non-null values", 
        "2011-05-02 00:00:00    9  non-null values", 
        "2011-05-03 00:00:00    9  non-null values", 
        "2011-05-04 00:00:00    9  non-null values", 
        "2011-05-05 00:00:00    9  non-null values", 
        "2011-05-06 00:00:00    9  non-null values", 
        "2011-05-09 00:00:00    9  non-null values", 
        "2011-05-10 00:00:00    9  non-null values", 
        "2011-05-11 00:00:00    9  non-null values", 
        "2011-05-12 00:00:00    9  non-null values", 
        "2011-05-13 00:00:00    9  non-null values", 
        "2011-05-16 00:00:00    9  non-null values", 
        "2011-05-17 00:00:00    9  non-null values", 
        "2011-05-18 00:00:00    9  non-null values", 
        "2011-05-19 00:00:00    9  non-null values", 
        "2011-05-20 00:00:00    9  non-null values", 
        "2011-05-23 00:00:00    9  non-null values", 
        "2011-05-24 00:00:00    9  non-null values", 
        "2011-05-25 00:00:00    9  non-null values", 
        "2011-05-26 00:00:00    9  non-null values", 
        "2011-05-27 00:00:00    9  non-null values", 
        "2011-05-31 00:00:00    9  non-null values", 
        "2011-06-01 00:00:00    9  non-null values", 
        "2011-06-02 00:00:00    9  non-null values", 
        "2011-06-03 00:00:00    9  non-null values", 
        "2011-06-06 00:00:00    9  non-null values", 
        "2011-06-07 00:00:00    9  non-null values", 
        "2011-06-08 00:00:00    9  non-null values", 
        "2011-06-09 00:00:00    9  non-null values", 
        "2011-06-10 00:00:00    9  non-null values", 
        "2011-06-13 00:00:00    9  non-null values", 
        "2011-06-14 00:00:00    9  non-null values", 
        "2011-06-15 00:00:00    9  non-null values", 
        "2011-06-16 00:00:00    9  non-null values", 
        "2011-06-17 00:00:00    9  non-null values", 
        "2011-06-20 00:00:00    9  non-null values", 
        "2011-06-21 00:00:00    9  non-null values", 
        "2011-06-22 00:00:00    9  non-null values", 
        "2011-06-23 00:00:00    9  non-null values", 
        "2011-06-24 00:00:00    9  non-null values", 
        "2011-06-27 00:00:00    9  non-null values", 
        "2011-06-28 00:00:00    9  non-null values", 
        "2011-06-29 00:00:00    9  non-null values", 
        "2011-06-30 00:00:00    9  non-null values", 
        "2011-07-01 00:00:00    9  non-null values", 
        "2011-07-05 00:00:00    9  non-null values", 
        "2011-07-06 00:00:00    9  non-null values", 
        "2011-07-07 00:00:00    9  non-null values", 
        "2011-07-08 00:00:00    9  non-null values", 
        "2011-07-11 00:00:00    9  non-null values", 
        "2011-07-12 00:00:00    9  non-null values", 
        "2011-07-13 00:00:00    9  non-null values", 
        "2011-07-14 00:00:00    9  non-null values", 
        "2011-07-15 00:00:00    9  non-null values", 
        "2011-07-18 00:00:00    9  non-null values", 
        "2011-07-19 00:00:00    9  non-null values", 
        "2011-07-20 00:00:00    9  non-null values", 
        "2011-07-21 00:00:00    9  non-null values", 
        "2011-07-22 00:00:00    9  non-null values", 
        "2011-07-25 00:00:00    9  non-null values", 
        "2011-07-26 00:00:00    9  non-null values", 
        "2011-07-27 00:00:00    9  non-null values", 
        "2011-07-28 00:00:00    9  non-null values", 
        "2011-07-29 00:00:00    9  non-null values", 
        "2011-08-01 00:00:00    9  non-null values", 
        "2011-08-02 00:00:00    9  non-null values", 
        "2011-08-03 00:00:00    9  non-null values", 
        "2011-08-04 00:00:00    9  non-null values", 
        "2011-08-05 00:00:00    9  non-null values", 
        "2011-08-08 00:00:00    9  non-null values", 
        "2011-08-09 00:00:00    9  non-null values", 
        "2011-08-10 00:00:00    9  non-null values", 
        "2011-08-11 00:00:00    9  non-null values", 
        "2011-08-12 00:00:00    9  non-null values", 
        "2011-08-15 00:00:00    9  non-null values", 
        "2011-08-16 00:00:00    9  non-null values", 
        "2011-08-17 00:00:00    9  non-null values", 
        "2011-08-18 00:00:00    9  non-null values", 
        "2011-08-19 00:00:00    9  non-null values", 
        "2011-08-22 00:00:00    9  non-null values", 
        "2011-08-23 00:00:00    9  non-null values", 
        "2011-08-24 00:00:00    9  non-null values", 
        "2011-08-25 00:00:00    9  non-null values", 
        "2011-08-26 00:00:00    9  non-null values", 
        "2011-08-29 00:00:00    9  non-null values", 
        "2011-08-30 00:00:00    9  non-null values", 
        "2011-08-31 00:00:00    9  non-null values", 
        "2011-09-01 00:00:00    9  non-null values", 
        "2011-09-02 00:00:00    9  non-null values", 
        "2011-09-06 00:00:00    9  non-null values", 
        "2011-09-07 00:00:00    9  non-null values", 
        "2011-09-08 00:00:00    9  non-null values", 
        "2011-09-09 00:00:00    9  non-null values", 
        "2011-09-12 00:00:00    9  non-null values", 
        "2011-09-13 00:00:00    9  non-null values", 
        "2011-09-14 00:00:00    9  non-null values", 
        "2011-09-15 00:00:00    9  non-null values", 
        "2011-09-16 00:00:00    9  non-null values", 
        "2011-09-19 00:00:00    9  non-null values", 
        "2011-09-20 00:00:00    9  non-null values", 
        "2011-09-21 00:00:00    9  non-null values", 
        "2011-09-22 00:00:00    9  non-null values", 
        "2011-09-23 00:00:00    9  non-null values", 
        "2011-09-26 00:00:00    9  non-null values", 
        "2011-09-27 00:00:00    9  non-null values", 
        "2011-09-28 00:00:00    9  non-null values", 
        "2011-09-29 00:00:00    9  non-null values", 
        "2011-09-30 00:00:00    9  non-null values", 
        "2011-10-03 00:00:00    9  non-null values", 
        "2011-10-04 00:00:00    9  non-null values", 
        "2011-10-05 00:00:00    9  non-null values", 
        "2011-10-06 00:00:00    9  non-null values", 
        "2011-10-07 00:00:00    9  non-null values", 
        "2011-10-10 00:00:00    9  non-null values", 
        "2011-10-11 00:00:00    9  non-null values", 
        "2011-10-12 00:00:00    9  non-null values", 
        "2011-10-13 00:00:00    9  non-null values", 
        "2011-10-14 00:00:00    9  non-null values", 
        "dtypes: float64(1000)"
       ]
      }
     ], 
     "prompt_number": 108
    }, 
    {
     "cell_type": "code", 
     "collapsed": true, 
     "input": [
      "def peak_date(series):", 
      "    return series.index[series.argmax()]", 
      "close_px.apply(peak_date)"
     ], 
     "language": "python", 
     "outputs": [], 
     "prompt_number": 38
    }, 
    {
     "cell_type": "code", 
     "collapsed": true, 
     "input": [
      "df.apply(lambda x: x.max() - x.min()) # np.ptp"
     ], 
     "language": "python", 
     "outputs": [], 
     "prompt_number": 39
    }, 
    {
     "cell_type": "code", 
     "collapsed": true, 
     "input": [
      "np.log(close_px)"
     ], 
     "language": "python", 
     "outputs": [], 
     "prompt_number": 40
    }, 
    {
     "cell_type": "markdown", 
     "source": [
      "Plotting", 
      "========", 
      "", 
      "Some basic plotting integration with matplotlib in Series / DataFrame"
     ]
    }, 
    {
     "cell_type": "code", 
     "collapsed": true, 
     "input": [
      "close_px[['AAPL', 'IBM', 'MSFT', 'XOM']].plot()"
     ], 
     "language": "python", 
     "outputs": [], 
     "prompt_number": 41
    }, 
    {
     "cell_type": "code", 
     "collapsed": true, 
     "input": [
      "rets.ix[-1]"
     ], 
     "language": "python", 
     "outputs": [], 
     "prompt_number": 42
    }, 
    {
     "cell_type": "code", 
     "collapsed": true, 
     "input": [
      "close_px.ix[-1].plot(kind='bar')", 
      "title('Prices on %s' % close_px.index[-1])", 
      "axhline(0)"
     ], 
     "language": "python", 
     "outputs": [], 
     "prompt_number": 43
    }, 
    {
     "cell_type": "markdown", 
     "source": [
      "Hierarchical indexing", 
      "---------------------"
     ]
    }, 
    {
     "cell_type": "code", 
     "collapsed": true, 
     "input": [
      "index = MultiIndex(levels=[['foo', 'bar', 'baz', 'qux'],", 
      "                                   ['one', 'two', 'three']],", 
      "                           labels=[[0, 0, 0, 1, 1, 2, 2, 3, 3, 3],", 
      "                                   [0, 1, 2, 0, 1, 1, 2, 0, 1, 2]])", 
      "hdf = DataFrame(np.random.randn(10, 3), index=index,", 
      "                columns=['A', 'B', 'C'])", 
      "hdf"
     ], 
     "language": "python", 
     "outputs": [], 
     "prompt_number": 44
    }, 
    {
     "cell_type": "code", 
     "collapsed": true, 
     "input": [
      "hdf.ix['foo']"
     ], 
     "language": "python", 
     "outputs": [], 
     "prompt_number": 45
    }, 
    {
     "cell_type": "code", 
     "collapsed": true, 
     "input": [
      "hdf.ix['foo'] = 0", 
      "hdf"
     ], 
     "language": "python", 
     "outputs": [], 
     "prompt_number": 46
    }, 
    {
     "cell_type": "code", 
     "collapsed": true, 
     "input": [
      "hdf.ix['foo', 'three']"
     ], 
     "language": "python", 
     "outputs": [], 
     "prompt_number": 47
    }, 
    {
     "cell_type": "markdown", 
     "source": [
      "Stacking and unstacking", 
      "-----------------------"
     ]
    }, 
    {
     "cell_type": "code", 
     "collapsed": true, 
     "input": [
      "tuples = zip(*[['bar', 'bar', 'baz', 'baz',", 
      "                'foo', 'foo', 'qux', 'qux'],", 
      "               ['one', 'two', 'one', 'two',", 
      "                'one', 'two', 'one', 'two']])", 
      "index = MultiIndex.from_tuples(tuples)", 
      "columns = MultiIndex.from_tuples([('A', 'cat'), ('B', 'dog'),", 
      "                                  ('B', 'cat'), ('A', 'dog')])", 
      "df = DataFrame(randn(8, 4), index=index, columns=columns)", 
      "df"
     ], 
     "language": "python", 
     "outputs": [], 
     "prompt_number": 48
    }, 
    {
     "cell_type": "code", 
     "collapsed": true, 
     "input": [
      "df2 = df.ix[[0, 1, 2, 4, 5, 7]]", 
      "df2"
     ], 
     "language": "python", 
     "outputs": [], 
     "prompt_number": 49
    }, 
    {
     "cell_type": "code", 
     "collapsed": true, 
     "input": [
      "df.unstack()['B']"
     ], 
     "language": "python", 
     "outputs": [], 
     "prompt_number": 50
    }, 
    {
     "cell_type": "markdown", 
     "source": [
      "GroupBy", 
      "======="
     ]
    }, 
    {
     "cell_type": "code", 
     "collapsed": true, 
     "input": [
      "df = DataFrame({'A' : ['foo', 'bar', 'foo', 'bar',", 
      "                       'foo', 'bar', 'foo', 'foo'],", 
      "                'B' : ['one', 'one', 'two', 'three',", 
      "                       'two', 'two', 'one', 'three'],", 
      "                'C' : np.random.randn(8),", 
      "                'D' : np.random.randn(8)})", 
      "df"
     ], 
     "language": "python", 
     "outputs": [], 
     "prompt_number": 51
    }, 
    {
     "cell_type": "code", 
     "collapsed": true, 
     "input": [
      "for key, group in df.groupby('A'):", 
      "    print key", 
      "    print group"
     ], 
     "language": "python", 
     "outputs": [], 
     "prompt_number": 52
    }, 
    {
     "cell_type": "code", 
     "collapsed": true, 
     "input": [
      "df.groupby('A')['C'].describe().T"
     ], 
     "language": "python", 
     "outputs": [], 
     "prompt_number": 53
    }, 
    {
     "cell_type": "code", 
     "collapsed": true, 
     "input": [
      "df.groupby('A').mean()"
     ], 
     "language": "python", 
     "outputs": [], 
     "prompt_number": 54
    }, 
    {
     "cell_type": "code", 
     "collapsed": true, 
     "input": [
      "for key, group in df.groupby('A'):", 
      "    print key", 
      "    print group"
     ], 
     "language": "python", 
     "outputs": [], 
     "prompt_number": 55
    }, 
    {
     "cell_type": "code", 
     "collapsed": true, 
     "input": [
      "df.groupby(['A', 'B']).mean()"
     ], 
     "language": "python", 
     "outputs": [], 
     "prompt_number": 56
    }, 
    {
     "cell_type": "code", 
     "collapsed": true, 
     "input": [
      "df.groupby(['A', 'B'], as_index=False).mean()"
     ], 
     "language": "python", 
     "outputs": [], 
     "prompt_number": 57
    }, 
    {
     "cell_type": "markdown", 
     "source": [
      "GroupBy example: linear regression by group", 
      "-------------------------------------------"
     ]
    }, 
    {
     "cell_type": "code", 
     "collapsed": true, 
     "input": [
      "import scikits.statsmodels.api as sm", 
      "rets = close_px / close_px.shift(1) - 1", 
      "", 
      "def get_beta(rets):", 
      "    rets = rets.dropna()", 
      "    rets['intercept'] = 1.", 
      "    model = sm.OLS(rets['MSFT'], rets.ix[:, ['AAPL', 'intercept']]).fit()", 
      "    return model.params", 
      "", 
      "get_beta(rets)"
     ], 
     "language": "python", 
     "outputs": [], 
     "prompt_number": 58
    }, 
    {
     "cell_type": "code", 
     "collapsed": true, 
     "input": [
      "grouped = rets.groupby([lambda x: x.year, lambda x: x.month])", 
      "beta_by_ym = grouped.apply(get_beta)", 
      "beta_by_ym"
     ], 
     "language": "python", 
     "outputs": [], 
     "prompt_number": 59
    }, 
    {
     "cell_type": "code", 
     "collapsed": true, 
     "input": [
      "beta_by_ym.unstack(0)['AAPL']"
     ], 
     "language": "python", 
     "outputs": [], 
     "prompt_number": 60
    }, 
    {
     "cell_type": "markdown", 
     "source": [
      "GroupBy with hierarchical indexing", 
      "----------------------------------"
     ]
    }, 
    {
     "cell_type": "code", 
     "collapsed": true, 
     "input": [
      "tuples = zip(*[['bar', 'bar', 'baz', 'baz',", 
      "                'foo', 'foo', 'qux', 'qux'],", 
      "               ['one', 'two', 'one', 'two',", 
      "                'one', 'two', 'one', 'two']])", 
      "index = MultiIndex.from_tuples(tuples)", 
      "columns = MultiIndex.from_tuples([('A', 'cat'), ('B', 'dog'),", 
      "                                  ('B', 'cat'), ('A', 'dog')])", 
      "df = DataFrame(randn(8, 4), index=index, columns=columns)", 
      "df"
     ], 
     "language": "python", 
     "outputs": [], 
     "prompt_number": 61
    }, 
    {
     "cell_type": "code", 
     "collapsed": true, 
     "input": [
      "df.groupby(level=0, axis=0).mean()"
     ], 
     "language": "python", 
     "outputs": [], 
     "prompt_number": 62
    }, 
    {
     "cell_type": "code", 
     "collapsed": true, 
     "input": [
      "df.stack()"
     ], 
     "language": "python", 
     "outputs": [], 
     "prompt_number": 63
    }, 
    {
     "cell_type": "code", 
     "collapsed": true, 
     "input": [
      "df.stack().mean(1).unstack()"
     ], 
     "language": "python", 
     "outputs": [], 
     "prompt_number": 64
    }, 
    {
     "cell_type": "code", 
     "collapsed": true, 
     "input": [
      "# could also have done", 
      "df.groupby(level=1, axis=1).mean()"
     ], 
     "language": "python", 
     "outputs": [], 
     "prompt_number": 65
    }, 
    {
     "cell_type": "code", 
     "collapsed": true, 
     "input": [], 
     "language": "python", 
     "outputs": [], 
     "prompt_number": "&nbsp;"
    }
   ]
  }
 ]
}