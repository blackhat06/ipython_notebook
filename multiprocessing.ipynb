{
 "metadata": {
  "name": "multiprocessing"
 }, 
 "nbformat": 2, 
 "worksheets": [
  {
   "cells": [
    {
     "cell_type": "code", 
     "collapsed": false, 
     "input": [
      "#basic forking example in python", 
      "", 
      "import os", 
      "", 
      "def my_fork():", 
      "    child_pid = os.fork()", 
      "    if child_pid == 0:", 
      "        print \"Child Process: PID %s\" % os.getpid()", 
      "    else:", 
      "        print \"Parent process: PID %s\" % os.getpid()", 
      "        ", 
      "", 
      "my_fork()", 
      "", 
      "", 
      ""
     ], 
     "language": "python", 
     "outputs": [
      {
       "output_type": "stream", 
       "stream": "stdout", 
       "text": [
        "Parent process: PID 10356"
       ]
      }
     ], 
     "prompt_number": 10
    }, 
    {
     "cell_type": "code", 
     "collapsed": false, 
     "input": [
      "import subprocess", 
      "", 
      "subprocess.call(['ls', '-l'])"
     ], 
     "language": "python", 
     "outputs": [
      {
       "output_type": "pyout", 
       "prompt_number": 3, 
       "text": [
        "0"
       ]
      }
     ], 
     "prompt_number": 3
    }, 
    {
     "cell_type": "code", 
     "collapsed": false, 
     "input": [
      "subprocess.call(['samtools', 'index', 'test_mate_pair_sorted.bam'])"
     ], 
     "language": "python", 
     "outputs": [
      {
       "output_type": "pyout", 
       "prompt_number": 5, 
       "text": [
        "0"
       ]
      }
     ], 
     "prompt_number": 5
    }, 
    {
     "cell_type": "code", 
     "collapsed": false, 
     "input": [
      "!ls"
     ], 
     "language": "python", 
     "outputs": [
      {
       "output_type": "stream", 
       "stream": "stdout", 
       "text": [
        "ElectionData.ipynb\tbarrolee\t\t multiprocessing.ipynb\t\t\t     spike_in_report_sciclone.ipynb", 
        "FEC.v2.ipynb\t\tbirths.csv\t\t pandas_Baby_Names.ipynb\t\t     stock_data.csv", 
        "IntegerArray.txt\tbx_python_test.ipynb\t pandas_births.ipynb\t\t\t     test_mate_pair_sorted.bam", 
        "NYCPython_FoodDB.ipynb\tconvert.py\t\t rna_pet_clustering.ipynb\t\t     test_mate_pair_sorted.bam.bai", 
        "P00000001-ALL.txt\tdrmaa_example.ipynb\t scipy_2011_numpy_matplotlib_tutorial.ipynb  tips (2).csv", 
        "Pandas_Basics.ipynb\tfoo.csv\t\t\t sklearn-tutorial\t\t\t     tips.csv", 
        "Untitled0.ipynb\t\tfoods-2011-10-03.json\t sklearn.ipynb", 
        "baby-names2.csv\t\tmarakana_tutorial.ipynb  sorting.ipynb"
       ]
      }
     ], 
     "prompt_number": 6
    }, 
    {
     "cell_type": "code", 
     "collapsed": false, 
     "input": [
      "try:", 
      "    output = subprocess.check_output(", 
      "                                      'echo to stdout; echo to stderr 1>&2; exit 1',", 
      "                                      shell = True,", 
      "                                      stderr=subprocess.STDOUT,", 
      "                                     )", 
      "except subprocess.CalledProcessError as err:", 
      "        print 'Error:', err", 
      "else:", 
      "        print 'Have %d bytes in the output' % len(output)", 
      "        print output", 
      "        "
     ], 
     "language": "python", 
     "outputs": [
      {
       "output_type": "stream", 
       "stream": "stdout", 
       "text": [
        "Error: Command &apos;echo to stdout; echo to stderr 1&gt;&amp;2; exit 1&apos; returned non-zero exit status 1"
       ]
      }
     ], 
     "prompt_number": 10
    }, 
    {
     "cell_type": "code", 
     "collapsed": false, 
     "input": [
      "#Popen one way communication", 
      "", 
      "print 'read:'", 
      "proc = subprocess.Popen(['echo','\"stdout\"'],", 
      "                        stdout=subprocess.PIPE,", 
      "                        )", 
      "", 
      "stdout_value = proc.communicate()[0]", 
      "print '\\t stdout:', repr(stdout_value)", 
      "", 
      "", 
      "print 'write:'", 
      "proc = subprocess.Popen(['cat','-'],", 
      "                        stdin = subprocess.PIPE,", 
      "                        )", 
      "", 
      "proc.communicate('\\t stdin : to stdin\\n')", 
      "", 
      "", 
      "", 
      "", 
      "#proc = subprocess.Popen(['cat','-'], stdin=subprocess.PIPE,)"
     ], 
     "language": "python", 
     "outputs": [
      {
       "output_type": "stream", 
       "stream": "stdout", 
       "text": [
        "read:", 
        "\t stdout: &apos;&quot;stdout&quot;\\n&apos;", 
        "write:"
       ]
      }, 
      {
       "output_type": "pyout", 
       "prompt_number": 15, 
       "text": [
        "(None, None)"
       ]
      }
     ], 
     "prompt_number": 15
    }, 
    {
     "cell_type": "code", 
     "collapsed": false, 
     "input": [
      "# connecting segments of pipe", 
      "", 
      "", 
      "ls_out = subprocess.Popen(['ls','-l'],", 
      "                          stdout = subprocess.PIPE,", 
      "                          )", 
      "", 
      "#print ls_out.communicate()[0]", 
      "#instead of getting the output we will push to another pipe", 
      "", 
      "", 
      "cut = subprocess.Popen(['awk','{print $9}'],", 
      "                        stdin = ls_out.stdout,", 
      "                        stdout = subprocess.PIPE,", 
      "                       )", 
      "", 
      "print cut.communicate()"
     ], 
     "language": "python", 
     "outputs": [
      {
       "output_type": "stream", 
       "stream": "stdout", 
       "text": [
        "(&apos;\\nElectionData.ipynb\\nFEC.v2.ipynb\\nIntegerArray.txt\\nNYCPython_FoodDB.ipynb\\nP00000001-ALL.txt\\nPandas_Basics.ipynb\\nUntitled0.ipynb\\nbaby-names2.csv\\nbarrolee\\nbirths.csv\\nbx_python_test.ipynb\\nconvert.py\\ndrmaa_example.ipynb\\nfoo.csv\\nfoods-2011-10-03.json\\nmarakana_tutorial.ipynb\\nmultiprocessing.ipynb\\npandas_Baby_Names.ipynb\\npandas_births.ipynb\\nrna_pet_clustering.ipynb\\nscipy_2011_numpy_matplotlib_tutorial.ipynb\\nsklearn-tutorial\\nsklearn.ipynb\\nsorting.ipynb\\nspike_in_report_sciclone.ipynb\\nstock_data.csv\\ntest_mate_pair_sorted.bam\\ntest_mate_pair_sorted.bam.bai\\ntips\\ntips.csv\\n&apos;, None)"
       ]
      }
     ], 
     "prompt_number": 33
    }, 
    {
     "cell_type": "code", 
     "collapsed": true, 
     "input": [], 
     "language": "python", 
     "outputs": [], 
     "prompt_number": "&nbsp;"
    }
   ]
  }
 ]
}