{
 "metadata": {
  "name": "rna_spike_in_report_sciclone"
 }, 
 "nbformat": 2, 
 "worksheets": [
  {
   "cells": [
    {
     "cell_type": "code", 
     "collapsed": true, 
     "input": [
      "from pandas import *", 
      "", 
      "##turning off the html printing of tables", 
      "set_printoptions(notebook_repr_html = True)", 
      "set_printoptions(max_rows=500)"
     ], 
     "language": "python", 
     "outputs": [], 
     "prompt_number": 2
    }, 
    {
     "cell_type": "code", 
     "collapsed": true, 
     "input": [
      "import re", 
      "", 
      "well_name = { 1:'A', 2:'B', 3:'C', 4:'D', 5:'E', 6:'F', 7:'G', 8:'H'}", 
      "well_name_to_row = {'A':1,'B':2,'C':3, 'D':4,'E':5, 'F':6, 'G':7, 'H':8}", 
      "", 
      "", 
      "def index_num_to_well(index_num):", 
      "    m=re.search('(IT0+)(.*)',index_num)", 
      "    if m:", 
      "        index_num = int(m.group(2))", 
      "        if index_num > 96:  ##current plate can hav max of 96 wells", 
      "            return 'NA'", 
      "        quotient,remainder = divmod(index_num,8)", 
      "        #print index_num, quotient, remainder", 
      "        ", 
      "        ###quotient is X-axis (horizontal line on plate) 1-12", 
      "        ###remainder : well name (vertical line on plate)  A-H", 
      "        if remainder != 0:", 
      "            x_axis = quotient + 1", 
      "            well = well_name.get(remainder)", 
      "            well_location='%s%d' % (well,x_axis)", 
      "        else:", 
      "            x_axis = quotient", 
      "            well = well_name.get(8)", 
      "            well_location = '%s%d' % (well,x_axis)", 
      "        ", 
      "    return well_location", 
      "        "
     ], 
     "language": "python", 
     "outputs": [], 
     "prompt_number": 3
    }, 
    {
     "cell_type": "code", 
     "collapsed": true, 
     "input": [
      "\"\"\"", 
      "Foar a given dir/path ..recursively look for files in the naming format", 
      "xxxx.fastq.gz.contam.stat.txt", 
      "and generate a list of stats for the each ERCC spike for each library", 
      "\"\"\"", 
      "", 
      "import os, fnmatch", 
      "from pandas import *", 
      "import pandas", 
      "import re", 
      "", 
      "", 
      "def get_FilesList(path,pattern):", 
      "    \"\"\"", 
      "    traverse a dir recursively and find files with full paths", 
      "    that match the given pattern", 
      "    \"\"\"", 
      "    SUB='get_FilesList'", 
      "    found_files = []", 
      "    for root,dirs,files in os.walk(path):", 
      "        for basename in files:", 
      "            if fnmatch.fnmatch(basename,pattern):", 
      "                filename = str(os.path.join(root,basename))", 
      "                filename.strip()", 
      "                found_files.append(filename.strip())", 
      "    print '[%s]: Found %d files at %s' % ( SUB,len(found_files),path)", 
      "    return found_files", 
      "                ", 
      "    ", 
      "def create_data_array(file_list):", 
      "    data = []", 
      "    #out_stats_file = path+'spike_in_stats.txt'", 
      "    #out_fh = open(out_stats_file,'w')", 
      "    ", 
      "    for file_name in file_list:", 
      "        #print file_name", 
      "        with open(file_name, 'r') as fh:", 
      "            file_blob = fh.readlines();", 
      "            file_basename = os.path.basename(file_name)", 
      "            file_prefix = file_basename.replace('.bam.readCounts','')", 
      "            #file_blob = file_blob[2:-3]", 
      "            ", 
      "            for line in file_blob:", 
      "                each_list = line.split('\\t')", 
      "                spike_seq = each_list[0].strip()", 
      "                read_count = int(each_list[1].strip())", 
      "                percentage = float(each_list[2].replace('%',''))", 
      "                ", 
      "                if spike_seq == '*':", 
      "                    continue", 
      "                #finding the index from the fastq name", 
      "                m = re.search('(.+?)\\..+?([AGCT]{6,})',file_prefix)", 
      "                if m:", 
      "                    library_name = m.group(1)", 
      "                    index_in_fastq = m.group(2)", 
      "                    #print index_in_fastq", 
      "                    temp_tuple=(library_name,file_prefix,spike_seq,read_count,percentage,index_in_fastq)", 
      "                    #print temp_tuple", 
      "                    data.append(temp_tuple)", 
      "    print 'Read %d files' % (len(file_list))", 
      "    return data", 
      "", 
      "        ", 
      "", 
      "       ", 
      "", 
      "    ", 
      "", 
      "    "
     ], 
     "language": "python", 
     "outputs": [], 
     "prompt_number": 4
    }, 
    {
     "cell_type": "code", 
     "collapsed": true, 
     "input": [
      "import matplotlib.pyplot as plt", 
      "import numpy as np", 
      "import pandas", 
      "from matplotlib.table import Table", 
      "", 
      "", 
      "def sciclone_plate_plot(data,method,plot_title=None,fmt='{:.4f}', bkg_colors=['yellow','white']):", 
      "    \"\"\"", 
      "    given a numpy array generated from create_data_array{function}", 
      "    create a plate level plot", 
      "    \"\"\"", 
      "    ", 
      "    close()", 
      "    ", 
      "    fig=figure(figsize=(14,12))", 
      "", 
      "    ax= plt.subplot(2,1,1,)", 
      "    title(plot_title,verticalalignment='center')", 
      "    #subplot(2,1,1)", 
      "    #fig(num=None,figsize=(8,6),dpi=100,facecolor='w',edgecolor='k')", 
      "    ax.set_axis_off()", 
      "    #ax.set_figsize=(12,10)", 
      "    tb = Table(ax,bbox=[0,0,1,1])", 
      "    ", 
      "    nrows, ncols = data.shape", 
      "    width, height = 1.0/ncols, 1.0/nrows", 
      "    ", 
      "    ", 
      "    #calculating the sd and mean for spikewells", 
      "    values_all_spiked_wells =[]", 
      "    #based on 0 index", 
      "    #even rows have even spiked in cols", 
      "    values_spiked_wells_even_rows = data[::2,::2].flatten() ", 
      "    # odd rows have odd spiked in cols", 
      "    values_spiked_wells_odd_rows = data[1::2,1::2].flatten()", 
      "    #print values_spiked_wells_odd_rows", 
      "    values_all_spiked_wells = concatenate( (values_spiked_wells_even_rows, values_spiked_wells_odd_rows), axis=0)", 
      "    ", 
      "    #removing the NaN's from the array", 
      "    not_NaN_values_all_spiked_wells = values_all_spiked_wells[ ~np.isnan(values_all_spiked_wells) ]", 
      "    ", 
      "    ", 
      "    if method == 'read_counts':", 
      "        not_NaN_values_all_spiked_wells = not_NaN_values_all_spiked_wells / 1000", 
      "    ", 
      "    #calculating the sd and mean for spikewells", 
      "    values_all_non_spiked_wells = []", 
      "    #even rows have odd non-spiked wells", 
      "    vales_non_spiked_wells_even_rows = data[::2,1::2].flatten()", 
      "    #odd rows have even non-spiked wells", 
      "    values_non_spiked_wells_odd_rows = data[1::2,::2].flatten()", 
      "    values_all_non_spiked_wells = concatenate( ( vales_non_spiked_wells_even_rows, values_non_spiked_wells_odd_rows))", 
      "    ", 
      "    ", 
      "    #removing the NaN's from the array", 
      "    not_NaN_values_all_non_spiked_wells = values_all_non_spiked_wells[ ~np.isnan(values_all_non_spiked_wells) ]", 
      "    ", 
      "    ", 
      "    ", 
      "    mean_all_spiked_wells = np.mean(not_NaN_values_all_spiked_wells)", 
      "    sd_all_spiked_wells = np.std(not_NaN_values_all_spiked_wells)", 
      "    ", 
      "    mean_all_non_spiked_wells = np.mean(not_NaN_values_all_non_spiked_wells)", 
      "    sd_all_non_spiked_wells = np.std(not_NaN_values_all_non_spiked_wells)", 
      "    ", 
      "    ", 
      "    print 'Spiked Wells %d  : %f +/- %f ' % (len(not_NaN_values_all_spiked_wells),mean_all_spiked_wells,sd_all_spiked_wells)", 
      "    print 'Non Spiked Wells %d  : %f +/- %f ' % (len(not_NaN_values_all_spiked_wells),mean_all_non_spiked_wells,sd_all_non_spiked_wells)", 
      "", 
      "    ", 
      "    for (i,j), val in np.ndenumerate(data):", 
      "        ", 
      "        ## if  i is even we want odd cols to be colored", 
      "        ## if i is odd we want even cols to be colored", 
      "        idx = [ j %2, (j+1) % 2][ i % 2]", 
      "        color = bkg_colors[idx]", 
      "", 
      "        if isnan(val):", 
      "            color = 'grey'", 
      "        ", 
      "        ##for read percent", 
      "        ##change the color fo the cell if it is off from the standard values", 
      "        if method == 'read_percent':", 
      "            ", 
      "            if color == 'yellow':", 
      "                if val > 3.7:", 
      "                    color='red'", 
      "                if val <= 0.4:", 
      "                        color='red'", 
      "                ", 
      "            if color == 'white':", 
      "                if val >= 0.005:", 
      "                    color='green'", 
      "        ", 
      "        ", 
      "        ##for read counts        ", 
      "        ##change the color of the cell if it is off from the standard values", 
      "        ", 
      "        if method == 'read_counts':", 
      "            if color == 'yellow':", 
      "                if val > 600000:", 
      "                    color='red'", 
      "                if val <= 50000:", 
      "                    color='red'", 
      "                ", 
      "            if color == 'white':", 
      "                if val >= 700:", 
      "                    color='green'", 
      "                ", 
      "        #", 
      "        if method == 'read_counts':", 
      "            fmt='{:.0f}'", 
      "            ", 
      "            ", 
      "        tb.add_cell(i,j,width,height,text=fmt.format(val),loc='center',facecolor=color)", 
      "        ", 
      "    ", 
      "    #col labels", 
      "    for j,label in enumerate(   range(  1,(ncols+1)  )  ):", 
      "        #print j, label", 
      "        #tb.add_cell(-1,j, width, height/2, text=label,loc='center',edgecolor=\"none\",facecolor=\"none\")", 
      "        tb.add_cell(nrows,j, width, height/2, text=label,loc='center',edgecolor=\"none\",facecolor=\"none\")", 
      "        ", 
      "     ", 
      "    #row labels", 
      "    for i,label in enumerate(['A','B','C','D','E','F','G','H']):", 
      "        #print j, label", 
      "        tb.add_cell(i,-1, width/2, height, text=label,loc='center',edgecolor=\"none\",facecolor=\"none\")", 
      "    ", 
      "    ", 
      "    text(0,-.02,'Yellow : spiked cells:red(outliers)')", 
      "    text(0,-.06,'White  : non-spiked cells:green(outliers)')", 
      "    ", 
      "    spiked_wells_summary =     'Mean %2.4f +/- %2.4f' % (mean_all_spiked_wells,sd_all_spiked_wells)", 
      "    non_spiked_wells_summary = 'Mean  %2.4f +/- %2.4f' % (mean_all_non_spiked_wells,sd_all_non_spiked_wells)", 
      "    ", 
      "    ax.add_table(tb)", 
      "    ", 
      "    subplot(2,2,3)", 
      "    title('histogram:reads in spiked wells')", 
      "    if method == 'read_counts':", 
      "        xlabel('Read Counts (**in thousands**)')", 
      "    else:", 
      "        xlabel('Read Percent')", 
      "    hist(not_NaN_values_all_spiked_wells, color='darkred',edgecolor='w',bins=25)", 
      "    text(min(not_NaN_values_all_spiked_wells),-1, spiked_wells_summary)", 
      "    grid()", 
      "    ", 
      "    ", 
      "    subplot(2,2,4)", 
      "    title('histogram:reads in non-spiked wells')", 
      "    if method == 'read_counts':", 
      "        xlabel('Read Counts')", 
      "    else:", 
      "        xlabel('Read Percent')", 
      "    hist(not_NaN_values_all_non_spiked_wells, color='k',edgecolor='w',bins=25)", 
      "    text(min(not_NaN_values_all_non_spiked_wells),-3, non_spiked_wells_summary)", 
      "    grid()", 
      "", 
      "    ", 
      "    return (not_NaN_values_all_spiked_wells,not_NaN_values_all_non_spiked_wells,fig)", 
      "    "
     ], 
     "language": "python", 
     "outputs": [], 
     "prompt_number": 5
    }, 
    {
     "cell_type": "code", 
     "collapsed": false, 
     "input": [
      "import pandas", 
      "##get the standard 96 well plate index map", 
      "df_index_well_map = read_csv('/house/homedirs/a/apratap/qc_templates/index_to_well_location_map.txt', ", 
      "                             names =['index_num','rindex'], sep='\\t')", 
      "", 
      "##adding the well location", 
      "df_index_well_map['well'] = df_index_well_map['index_num'].map(index_num_to_well)", 
      "df_index_well_map['row']= df_index_well_map['well'].map(lambda x: int(well_name_to_row.get(x[0])) )", 
      "df_index_well_map['col']= df_index_well_map['well'].map(lambda x: int(x[1:3]) )", 
      "", 
      "df_index_well_map.to_csv('/house/homedirs/a/apratap/qc_templates/index_to_well_location_map_row_cols.txt',sep='\\t',index=False)"
     ], 
     "language": "python", 
     "outputs": [], 
     "prompt_number": 11
    }, 
    {
     "cell_type": "code", 
     "collapsed": false, 
     "input": [
      "import numpy as np", 
      "", 
      "", 
      "#def looper(path,pattern):", 
      "def looper(path,pattern):", 
      "    ", 
      "    percentreads_all_plates_spiked_wells = []", 
      "    percentreads_all_plates_non_spiked_wells = []", 
      "    ", 
      "    readcounts_all_plates_spiked_wells = []", 
      "    readcounts_all_plates_non_spiked_wells = []", 
      "    ", 
      "    ", 
      "    for i,each_dir in enumerate(path):", 
      "        print '%d: %s' % (i+1,each_dir)", 
      "        file_list = get_FilesList(each_dir,pattern)                ", 
      "        data  = create_data_array(file_list)", 
      "", 
      "        #create a pandas data.frame", 
      "        df = DataFrame(data,columns=['lib','fastq','spike','rcount','percent','rindex'])", 
      "        ##merging the well info with the spike-in info", 
      "        fdf = merge(df,df_index_well_map, how='outer')", 
      "", 
      "        ", 
      "        ", 
      "        ###PLOT 1", 
      "        ##create a pivot table for read percent per well", 
      "        plate_spike_percent = pivot_table(fdf,values='percent',rows=['row'],cols=['col'], aggfunc=np.sum, fill_value='NaN')", 
      "        #converting to numpy array", 
      "        plate_spike_percent = array(plate_spike_percent)", 
      "        ##generating the plate plot", 
      "        (not_NaN_values_all_spiked_wells,not_NaN_values_all_non_spiked_wells,figure) = sciclone_plate_plot(plate_spike_percent,method='read_percent',plot_title=each_dir)", 
      "        figure = 'sciclone_stats_read_percent.png'", 
      "        figure_path = each_dir + '/' + figure", 
      "        savefig(figure_path)", 
      "        ##adding all the non NaN values to list", 
      "        percentreads_all_plates_spiked_wells.extend( not_NaN_values_all_spiked_wells )", 
      "        percentreads_all_plates_non_spiked_wells.extend(not_NaN_values_all_non_spiked_wells)", 
      "        ", 
      "        ", 
      "        ", 
      "        ##PLOT 2", 
      "        ##create a pivot table read **count** per well", 
      "        plate_spike_readcount = pivot_table(fdf,values='rcount',rows=['row'],cols=['col'], aggfunc=np.sum, fill_value='NaN')", 
      "        #converting to numpy array", 
      "        plate_spike_readcount = array(plate_spike_readcount)", 
      "        ##generating the plate plot", 
      "        (not_NaN_values_all_spiked_wells,not_NaN_values_all_non_spiked_wells,figure) = sciclone_plate_plot(plate_spike_readcount,method='read_counts',plot_title=each_dir)", 
      "        figure = 'sciclone_stats_read_counts.png'", 
      "        figure_path = each_dir + '/' + figure", 
      "        savefig(figure_path)", 
      "        ", 
      "        ", 
      "        ##adding all the non NaN values to list", 
      "        readcounts_all_plates_spiked_wells.extend( not_NaN_values_all_spiked_wells )", 
      "        readcounts_all_plates_non_spiked_wells.extend( not_NaN_values_all_non_spiked_wells )", 
      "", 
      "        ", 
      "    return (percentreads_all_plates_spiked_wells,percentreads_all_plates_non_spiked_wells,", 
      "            readcounts_all_plates_spiked_wells, readcounts_all_plates_non_spiked_wells);", 
      "        ", 
      "", 
      "pattern = '*.bam.readCounts'", 
      "", 
      "path = [", 
      "        '/house/groupdirs/genetic_analysis/rna/projects/Zea_mays_404736/',", 
      "        '/house/groupdirs/genetic_analysis/rna/projects/Zea_mays_405317/',", 
      "        '/house/groupdirs/genetic_analysis/rna/projects/Zea_mays_405318/',", 
      "        '/house/groupdirs/genetic_analysis/rna/projects/Zea_mays_405319/',", 
      "        '/house/groupdirs/genetic_analysis/rna/projects/Zea_mays_405320/',", 
      "        '/house/groupdirs/genetic_analysis/rna/projects/Zea_mays_407386/',", 
      "       ]", 
      "", 
      "#path = ['/house/groupdirs/QAQC/seq_qc/plants/Panicum_hallii_filipes_FIL2_X_Panicum_hallii_hallii_HAL2_F2s_402619']", 
      "", 
      "(percentreads_all_plates_spiked_wells,percentreads_all_plates_non_spiked_wells,", 
      " readcounts_all_plates_spiked_wells, readcounts_all_plates_non_spiked_wells        )        =   looper(path,pattern)", 
      "", 
      "close()", 
      "", 
      "", 
      "#clf()", 
      "#close()"
     ], 
     "language": "python", 
     "outputs": [
      {
       "output_type": "stream", 
       "stream": "stdout", 
       "text": [
        "1: /house/groupdirs/genetic_analysis/rna/projects/Zea_mays_404736/", 
        "[get_FilesList]: Found 92 files at /house/groupdirs/genetic_analysis/rna/projects/Zea_mays_404736/"
       ]
      }, 
      {
       "output_type": "stream", 
       "stream": "stdout", 
       "text": [
        "", 
        "Read 92 files"
       ]
      }, 
      {
       "output_type": "stream", 
       "stream": "stdout", 
       "text": [
        "", 
        "Spiked Wells 46  : 2.121004 +/- 0.593235 "
       ]
      }, 
      {
       "output_type": "stream", 
       "stream": "stdout", 
       "text": [
        "", 
        "Non Spiked Wells 46  : 0.001730 +/- 0.001365 ", 
        "Spiked Wells 46  : 428.771152 +/- 181.624079 "
       ]
      }, 
      {
       "output_type": "stream", 
       "stream": "stdout", 
       "text": [
        "", 
        "Non Spiked Wells 46  : 401.847826 +/- 376.185602 ", 
        "2: /house/groupdirs/genetic_analysis/rna/projects/Zea_mays_405317/"
       ]
      }, 
      {
       "output_type": "stream", 
       "stream": "stdout", 
       "text": [
        "", 
        "[get_FilesList]: Found 92 files at /house/groupdirs/genetic_analysis/rna/projects/Zea_mays_405317/"
       ]
      }, 
      {
       "output_type": "stream", 
       "stream": "stdout", 
       "text": [
        "", 
        "Read 92 files"
       ]
      }, 
      {
       "output_type": "stream", 
       "stream": "stdout", 
       "text": [
        "", 
        "Spiked Wells 46  : 1.250613 +/- 0.684702 "
       ]
      }, 
      {
       "output_type": "stream", 
       "stream": "stdout", 
       "text": [
        "", 
        "Non Spiked Wells 46  : 0.000478 +/- 0.000425 ", 
        "Spiked Wells 46  : 326.398348 +/- 281.609125 "
       ]
      }, 
      {
       "output_type": "stream", 
       "stream": "stdout", 
       "text": [
        "", 
        "Non Spiked Wells 46  : 154.978261 +/- 140.835626 ", 
        "3: /house/groupdirs/genetic_analysis/rna/projects/Zea_mays_405318/"
       ]
      }, 
      {
       "output_type": "stream", 
       "stream": "stdout", 
       "text": [
        "", 
        "[get_FilesList]: Found 92 files at /house/groupdirs/genetic_analysis/rna/projects/Zea_mays_405318/"
       ]
      }, 
      {
       "output_type": "stream", 
       "stream": "stdout", 
       "text": [
        "", 
        "Read 92 files"
       ]
      }, 
      {
       "output_type": "stream", 
       "stream": "stdout", 
       "text": [
        "", 
        "Spiked Wells 46  : 1.796852 +/- 1.031492 "
       ]
      }, 
      {
       "output_type": "stream", 
       "stream": "stdout", 
       "text": [
        "", 
        "Non Spiked Wells 46  : 0.001441 +/- 0.001380 ", 
        "Spiked Wells 46  : 315.082891 +/- 173.308748 "
       ]
      }, 
      {
       "output_type": "stream", 
       "stream": "stdout", 
       "text": [
        "", 
        "Non Spiked Wells 46  : 242.804348 +/- 165.811787 ", 
        "4: /house/groupdirs/genetic_analysis/rna/projects/Zea_mays_405319/"
       ]
      }, 
      {
       "output_type": "stream", 
       "stream": "stdout", 
       "text": [
        "", 
        "[get_FilesList]: Found 79 files at /house/groupdirs/genetic_analysis/rna/projects/Zea_mays_405319/"
       ]
      }, 
      {
       "output_type": "stream", 
       "stream": "stdout", 
       "text": [
        "", 
        "Read 79 files"
       ]
      }, 
      {
       "output_type": "stream", 
       "stream": "stdout", 
       "text": [
        "", 
        "Spiked Wells 40  : 1.036647 +/- 0.534774 "
       ]
      }, 
      {
       "output_type": "stream", 
       "stream": "stdout", 
       "text": [
        "", 
        "Non Spiked Wells 40  : 0.000728 +/- 0.000756 ", 
        "Spiked Wells 40  : 202.107750 +/- 113.971470 "
       ]
      }, 
      {
       "output_type": "stream", 
       "stream": "stdout", 
       "text": [
        "", 
        "Non Spiked Wells 40  : 160.256410 +/- 141.575334 ", 
        "5: /house/groupdirs/genetic_analysis/rna/projects/Zea_mays_405320/"
       ]
      }, 
      {
       "output_type": "stream", 
       "stream": "stdout", 
       "text": [
        "", 
        "[get_FilesList]: Found 92 files at /house/groupdirs/genetic_analysis/rna/projects/Zea_mays_405320/"
       ]
      }, 
      {
       "output_type": "stream", 
       "stream": "stdout", 
       "text": [
        "", 
        "Read 92 files"
       ]
      }, 
      {
       "output_type": "stream", 
       "stream": "stdout", 
       "text": [
        "", 
        "Spiked Wells 46  : 2.106791 +/- 2.689105 "
       ]
      }, 
      {
       "output_type": "stream", 
       "stream": "stdout", 
       "text": [
        "", 
        "Non Spiked Wells 46  : 0.002539 +/- 0.004959 ", 
        "Spiked Wells 46  : 306.210957 +/- 248.330501 "
       ]
      }, 
      {
       "output_type": "stream", 
       "stream": "stdout", 
       "text": [
        "", 
        "Non Spiked Wells 46  : 432.978261 +/- 427.086616 ", 
        "6: /house/groupdirs/genetic_analysis/rna/projects/Zea_mays_407386/"
       ]
      }, 
      {
       "output_type": "stream", 
       "stream": "stdout", 
       "text": [
        "", 
        "[get_FilesList]: Found 80 files at /house/groupdirs/genetic_analysis/rna/projects/Zea_mays_407386/"
       ]
      }, 
      {
       "output_type": "stream", 
       "stream": "stdout", 
       "text": [
        "", 
        "Read 80 files"
       ]
      }, 
      {
       "output_type": "stream", 
       "stream": "stdout", 
       "text": [
        "", 
        "Spiked Wells 40  : 1.057587 +/- 0.605468 "
       ]
      }, 
      {
       "output_type": "stream", 
       "stream": "stdout", 
       "text": [
        "", 
        "Non Spiked Wells 40  : 0.001267 +/- 0.000909 ", 
        "Spiked Wells 40  : 273.021675 +/- 225.824205 "
       ]
      }, 
      {
       "output_type": "stream", 
       "stream": "stdout", 
       "text": [
        "", 
        "Non Spiked Wells 40  : 327.000000 +/- 374.826693 "
       ]
      }
     ], 
     "prompt_number": 7
    }, 
    {
     "cell_type": "code", 
     "collapsed": false, 
     "input": [
      "close()", 
      "", 
      "", 
      "####plotting the read percentage in all the spike in plates", 
      "", 
      "figure(figsize=(12,10))", 
      "subplot(2,1,1)", 
      "title('Histogram : %reads All Spiked Wells')", 
      "hist(percentreads_all_plates_spiked_wells,bins=100,color=\"darkred\",edgecolor='white')", 
      "grid()", 
      "xlabel('Read Percentage -->')", 
      "", 
      "", 
      "subplot(2,1,2)", 
      "title('Histogram : %reads All Non Spiked Wells')", 
      "hist(percentreads_all_plates_non_spiked_wells,bins=100,color=\"darkgreen\",edgecolor='white')", 
      "grid()", 
      "xlabel('Read Percentage -->')", 
      "", 
      "", 
      "", 
      "", 
      "", 
      "####plotting the read Counts in all the spike in plates", 
      "figure(figsize=(12,10))", 
      "subplot(2,1,1)", 
      "title('Histogram : read Counts All Spiked Wells')", 
      "hist(readcounts_all_plates_spiked_wells,bins=100,color=\"darkred\",edgecolor='white')", 
      "grid()", 
      "xlabel('Read Counts (in thousands) -->')", 
      "", 
      "", 
      "subplot(2,1,2)", 
      "title('Histogram : read Counts All Non Spiked Wells')", 
      "hist(readcounts_all_plates_non_spiked_wells,bins=100,color=\"darkgreen\",edgecolor='white')", 
      "grid()", 
      "xlabel('Read Counts -->')"
     ], 
     "language": "python", 
     "outputs": [
      {
       "output_type": "pyout", 
       "prompt_number": 8, 
       "text": [
        "<matplotlib.text.Text at 0x4abfe50>"
       ]
      }
     ], 
     "prompt_number": 8
    }, 
    {
     "cell_type": "code", 
     "collapsed": true, 
     "input": [
      "h##removing all the spike sequences ", 
      "fdf_rcount_gt_10 = fdf[fdf.rcount > 10]", 
      "spikes_grp_by_well = fdf_rcount_gt_10.groupby(['well'])['spike']", 
      "", 
      "spikes_grp_by_well.describe()['count'] "
     ], 
     "language": "python", 
     "outputs": [], 
     "prompt_number": 351
    }, 
    {
     "cell_type": "code", 
     "collapsed": true, 
     "input": [
      "fdf.to_csv('/house/homedirs/a/apratap/playground/test/spike_in_stats.txt', sep=',',header=True,index=True,index_label='num',na_rep='NaN')"
     ], 
     "language": "python", 
     "outputs": [], 
     "prompt_number": 355
    }
   ]
  }
 ]
}