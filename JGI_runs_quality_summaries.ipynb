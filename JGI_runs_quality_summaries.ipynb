{
 "metadata": {
  "name": "JGI_runs_quality_summaries"
 },
 "nbformat": 3,
 "nbformat_minor": 0,
 "worksheets": [
  {
   "cells": [
    {
     "cell_type": "code",
     "collapsed": false,
     "input": [
      "import pymysql\n",
      "conn = pymysql.connect(host='redwood.jgi-psf.org',user='jazz',passwd='jazz234',db='rqc')\n"
     ],
     "language": "python",
     "metadata": {},
     "outputs": []
    },
    {
     "cell_type": "code",
     "collapsed": false,
     "input": [
      "cur = conn.cursor()"
     ],
     "language": "python",
     "metadata": {},
     "outputs": []
    },
    {
     "cell_type": "code",
     "collapsed": false,
     "input": [
      "cur.execute(\"SELECT * from seq_units limit 10\")"
     ],
     "language": "python",
     "metadata": {},
     "outputs": []
    },
    {
     "cell_type": "code",
     "collapsed": false,
     "input": [
      "cur.execute(\"select run_id,seq_unit_name,run_date from seq_units where run_date >= '2012-09-25' AND run_date < '2012-11-26'\")\n",
      "\n",
      "for r in cur.fetchall():\n",
      "    print r"
     ],
     "language": "python",
     "metadata": {},
     "outputs": []
    },
    {
     "cell_type": "code",
     "collapsed": false,
     "input": [
      "\n",
      "#cur.execute(\"\"\" select su.seq_unit_name, su.run_barcode, su.run_id, su.run_date,su.run_section,m2m.analysis_id,\n",
      "#stats.stats_name,stats.stats_value\n",
      "#from seq_units su, m2m_analysis_seq_unit m2m, rqc_analysis_stats stats\n",
      "#where su.run_date >= '2012-01-01' and su.run_date < '2012-03-10' and su.seq_unit_name REGEXP '^.+[0-9]\\.srf$'\n",
      "#and m2m.seq_unit_name = su.seq_unit_name\n",
      "#and m2m.analysis_id = stats.analysis_id \"\"\")\n"
     ],
     "language": "python",
     "metadata": {},
     "outputs": []
    },
    {
     "cell_type": "code",
     "collapsed": false,
     "input": [
      "import MySQLdb\n",
      "import datetime\n",
      "conn = MySQLdb.connect(host='redwood.jgi-psf.org',user='rqc_ro',passwd='rqcro',db='rqc')\n",
      "cur = conn.cursor()\n"
     ],
     "language": "python",
     "metadata": {},
     "outputs": [],
     "prompt_number": 1
    },
    {
     "cell_type": "code",
     "collapsed": false,
     "input": [
      "def summarize_sequencing_by_runtype(results, instrument_type):\n",
      "    \n",
      "    if results.get(instrument_type,None) is None:\n",
      "        print 'Instrument type : %s not present in the results' % instrument_type\n",
      "        return (None,None)\n",
      "    else:\n",
      "        dates = []\n",
      "        readcounts = []\n",
      "        \n",
      "        if instrument_type == 'HiSeq':\n",
      "            #separate the control lane\n",
      "            hiseq_control_lane_dates = []\n",
      "            hiseq_control_lane_read_counts = []\n",
      "        \n",
      "        \n",
      "        for (count,fastq) in enumerate(results[instrument_type].keys()):\n",
      "            \n",
      "            run_date = results[instrument_type][fastq]['run_date']\n",
      "            if type(run_date) is not datetime.date:\n",
      "                print ('arg must be a datetime.date, not a %s' % type(run_date))\n",
      "                print instrument_type,fastq,run_date,results[instrument_type][fastq]['read count'],results[instrument_type][fastq]['library_name']\n",
      "                print 'Skipping this row of data'\n",
      "                continue\n",
      "\n",
      "            try:\n",
      "                lane_read_count = int(results[instrument_type][fastq]['read count'])\n",
      "            except:\n",
      "                print 'error %s ' % results[instrument_type][fastq]['read count']\n",
      "                print instrument_type,fastq,run_date,results[instrument_type][fastq]['read count'],results[instrument_type][fastq]['library_name']\n",
      "                print 'Skipping this row of data'\n",
      "                continue\n",
      "            \n",
      "            if instrument_type == 'HiSeq' and results[instrument_type][fastq]['library_name'] == 'PhiX' :\n",
      "                #print instrument_type,fastq,run_date,results[instrument_type][fastq]['read count'],results[instrument_type][fastq]['library_name']\n",
      "                hiseq_control_lane_dates.append(run_date)\n",
      "                hiseq_control_lane_read_counts.append(lane_read_count)\n",
      "                continue\n",
      "                \n",
      "            \n",
      "            \n",
      "            \n",
      "            dates.append(run_date)\n",
      "            readcounts.append(lane_read_count)\n",
      "    print 'Processed %d fastq for instrument %s' % (count+1,instrument_type)\n",
      "    \n",
      "    if instrument_type == 'HiSeq':\n",
      "        return (dates,readcounts,hiseq_control_lane_dates,hiseq_control_lane_read_counts)\n",
      "    else:\n",
      "        return (dates,readcounts)\n",
      "\n",
      "\n",
      "\n",
      "\n",
      "\n",
      "user_start_date = \"2011-10-01\"\n",
      "user_end_date = \"2011-12-31\"\n",
      "fmt_start_date = datetime.datetime.strptime(user_start_date.replace(\"'\",''),'%Y-%m-%d').date()\n",
      "fmt_end_date = datetime.datetime.strptime(user_end_date.replace(\"'\",''),'%Y-%m-%d').date()\n",
      "\n",
      "print 'formatted_start_date : %s ' % fmt_start_date\n",
      "print 'formatted_end_date : %s ' % fmt_end_date\n",
      "\n",
      "\n",
      "sql_query = \"\"\"\n",
      "select DISTINCT \n",
      "sps.physical_run_unit_id,spr.physical_run_unit_id,spr.physical_run_id\n",
      ",sps.dt_begin\n",
      ",srun.physical_run_type,srun.platform_name,srun.instrument_type,srun.instrument_name,srun.read1_length,srun.read2_length\n",
      ",ssu.library_name\n",
      ",ssf.file_name\n",
      ",spr.run_section\n",
      ",ras.stats_name,ras.stats_value\n",
      "from \n",
      "sdm.physical_run_unit_status_history sps\n",
      ",sdm.physical_run_unit spr\n",
      ",sdm.physical_run srun\n",
      ",sdm.sdm_seq_unit ssu\n",
      ",sdm.sdm_seq_unit_file ssf\n",
      ",rqc.m2m_analysis_seq_unit rm2m\n",
      ",rqc.rqc_analysis_stats ras\n",
      "where sps.dt_begin >= '%s' and sps.dt_begin < '%s'\n",
      "and sps.physical_run_unit_status_id = 3\n",
      "and sps.physical_run_unit_id = spr.physical_run_unit_id\n",
      "and spr.physical_run_id = srun.physical_run_id\n",
      "and spr.physical_run_unit_id = ssu.physical_run_unit_id\n",
      "and ssu.sdm_seq_unit_id = ssf.sdm_seq_unit_id\n",
      "and ssf.file_type = 'FASTQ'\n",
      "and ssf.file_name REGEXP '^.+[0-9]\\.fastq.gz'\n",
      "and REPLACE (ssf.file_name, '.fastq.gz','.srf') = rm2m.seq_unit_name\n",
      "and rm2m.analysis_id = ras.analysis_id\n",
      "and ras.stats_name = 'read count'\n",
      "\"\"\" % (fmt_start_date,fmt_end_date+datetime.timedelta(days=1))\n",
      "\n",
      "#debug\n",
      "#print sql_query\n",
      "\n",
      "cur.execute(sql_query)\n",
      "results = {}\n",
      "\n",
      "for (count_rows,row) in enumerate(cur.fetchall()):\n",
      "    \n",
      "    #first 3 cols returned by sql are for debugging purposes only\n",
      "    debug_part = row[:3]\n",
      "    data = row[3:]\n",
      "    \n",
      "    #the order of the following is based on sql query\n",
      "    run_date = data[0]\n",
      "    physical_run_type = data[1]\n",
      "    platform = data[2]\n",
      "    instrument_type = data[3]\n",
      "    instrument_name = data[4]\n",
      "    read1_length = data[5]\n",
      "    read2_length = data[6]\n",
      "    library_name = data[7]\n",
      "    seq_unit = data[8]\n",
      "    seq_unit_lane = data[9]\n",
      "    fastq_rqc_stats_name = data[10]\n",
      "    fastq_rqc_stats_value =  data[11]\n",
      "    \n",
      "    \n",
      "    #print run_date,physical_run_type,platform,instrument_type,instrument_name,library_name,seq_unit\n",
      "    \n",
      "    #register new instrument type\n",
      "    if results.get(instrument_type, None) is None:\n",
      "        results[instrument_type] = {}\n",
      "    \n",
      "    #register new fastq\n",
      "    if results[instrument_type].get(seq_unit, None) is None:\n",
      "        results[instrument_type][seq_unit] = {}\n",
      "        results[instrument_type][seq_unit]['run_date'] = run_date.date()\n",
      "        results[instrument_type][seq_unit]['physical_run_type'] = physical_run_type\n",
      "        results[instrument_type][seq_unit]['platform'] = platform\n",
      "        results[instrument_type][seq_unit]['instrument_type'] = instrument_type\n",
      "        results[instrument_type][seq_unit]['instrument_name'] = instrument_name\n",
      "        results[instrument_type][seq_unit]['library_name'] = library_name\n",
      "        results[instrument_type][seq_unit]['lane'] = seq_unit_lane\n",
      "        results[instrument_type][seq_unit][fastq_rqc_stats_name] = fastq_rqc_stats_value\n",
      "    else:\n",
      "        results[instrument_type][seq_unit][fastq_rqc_stats_name] = fastq_rqc_stats_value\n",
      "    \n",
      "\n",
      "count_rows += 1\n",
      "print 'processed %d rows from mysql results' % count_rows\n",
      "(hiseq_dates,hiseq_lanes_read_counts,hiseq_control_lane_dates,hiseq_control_lane_read_counts)=summarize_sequencing_by_runtype(results,'HiSeq')\n",
      "(miseq_dates,miseq_lanes_read_counts)=summarize_sequencing_by_runtype(results,'MiSeq')\n",
      "(ga2seq_dates,ga2seq_lanes_read_counts)=summarize_sequencing_by_runtype(results,'GA2')\n",
      "(ga2xseq_dates,ga2xseq_lanes_read_counts)=summarize_sequencing_by_runtype(results,'GAIIx')\n",
      "\n",
      "\n",
      "\n",
      "\n",
      "\n",
      "\n",
      "\n",
      "\n",
      "    \n",
      "    \n",
      "\n",
      "\n",
      "\n",
      "\n",
      "    "
     ],
     "language": "python",
     "metadata": {},
     "outputs": [
      {
       "output_type": "stream",
       "stream": "stdout",
       "text": [
        "formatted_start_date : 2011-10-01 \n",
        "formatted_end_date : 2011-12-31 \n",
        "processed 504 rows from mysql results"
       ]
      },
      {
       "output_type": "stream",
       "stream": "stdout",
       "text": [
        "\n",
        "Processed 488 fastq for instrument HiSeq\n",
        "Instrument type : MiSeq not present in the results\n",
        "Processed 8 fastq for instrument GA2\n",
        "Instrument type : GAIIx not present in the results\n"
       ]
      }
     ],
     "prompt_number": 42
    },
    {
     "cell_type": "code",
     "collapsed": false,
     "input": [
      "import matplotlib.pyplot as plt\n",
      "from matplotlib.font_manager import FontProperties\n",
      "fig = plt.figure(figsize=(14,12))\n",
      "fig.suptitle('JGI - Sequencing Summary (read counts) \\n Q: %s-%s -- %s-%s' % (fmt_start_date.strftime(\"%B\"),fmt_start_date.year,fmt_end_date.strftime(\"%B\"),fmt_end_date.year), fontsize=20)\n",
      "\n",
      "#TBD\n",
      "#determine the number of rows in plot, based on the number of plots\n",
      "\n",
      "\n",
      "\n",
      "#hiseq\n",
      "ax1 = plt.subplot2grid((3,4),(0,0),colspan=4)\n",
      "plt.plot_date(hiseq_dates,hiseq_lanes_read_counts,color='#33A02C')\n",
      "plt.title(\"HiSeq's Output\")\n",
      "plt.ylabel('#reads per lane(in 100 millions)')\n",
      "plt.plot_date(hiseq_control_lane_dates,hiseq_control_lane_read_counts,color='red',label=\"PhIX-lane\")\n",
      "plt.plot\n",
      "fontP = FontProperties()\n",
      "fontP.set_size('small')\n",
      "plt.legend(loc='upper left',prop=fontP)\n",
      "ax2 = plt.subplot2grid((3,4),(2,0),colspan=2)\n",
      "plt.hist(hiseq_lanes_read_counts,bins=50,color='#33A02C')\n",
      "plt.hist(hiseq_control_lane_read_counts,bins=50,color='red',label=\"PhiX\")\n",
      "plt.xlabel('Hi-Seq read count histogram',fontsize=14)\n",
      "plt.legend(loc='upper left')\n",
      "\n",
      "'''\n",
      "#MiSeq\n",
      "ax7 = plt.subplot2grid((3,4),(1,0),colspan=4,sharex=ax1)\n",
      "plt.plot_date(x=miseq_dates,y=miseq_lanes_read_counts,color='#A6CEE3')\n",
      "plt.title(\"MiSeq's Output\")\n",
      "plt.ylabel('#reads per lane(in 10 millions)')\n",
      "plt.xlabel('Time Line',fontsize=12)\n",
      "ax8 = plt.subplot2grid((3,4),(2,2),colspan=2)\n",
      "plt.hist(miseq_lanes_read_counts,bins=50,color='#A6CEE3')\n",
      "plt.xlabel('Mi-Seq read count histogram',fontsize=14)\n",
      "'''\n",
      "\n",
      "\n",
      "#GAIIx\n",
      "#ax3 = plt.subplot2grid((4,4),(1,0),colspan=3,sharex=ax1)\n",
      "#plt.plot_date(x=ga2xseq_dates,y=ga2xseq_lanes_read_counts,color='#B2DF8A')\n",
      "#plt.title(\"GAIIx's Output\")\n",
      "#ax4 = plt.subplot2grid((4,4),(1,3),colspan=1)\n",
      "#plt.hist(ga2xseq_lanes_read_counts,bins=50,color='#B2DF8A')\n",
      "\n",
      "'''\n",
      "#GA2\n",
      "ax5 = plt.subplot2grid((3,4),(1,0),colspan=4,sharex=ax1)\n",
      "plt.plot_date(x=ga2seq_dates,y=ga2seq_lanes_read_counts,color='#1F78B4')\n",
      "plt.title(\"GAII Output\")\n",
      "ax6 = plt.subplot2grid((3,4),(2,2),colspan=2)\n",
      "plt.hist(ga2seq_lanes_read_counts,bins=50,color='#1F78B4')\n",
      "'''\n",
      "\n",
      "out_file_name = 'JGI_sequencing_summary_%s-%s__%s-%s.png' % (fmt_start_date.strftime(\"%B\"),fmt_start_date.year,fmt_end_date.strftime(\"%B\"),fmt_end_date.year)\n",
      "plt.savefig(out_file_name)\n",
      "\n",
      "plt.show()"
     ],
     "language": "python",
     "metadata": {},
     "outputs": [
      {
       "ename": "IndexError",
       "evalue": "list index out of range",
       "output_type": "pyerr",
       "traceback": [
        "\u001b[1;31m---------------------------------------------------------------------------\u001b[0m\n\u001b[1;31mIndexError\u001b[0m                                Traceback (most recent call last)",
        "\u001b[1;32m<ipython-input-43-221d6e5d7b96>\u001b[0m in \u001b[0;36m<module>\u001b[1;34m()\u001b[0m\n\u001b[0;32m     21\u001b[0m \u001b[0max2\u001b[0m \u001b[1;33m=\u001b[0m \u001b[0mplt\u001b[0m\u001b[1;33m.\u001b[0m\u001b[0msubplot2grid\u001b[0m\u001b[1;33m(\u001b[0m\u001b[1;33m(\u001b[0m\u001b[1;36m3\u001b[0m\u001b[1;33m,\u001b[0m\u001b[1;36m4\u001b[0m\u001b[1;33m)\u001b[0m\u001b[1;33m,\u001b[0m\u001b[1;33m(\u001b[0m\u001b[1;36m2\u001b[0m\u001b[1;33m,\u001b[0m\u001b[1;36m0\u001b[0m\u001b[1;33m)\u001b[0m\u001b[1;33m,\u001b[0m\u001b[0mcolspan\u001b[0m\u001b[1;33m=\u001b[0m\u001b[1;36m2\u001b[0m\u001b[1;33m)\u001b[0m\u001b[1;33m\u001b[0m\u001b[0m\n\u001b[0;32m     22\u001b[0m \u001b[0mplt\u001b[0m\u001b[1;33m.\u001b[0m\u001b[0mhist\u001b[0m\u001b[1;33m(\u001b[0m\u001b[0mhiseq_lanes_read_counts\u001b[0m\u001b[1;33m,\u001b[0m\u001b[0mbins\u001b[0m\u001b[1;33m=\u001b[0m\u001b[1;36m50\u001b[0m\u001b[1;33m,\u001b[0m\u001b[0mcolor\u001b[0m\u001b[1;33m=\u001b[0m\u001b[1;34m'#33A02C'\u001b[0m\u001b[1;33m)\u001b[0m\u001b[1;33m\u001b[0m\u001b[0m\n\u001b[1;32m---> 23\u001b[1;33m \u001b[0mplt\u001b[0m\u001b[1;33m.\u001b[0m\u001b[0mhist\u001b[0m\u001b[1;33m(\u001b[0m\u001b[0mhiseq_control_lane_read_counts\u001b[0m\u001b[1;33m,\u001b[0m\u001b[0mbins\u001b[0m\u001b[1;33m=\u001b[0m\u001b[1;36m50\u001b[0m\u001b[1;33m,\u001b[0m\u001b[0mcolor\u001b[0m\u001b[1;33m=\u001b[0m\u001b[1;34m'red'\u001b[0m\u001b[1;33m,\u001b[0m\u001b[0mlabel\u001b[0m\u001b[1;33m=\u001b[0m\u001b[1;34m\"PhiX\"\u001b[0m\u001b[1;33m)\u001b[0m\u001b[1;33m\u001b[0m\u001b[0m\n\u001b[0m\u001b[0;32m     24\u001b[0m \u001b[0mplt\u001b[0m\u001b[1;33m.\u001b[0m\u001b[0mxlabel\u001b[0m\u001b[1;33m(\u001b[0m\u001b[1;34m'Hi-Seq read count histogram'\u001b[0m\u001b[1;33m,\u001b[0m\u001b[0mfontsize\u001b[0m\u001b[1;33m=\u001b[0m\u001b[1;36m14\u001b[0m\u001b[1;33m)\u001b[0m\u001b[1;33m\u001b[0m\u001b[0m\n\u001b[0;32m     25\u001b[0m \u001b[0mplt\u001b[0m\u001b[1;33m.\u001b[0m\u001b[0mlegend\u001b[0m\u001b[1;33m(\u001b[0m\u001b[0mloc\u001b[0m\u001b[1;33m=\u001b[0m\u001b[1;34m'upper left'\u001b[0m\u001b[1;33m)\u001b[0m\u001b[1;33m\u001b[0m\u001b[0m\n",
        "\u001b[1;32m/jgi/tools/misc_software/python/2.7/lib/python2.7/site-packages/matplotlib/pyplot.pyc\u001b[0m in \u001b[0;36mhist\u001b[1;34m(x, bins, range, normed, weights, cumulative, bottom, histtype, align, orientation, rwidth, log, color, label, hold, **kwargs)\u001b[0m\n\u001b[0;32m   2330\u001b[0m         \u001b[0max\u001b[0m\u001b[1;33m.\u001b[0m\u001b[0mhold\u001b[0m\u001b[1;33m(\u001b[0m\u001b[0mhold\u001b[0m\u001b[1;33m)\u001b[0m\u001b[1;33m\u001b[0m\u001b[0m\n\u001b[0;32m   2331\u001b[0m     \u001b[1;32mtry\u001b[0m\u001b[1;33m:\u001b[0m\u001b[1;33m\u001b[0m\u001b[0m\n\u001b[1;32m-> 2332\u001b[1;33m         \u001b[0mret\u001b[0m \u001b[1;33m=\u001b[0m \u001b[0max\u001b[0m\u001b[1;33m.\u001b[0m\u001b[0mhist\u001b[0m\u001b[1;33m(\u001b[0m\u001b[0mx\u001b[0m\u001b[1;33m,\u001b[0m \u001b[0mbins\u001b[0m\u001b[1;33m,\u001b[0m \u001b[0mrange\u001b[0m\u001b[1;33m,\u001b[0m \u001b[0mnormed\u001b[0m\u001b[1;33m,\u001b[0m \u001b[0mweights\u001b[0m\u001b[1;33m,\u001b[0m \u001b[0mcumulative\u001b[0m\u001b[1;33m,\u001b[0m \u001b[0mbottom\u001b[0m\u001b[1;33m,\u001b[0m \u001b[0mhisttype\u001b[0m\u001b[1;33m,\u001b[0m \u001b[0malign\u001b[0m\u001b[1;33m,\u001b[0m \u001b[0morientation\u001b[0m\u001b[1;33m,\u001b[0m \u001b[0mrwidth\u001b[0m\u001b[1;33m,\u001b[0m \u001b[0mlog\u001b[0m\u001b[1;33m,\u001b[0m \u001b[0mcolor\u001b[0m\u001b[1;33m,\u001b[0m \u001b[0mlabel\u001b[0m\u001b[1;33m,\u001b[0m \u001b[1;33m**\u001b[0m\u001b[0mkwargs\u001b[0m\u001b[1;33m)\u001b[0m\u001b[1;33m\u001b[0m\u001b[0m\n\u001b[0m\u001b[0;32m   2333\u001b[0m         \u001b[0mdraw_if_interactive\u001b[0m\u001b[1;33m(\u001b[0m\u001b[1;33m)\u001b[0m\u001b[1;33m\u001b[0m\u001b[0m\n\u001b[0;32m   2334\u001b[0m     \u001b[1;32mfinally\u001b[0m\u001b[1;33m:\u001b[0m\u001b[1;33m\u001b[0m\u001b[0m\n",
        "\u001b[1;32m/jgi/tools/misc_software/python/2.7/lib/python2.7/site-packages/matplotlib/axes.pyc\u001b[0m in \u001b[0;36mhist\u001b[1;34m(self, x, bins, range, normed, weights, cumulative, bottom, histtype, align, orientation, rwidth, log, color, label, **kwargs)\u001b[0m\n\u001b[0;32m   7572\u001b[0m         \u001b[1;31m# Massage 'x' for processing.\u001b[0m\u001b[1;33m\u001b[0m\u001b[1;33m\u001b[0m\u001b[0m\n\u001b[0;32m   7573\u001b[0m         \u001b[1;31m# NOTE: Be sure any changes here is also done below to 'weights'\u001b[0m\u001b[1;33m\u001b[0m\u001b[1;33m\u001b[0m\u001b[0m\n\u001b[1;32m-> 7574\u001b[1;33m         \u001b[1;32mif\u001b[0m \u001b[0misinstance\u001b[0m\u001b[1;33m(\u001b[0m\u001b[0mx\u001b[0m\u001b[1;33m,\u001b[0m \u001b[0mnp\u001b[0m\u001b[1;33m.\u001b[0m\u001b[0mndarray\u001b[0m\u001b[1;33m)\u001b[0m \u001b[1;32mor\u001b[0m \u001b[1;32mnot\u001b[0m \u001b[0miterable\u001b[0m\u001b[1;33m(\u001b[0m\u001b[0mx\u001b[0m\u001b[1;33m[\u001b[0m\u001b[1;36m0\u001b[0m\u001b[1;33m]\u001b[0m\u001b[1;33m)\u001b[0m\u001b[1;33m:\u001b[0m\u001b[1;33m\u001b[0m\u001b[0m\n\u001b[0m\u001b[0;32m   7575\u001b[0m             \u001b[1;31m# TODO: support masked arrays;\u001b[0m\u001b[1;33m\u001b[0m\u001b[1;33m\u001b[0m\u001b[0m\n\u001b[0;32m   7576\u001b[0m             \u001b[0mx\u001b[0m \u001b[1;33m=\u001b[0m \u001b[0mnp\u001b[0m\u001b[1;33m.\u001b[0m\u001b[0masarray\u001b[0m\u001b[1;33m(\u001b[0m\u001b[0mx\u001b[0m\u001b[1;33m)\u001b[0m\u001b[1;33m\u001b[0m\u001b[0m\n",
        "\u001b[1;31mIndexError\u001b[0m: list index out of range"
       ]
      }
     ],
     "prompt_number": 43
    },
    {
     "cell_type": "code",
     "collapsed": false,
     "input": [
      "print results.keys()"
     ],
     "language": "python",
     "metadata": {},
     "outputs": []
    },
    {
     "cell_type": "code",
     "collapsed": false,
     "input": [
      "plt.xlabel?"
     ],
     "language": "python",
     "metadata": {},
     "outputs": []
    },
    {
     "cell_type": "code",
     "collapsed": false,
     "input": [
      "c = col.ColorConverter()"
     ],
     "language": "python",
     "metadata": {},
     "outputs": []
    },
    {
     "cell_type": "code",
     "collapsed": false,
     "input": [
      "c.to_rgb('#A6CEE3')"
     ],
     "language": "python",
     "metadata": {},
     "outputs": []
    },
    {
     "cell_type": "code",
     "collapsed": false,
     "input": [
      "fig = plt.figure(figsize=(14,12))"
     ],
     "language": "python",
     "metadata": {},
     "outputs": []
    },
    {
     "cell_type": "code",
     "collapsed": false,
     "input": [
      "fig.suptitle?"
     ],
     "language": "python",
     "metadata": {},
     "outputs": []
    },
    {
     "cell_type": "code",
     "collapsed": false,
     "input": [
      "from datetime import date\n",
      "\n",
      "print dir(date(2012,12,23))"
     ],
     "language": "python",
     "metadata": {},
     "outputs": [
      {
       "output_type": "stream",
       "stream": "stdout",
       "text": [
        "['__add__', '__class__', '__delattr__', '__doc__', '__eq__', '__format__', '__ge__', '__getattribute__', '__gt__', '__hash__', '__init__', '__le__', '__lt__', '__ne__', '__new__', '__radd__', '__reduce__', '__reduce_ex__', '__repr__', '__rsub__', '__setattr__', '__sizeof__', '__str__', '__sub__', '__subclasshook__', 'ctime', 'day', 'fromordinal', 'fromtimestamp', 'isocalendar', 'isoformat', 'isoweekday', 'max', 'min', 'month', 'replace', 'resolution', 'strftime', 'timetuple', 'today', 'toordinal', 'weekday', 'year']\n"
       ]
      }
     ],
     "prompt_number": 36
    },
    {
     "cell_type": "code",
     "collapsed": false,
     "input": [
      "print datetime.datetime.strptime(user_start_date.replace(\"'\",''),'%Y-%m-%d').date() + datetime.timedelta(days=1)"
     ],
     "language": "python",
     "metadata": {},
     "outputs": [
      {
       "output_type": "stream",
       "stream": "stdout",
       "text": [
        "2012-07-02\n"
       ]
      }
     ],
     "prompt_number": 6
    },
    {
     "cell_type": "code",
     "collapsed": false,
     "input": [
      "plt.legend?"
     ],
     "language": "python",
     "metadata": {},
     "outputs": [],
     "prompt_number": 26
    },
    {
     "cell_type": "code",
     "collapsed": false,
     "input": [],
     "language": "python",
     "metadata": {},
     "outputs": []
    }
   ],
   "metadata": {}
  }
 ]
}