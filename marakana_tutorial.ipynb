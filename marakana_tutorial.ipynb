{
 "metadata": {
  "name": "marakana_tutorial"
 }, 
 "nbformat": 2, 
 "worksheets": [
  {
   "cells": [
    {
     "cell_type": "code", 
     "collapsed": false, 
     "input": [
      "char = {'Abhi':'Pratap'}", 
      "", 
      "def get_char(role):", 
      "    try:", 
      "        name = char['Abhishek']", 
      "    except KeyError, e:", 
      "        print 'This dict has no value for key entered'", 
      "        ", 
      "", 
      "get_char('Abhi')"
     ], 
     "language": "python", 
     "outputs": [
      {
       "output_type": "stream", 
       "stream": "stdout", 
       "text": [
        "This dict has no value for key entered"
       ]
      }
     ], 
     "prompt_number": 4
    }, 
    {
     "cell_type": "code", 
     "collapsed": true, 
     "input": [], 
     "language": "python", 
     "outputs": [], 
     "prompt_number": "&nbsp;"
    }
   ]
  }
 ]
}