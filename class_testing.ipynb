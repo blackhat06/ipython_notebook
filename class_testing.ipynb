{
 "metadata": {
  "name": "class_testing"
 }, 
 "nbformat": 2, 
 "worksheets": [
  {
   "cells": [
    {
     "cell_type": "code", 
     "collapsed": true, 
     "input": [
      "class Point(object):", 
      "    \"\"\"Example point class\"\"\"", 
      "    ", 
      "    ", 
      "    def __init__(self,x=0,y=0):", 
      "        #Note that self exists by now", 
      "        ", 
      "        ", 
      "        ", 
      "        ", 
      "        "
     ], 
     "language": "python", 
     "outputs": []
    }
   ]
  }
 ]
}