{
 "metadata": {
  "name": "matplotlib_trial"
 }, 
 "nbformat": 2, 
 "worksheets": [
  {
   "cells": [
    {
     "cell_type": "code", 
     "collapsed": true, 
     "input": [
      "import matplotlib.pyplot as plt", 
      "import numpy as np", 
      "", 
      "", 
      "nrows,ncols = 8,12", 
      "image = np.zeros(nrows*ncols)", 
      "", 
      "#image[::2] = np.random.random((nrows*ncols))", 
      "", 
      "image = image.reshape((nrows,ncols))"
     ], 
     "language": "python", 
     "outputs": [], 
     "prompt_number": 9
    }, 
    {
     "cell_type": "code", 
     "collapsed": true, 
     "input": [], 
     "language": "python", 
     "outputs": [], 
     "prompt_number": "&nbsp;"
    }
   ]
  }
 ]
}